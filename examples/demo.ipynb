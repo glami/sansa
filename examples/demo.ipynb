{
 "cells": [
  {
   "cell_type": "markdown",
   "metadata": {
    "id": "u43-gmyjJ8vY"
   },
   "source": [
    "# 0. Setup"
   ]
  },
  {
   "cell_type": "code",
   "execution_count": 29,
   "metadata": {
    "ExecuteTime": {
     "end_time": "2024-04-15T20:29:48.862659Z",
     "start_time": "2024-04-15T20:29:48.859057Z"
    },
    "colab": {
     "base_uri": "https://localhost:8080/"
    },
    "id": "mTIYba4ZJhgw",
    "outputId": "58c6f8ce-a905-4a05-acd2-984faeae1e5c"
   },
   "outputs": [
    {
     "name": "stdout",
     "output_type": "stream",
     "text": [
      "Project root: /Users/masp/codes/sansa/examples\n"
     ]
    }
   ],
   "source": [
    "from abc import ABC, abstractmethod\n",
    "import logging\n",
    "import os\n",
    "\n",
    "import numpy as np\n",
    "import scipy.sparse as sp\n",
    "import pandas as pd\n",
    "import pickle\n",
    "from matplotlib import pyplot as plt\n",
    "import ipyplot\n",
    "from IPython.display import clear_output\n",
    "from sklearn.preprocessing import LabelEncoder\n",
    "\n",
    "url_pattern = \"http://images.amazon.com/images/P/ASIN.01._SCLZZZZZZZ_.jpg\"\n",
    "\n",
    "project_root = os.getcwd()\n",
    "print(f\"Project root: {project_root}\")\n",
    "\n",
    "logger = logging.getLogger(__name__)\n",
    "logging.basicConfig(level=logging.INFO)\n",
    "\n",
    "MAX_IMAGES = 10\n",
    "MAX_IMAGES_REC = 40\n",
    "IMG_WIDTH = 150"
   ]
  },
  {
   "cell_type": "markdown",
   "metadata": {
    "id": "ALV8mZF0lnWj"
   },
   "source": [
    "# 1. Dataset"
   ]
  },
  {
   "cell_type": "code",
   "execution_count": 30,
   "metadata": {
    "ExecuteTime": {
     "end_time": "2024-04-15T20:29:48.892151Z",
     "start_time": "2024-04-15T20:29:48.889509Z"
    },
    "collapsed": false
   },
   "outputs": [],
   "source": [
    "# download Amazon Book dataset\n",
    "dataset_path = \"datasets/data/amazonbook\"\n",
    "if not os.path.exists(dataset_path):\n",
    "    os.makedirs(dataset_path)\n",
    "\n",
    "# uncommend below to download Amazon Book dataset (https://github.com/kuandeng/LightGCN/tree/master/Data/amazon-book)\n",
    "# os.chdir(\"/\".join([project_root, dataset_path]))\n",
    "# !wget https://raw.githubusercontent.com/kuandeng/LightGCN/master/Data/amazon-book/item_list.txt\n",
    "# !wget https://raw.githubusercontent.com/kuandeng/LightGCN/master/Data/amazon-book/test.txt\n",
    "# !wget https://raw.githubusercontent.com/kuandeng/LightGCN/master/Data/amazon-book/train.txt\n",
    "# !wget https://raw.githubusercontent.com/kuandeng/LightGCN/master/Data/amazon-book/user_list.txt\n",
    "# os.chdir(project_root)"
   ]
  },
  {
   "cell_type": "code",
   "execution_count": 31,
   "metadata": {
    "ExecuteTime": {
     "end_time": "2024-04-15T20:29:48.918814Z",
     "start_time": "2024-04-15T20:29:48.893467Z"
    },
    "collapsed": false
   },
   "outputs": [],
   "source": [
    "# classes for dataset and dataset split\n",
    "\n",
    "\n",
    "class DatasetSplit:\n",
    "    \"\"\"Class for storing and manipulating implicit feedback data.\"\"\"\n",
    "\n",
    "    def __init__(\n",
    "        self,\n",
    "        df: pd.DataFrame,\n",
    "        item_encoder: LabelEncoder,\n",
    "        extract_targets: bool = False,\n",
    "        target_proportion: float = 0.2,\n",
    "        newest: bool = True,\n",
    "    ) -> None:\n",
    "        # Fit user encoder and transform user IDs.\n",
    "        pd.options.mode.chained_assignment = None  # suppress irrelevant warning\n",
    "        self.user_encoder = LabelEncoder()\n",
    "        df.user_id = self.user_encoder.fit_transform(df.user_id.values)\n",
    "        pd.options.mode.chained_assignment = \"warn\"  # reset to default\n",
    "\n",
    "        self.item_encoder = item_encoder\n",
    "        self.data, self.targets = extract_targets_from_split(\n",
    "            df=df,\n",
    "            extract_targets=extract_targets,\n",
    "            target_proportion=target_proportion,\n",
    "            newest=newest,\n",
    "        )\n",
    "        self.n_users = len(self.user_encoder.classes_)\n",
    "        self.n_items = len(self.item_encoder.classes_)\n",
    "        self.n_ratings = self.data.shape[0]\n",
    "\n",
    "    @property\n",
    "    def shape(self) -> tuple[int, int]:\n",
    "        \"\"\"Return the shape of the dataset.\"\"\"\n",
    "        return (self.n_users, self.n_items)\n",
    "\n",
    "    @property\n",
    "    def sparsity(self) -> float:\n",
    "        \"\"\"Return the sparsity of the dataset.\"\"\"\n",
    "        if (self.n_users == 0) or (self.n_items == 0):\n",
    "            return 0\n",
    "        return 1 - self.n_ratings / (self.n_users * self.n_items)\n",
    "\n",
    "    @property\n",
    "    def density(self) -> float:\n",
    "        \"\"\"Return the density of the dataset.\"\"\"\n",
    "        return 1 - self.sparsity\n",
    "\n",
    "    def get_csr_matrix(self) -> sp.csr_matrix:\n",
    "        df = self.data\n",
    "        return df_to_csr(df=df, shape=(self.n_users, self.n_items))\n",
    "\n",
    "    def get_csc_t_matrix(self) -> sp.csr_matrix:\n",
    "        return self.get_csr_matrix().T\n",
    "\n",
    "    def get_rated_items(self, user_ids: list[int]) -> pd.DataFrame:\n",
    "        user_ids = self.user_encoder.transform(user_ids)\n",
    "        rated_items_df = self.data[self.data.user_id.isin(user_ids)]\n",
    "\n",
    "        return rated_items_df\n",
    "\n",
    "    def get_target_items(self, user_ids: list[int]) -> pd.DataFrame:\n",
    "        user_ids = self.user_encoder.transform(user_ids)\n",
    "        targets_df = self.targets[self.targets.user_id.isin(user_ids)]\n",
    "\n",
    "        return targets_df\n",
    "\n",
    "    def info(self) -> str:\n",
    "        return f\"n_users = {self.n_users}, n_items = {self.n_items}, n_ratings = {self.n_ratings}, sparsity = {self.sparsity:.2%}\"\n",
    "\n",
    "    def item_item_info(self) -> str:\n",
    "        return f\"shape = ({self.n_items},{self.n_items})\"\n",
    "\n",
    "    def save(self, path: str) -> None:\n",
    "        \"\"\"Saves dataset split to pickle\"\"\"\n",
    "        with open(path, \"wb\") as f:\n",
    "            pickle.dump(self, f)\n",
    "\n",
    "    @classmethod\n",
    "    def load(cls, path: str) -> \"DatasetSplit\":\n",
    "        \"\"\"Loads dataset split from pickle\"\"\"\n",
    "        with open(path, \"rb\") as f:\n",
    "            return pickle.load(f)\n",
    "\n",
    "\n",
    "class Dataset(ABC):\n",
    "    def __init__(\n",
    "        self,\n",
    "        name: str,\n",
    "        folder: str = \"./data\",\n",
    "        processed_file: str = \"ratings.parquet\",\n",
    "    ):\n",
    "        self.name = name\n",
    "        self.folder = folder\n",
    "        self.processed_file = processed_file\n",
    "\n",
    "        self.path = os.path.join(self.folder, self.name)\n",
    "        self.dataset: pd.DataFrame = None\n",
    "        self.processed: bool = False\n",
    "\n",
    "    def _read_raw_data(self) -> None:\n",
    "        \"\"\"\n",
    "        Loads raw data and stores it in self.dataset.\n",
    "        \"\"\"\n",
    "        ...\n",
    "\n",
    "    @abstractmethod\n",
    "    def _unify_dataset(self) -> None:\n",
    "        \"\"\"\n",
    "        Unifies the dataset to a common format.\n",
    "        A common format is a dataframe with the following columns:\n",
    "        - user_id: int64\n",
    "        - item_id: int64\n",
    "        - feedback: float64\n",
    "        - timestamp: datetime64\n",
    "        \"\"\"\n",
    "        ...\n",
    "\n",
    "    @abstractmethod\n",
    "    def _preprocess_data(self) -> None:\n",
    "        \"\"\"\n",
    "        Preprocesses the dataset according to the experiment requirements.\n",
    "        Sets self.preprocessed = True if the dataset was successfully preprocessed.\n",
    "        \"\"\"\n",
    "        ...\n",
    "\n",
    "    def save_processed(self) -> None:\n",
    "        self.dataset.to_parquet(f\"{self.path}/{self.processed_file}\", index=False)\n",
    "\n",
    "    def load_processed(self) -> None:\n",
    "        \"\"\"\n",
    "        Load a processed dataset from a parquet file.\n",
    "        \"\"\"\n",
    "        logger.info(f\"Loading processed dataset {self.path}/{self.processed_file}.\")\n",
    "        self.dataset = pd.read_parquet(f\"{self.path}/{self.processed_file}\")\n",
    "        self.processed = True\n",
    "\n",
    "    def preprocess_and_save(self) -> None:\n",
    "        logger.info(f\"Creating new dataset {self.name}:\")\n",
    "        logger.info(f\"Loading raw dataset files from {self.path}/ ...\")\n",
    "        self._read_raw_data()\n",
    "        logger.info(\"Unifying dataset format...\")\n",
    "        self._unify_dataset()\n",
    "        logger.info(\"Preprocessing dataset...\")\n",
    "        self._preprocess_data()\n",
    "        logger.info(f\"Saving processed dataset {self.path}/{self.processed_file}...\")\n",
    "        self.save_processed()\n",
    "\n",
    "    @classmethod\n",
    "    def from_config(cls, config: dict) -> \"Dataset\":\n",
    "        \"\"\"Instantiate a dataset according to the config.\"\"\"\n",
    "        # Get config parameters.\n",
    "        dataset_name = config[\"name\"]  # must be specified\n",
    "        folder = config.get(\"folder\", \"datasets/data\")\n",
    "\n",
    "        # Instantiate dataset.\n",
    "        processed_file = \"dataset.parquet\"\n",
    "        dataset = cls(\n",
    "            name=dataset_name,\n",
    "            folder=folder,\n",
    "            processed_file=processed_file,\n",
    "        )\n",
    "\n",
    "        # Check if processed dataset is available and rewrite is not requested.\n",
    "        f = os.path.join(dataset.path, dataset.processed_file)\n",
    "        if os.path.isfile(f) and not config.get(\"rewrite\", False):\n",
    "            dataset.load_processed()\n",
    "            return dataset\n",
    "\n",
    "        # Preprocess raw data and save dataset.\n",
    "        dataset.preprocess_and_save()\n",
    "        return dataset\n",
    "\n",
    "    def create_splits(self, config: dict) -> tuple[DatasetSplit, DatasetSplit, DatasetSplit]:\n",
    "        \"\"\"\n",
    "        Creates train, validation and test split objects from the dataset.\n",
    "        Split is done horizontally, i.e. users are split into train, validation and test users.\n",
    "        Targets are extracted from validation and test users, train users only if needed (e.g. EASE-like models do not need train targets).\n",
    "        \"\"\"\n",
    "        # To continue, the dataset must be processed.\n",
    "        if not self.processed:\n",
    "            raise ValueError(\"Dataset not processed yet.\")\n",
    "\n",
    "        # Get config parameters.\n",
    "        n_val_users = config.get(\"n_val_users\", 10000)\n",
    "        n_test_users = config.get(\"n_test_users\", 10000)\n",
    "        test_target_proportion = config[\"target_proportion\"]  # must be specified\n",
    "        val_target_proportion = config.get(\"val_target_proportion\", test_target_proportion)\n",
    "        train_target_proportion = config.get(\"train_target_proportion\", test_target_proportion)\n",
    "        newest = config.get(\"targets_newest\", False)\n",
    "        seed = config.get(\"seed\", 42)\n",
    "        extract_train_targets = config.get(\"extract_train_targets\", False)\n",
    "\n",
    "        # Fit item encoder and transform item IDs.\n",
    "        item_encoder = LabelEncoder().fit(self.dataset[\"item_id\"])\n",
    "        self.dataset[\"item_id\"] = item_encoder.transform(self.dataset[\"item_id\"])\n",
    "\n",
    "        # Shuffle dataset.\n",
    "        self.dataset = self.dataset.sample(frac=1, random_state=seed)\n",
    "\n",
    "        # Split dataset.\n",
    "        train_df, val_df, test_df = horizontal_split(self.dataset, n_val_users, n_test_users, seed)\n",
    "\n",
    "        # Log split information.\n",
    "        logger.info(f\"Dataframe lengths | train_df: {len(train_df)}, val_df: {len(val_df)}, test_df: {len(test_df)}\")\n",
    "\n",
    "        # Create split objects.\n",
    "        train_split = DatasetSplit(\n",
    "            train_df,\n",
    "            item_encoder,\n",
    "            extract_targets=extract_train_targets,\n",
    "            target_proportion=train_target_proportion,  # only used if extract_targets\n",
    "            newest=newest,  # only used if extract_targets\n",
    "        )\n",
    "        val_split = DatasetSplit(\n",
    "            val_df,\n",
    "            item_encoder,\n",
    "            extract_targets=True,\n",
    "            target_proportion=val_target_proportion,\n",
    "            newest=newest,\n",
    "        )\n",
    "        test_split = DatasetSplit(\n",
    "            test_df,\n",
    "            item_encoder,\n",
    "            extract_targets=True,\n",
    "            target_proportion=test_target_proportion,\n",
    "            newest=newest,\n",
    "        )\n",
    "\n",
    "        # Log dataset information.\n",
    "        logger.info(msg=\"Splits information:\")\n",
    "        logger.info(msg=f\"Train split info | {train_split.info()}\")\n",
    "        logger.info(msg=f\"Validation split info | {val_split.info()}\")\n",
    "        logger.info(msg=f\"Test split info | {test_split.info()}\")\n",
    "\n",
    "        return train_split, val_split, test_split\n",
    "\n",
    "    def info(self) -> dict | None:\n",
    "        \"\"\"\n",
    "        Returns dict of information about the dataset.\n",
    "        \"\"\"\n",
    "        dataset_name_str = f\"Dataset: {self.name}\\n\"\n",
    "        if self.dataset is None:\n",
    "            logger.warning(dataset_name_str + \"Not loaded yet.\")\n",
    "            return None\n",
    "        num_users = self.dataset.user_id.nunique()\n",
    "        num_items = self.dataset.item_id.nunique()\n",
    "\n",
    "        info_dict = {\n",
    "            \"Dataset name\": self.name,\n",
    "            \"Number of users\": num_users,\n",
    "            \"Number of items\": num_items,\n",
    "            \"Number of interactions\": len(self.dataset),\n",
    "            \"Interaction density\": f\"{len(self.dataset) / (num_users * num_items):.4%}\",\n",
    "        }\n",
    "\n",
    "        return info_dict\n",
    "\n",
    "\n",
    "def df_to_csr(df: pd.DataFrame, shape: tuple[int, int]) -> sp.csr_matrix:\n",
    "    \"\"\"Returns a sparse matrix from a dataframe.\"\"\"\n",
    "    return sp.coo_matrix(\n",
    "        (df.feedback, (df.user_id, df.item_id)),\n",
    "        shape=shape,\n",
    "        dtype=np.float64,\n",
    "    ).tocsr()\n",
    "\n",
    "\n",
    "def extract_targets_from_split(\n",
    "    df: pd.DataFrame,\n",
    "    extract_targets: bool,\n",
    "    target_proportion: float = 0.2,\n",
    "    newest: bool = True,\n",
    ") -> tuple[pd.DataFrame, pd.DataFrame]:\n",
    "    \"\"\"Extracts targets from a (horizontal) split of a dataframe.\"\"\"\n",
    "    if not extract_targets:\n",
    "        return df, None\n",
    "    tmp_df = df.copy()\n",
    "    if newest:\n",
    "        tmp_df.sort_values(by=[\"timestamp\"], ascending=[False], inplace=True)\n",
    "    user_rating_counts = tmp_df[\"user_id\"].value_counts()\n",
    "    target_sizes = np.floor(target_proportion * user_rating_counts).astype(int)\n",
    "    user_id_groups = tmp_df.groupby(\"user_id\", group_keys=True)\n",
    "    inputs_df = user_id_groups.apply(lambda x: x[target_sizes[x.name] :]).reset_index(drop=True)\n",
    "    target_df = user_id_groups.apply(lambda x: x[: target_sizes[x.name]]).reset_index(drop=True)\n",
    "    return inputs_df, target_df\n",
    "\n",
    "\n",
    "def extract_marked_targets_from_split(\n",
    "    df: pd.DataFrame,\n",
    ") -> tuple[pd.DataFrame, pd.DataFrame]:\n",
    "    \"\"\"Extracts marked targets from a split of a dataframe.\"\"\"\n",
    "    tmp_df = df.copy()\n",
    "    inputs_df = tmp_df[~tmp_df[\"target\"]]\n",
    "    target_df = tmp_df[tmp_df[\"target\"]]\n",
    "    return inputs_df, target_df\n",
    "\n",
    "\n",
    "class FixedVerticalDatasetSplit(DatasetSplit):\n",
    "    \"\"\"\n",
    "    Class preserving fixed splits, for storing and manipulating implicit feedback data.\n",
    "    \"\"\"\n",
    "\n",
    "    def __init__(\n",
    "        self,\n",
    "        df: pd.DataFrame,\n",
    "        item_encoder: LabelEncoder,\n",
    "    ) -> None:\n",
    "        self.item_encoder = item_encoder\n",
    "        # df has column \"target\" with 1 if item is target, 0 otherwise\n",
    "        self.data, self.targets = extract_marked_targets_from_split(df=df)\n",
    "\n",
    "        # Find users with empty targets and remove them from data.\n",
    "        users_with_empty_targets = list(set(self.data.user_id) - set(self.targets.user_id))\n",
    "        logger.info(f\"Removing users {users_with_empty_targets} from test inputs.\")\n",
    "        self.data = self.data[self.data.user_id.isin(self.targets.user_id)]\n",
    "        # Fit user encoder and transform user IDs.\n",
    "        pd.options.mode.chained_assignment = None  # suppress irrelevant warning\n",
    "        self.user_encoder = LabelEncoder()\n",
    "        self.data.user_id = self.user_encoder.fit_transform(self.data.user_id.values)\n",
    "        self.targets.user_id = self.user_encoder.transform(self.targets.user_id.values)\n",
    "        pd.options.mode.chained_assignment = \"warn\"  # reset to default\n",
    "\n",
    "        self.data.drop(columns=[\"target\"], inplace=True)\n",
    "        self.targets.drop(columns=[\"target\"], inplace=True)\n",
    "\n",
    "        self.n_users = len(self.user_encoder.classes_)\n",
    "        self.n_items = len(self.item_encoder.classes_)\n",
    "        self.n_ratings = self.data.shape[0]\n",
    "\n",
    "\n",
    "def horizontal_split(\n",
    "    df: pd.DataFrame,\n",
    "    n_val_users: int,\n",
    "    n_test_users: int,\n",
    "    seed: int,\n",
    ") -> tuple[pd.DataFrame, pd.DataFrame, pd.DataFrame]:\n",
    "    \"\"\"Splits a dataframe horizontally (=disjoint user sets) into train, validation, and test sets.\"\"\"\n",
    "    np.random.seed(seed)\n",
    "    unique_users = df[\"user_id\"].unique()\n",
    "    np.random.shuffle(unique_users)\n",
    "    test_users = unique_users[:n_test_users]\n",
    "    val_users = unique_users[n_test_users : n_test_users + n_val_users]\n",
    "    train_users = unique_users[n_test_users + n_val_users :]\n",
    "    train_df = df[df[\"user_id\"].isin(train_users)]\n",
    "    val_df = df[df[\"user_id\"].isin(val_users)]\n",
    "    test_df = df[df[\"user_id\"].isin(test_users)]\n",
    "    return train_df, val_df, test_df\n",
    "\n",
    "\n",
    "def fixed_vertical_split(\n",
    "    df: pd.DataFrame,\n",
    "    val_target_proportion: float,\n",
    "    seed: int,\n",
    ") -> tuple[pd.DataFrame, pd.DataFrame, pd.DataFrame]:\n",
    "    \"\"\"Splits a dataframe according to predefined train and test sets. Creates train, validation, and test dataframes.\"\"\"\n",
    "    np.random.seed(seed)\n",
    "    # df has column \"target\", used to identify test targets\n",
    "    val_inputs_df, val_targets_df = extract_targets_from_split(\n",
    "        df=df[~df[\"target\"]],\n",
    "        extract_targets=True,\n",
    "        target_proportion=val_target_proportion,\n",
    "        newest=False,\n",
    "    )\n",
    "    val_inputs_df.drop(columns=[\"target\"], inplace=True)\n",
    "    val_targets_df.drop(columns=[\"target\"], inplace=True)\n",
    "    val_df = pd.concat([val_inputs_df, val_targets_df])\n",
    "    train_df = val_inputs_df\n",
    "    return train_df, val_df, df\n",
    "\n",
    "\n",
    "class Amazonbook(Dataset):\n",
    "    def _read_raw_data(self) -> None:\n",
    "        \"\"\"\n",
    "        Loads raw data and stores it in self.dataset.\n",
    "        \"\"\"\n",
    "        train_file = f\"{self.path}/train.txt\"\n",
    "        test_file = f\"{self.path}/test.txt\"\n",
    "\n",
    "        # Selected train interactions\n",
    "        users_train = []\n",
    "        items_train = []\n",
    "        target_train = []\n",
    "        if not os.path.isfile(train_file):\n",
    "            raise ValueError(f\"Train file {train_file} not found.\")\n",
    "        with open(train_file) as f:\n",
    "            lines = f.read().splitlines()\n",
    "        for line in lines:\n",
    "            entries = line.split()\n",
    "            user = entries[0]\n",
    "            items = entries[1:]\n",
    "            users_train += [user] * len(items)\n",
    "            items_train += items\n",
    "            target_train += [False] * len(items)\n",
    "\n",
    "        # Selected targets\n",
    "        users_test = []\n",
    "        items_test = []\n",
    "        target_test = []\n",
    "        if not os.path.isfile(test_file):\n",
    "            raise ValueError(f\"Test file {test_file} not found.\")\n",
    "        with open(test_file) as f:\n",
    "            lines = f.read().splitlines()\n",
    "        for line in lines:\n",
    "            entries = line.split()\n",
    "            user = entries[0]\n",
    "            items = entries[1:]\n",
    "            users_test += [user] * len(items)\n",
    "            items_test += items\n",
    "            target_test += [True] * len(items)\n",
    "\n",
    "        train_dataset = pd.DataFrame(\n",
    "            {\n",
    "                \"user_id\": users_train,\n",
    "                \"item_id\": items_train,\n",
    "                \"feedback\": [1] * len(items_train),\n",
    "                \"timestamp\": [0] * len(items_train),\n",
    "                \"target\": target_train,\n",
    "            }\n",
    "        )\n",
    "        test_dataset = pd.DataFrame(\n",
    "            {\n",
    "                \"user_id\": users_test,\n",
    "                \"item_id\": items_test,\n",
    "                \"feedback\": [1] * len(items_test),\n",
    "                \"timestamp\": [0] * len(items_test),\n",
    "                \"target\": target_test,\n",
    "            }\n",
    "        )\n",
    "\n",
    "        self.dataset = pd.concat([train_dataset, test_dataset], ignore_index=True)\n",
    "\n",
    "    def _unify_dataset(self) -> None:\n",
    "        \"\"\"\n",
    "        Unifies the dataset to a common format.\n",
    "        A common format is a dataframe with the following columns:\n",
    "        - user_id: int64\n",
    "        - item_id: int64\n",
    "        - feedback: float64\n",
    "        - timestamp: datetime64\n",
    "        - target: bool      # specific for datasets with fixed targets\n",
    "        \"\"\"\n",
    "        # Change user_id and item_id to int64\n",
    "        self.dataset.user_id = self.dataset.user_id.astype(np.int64)\n",
    "        self.dataset.item_id = self.dataset.item_id.astype(np.int64)\n",
    "        # Change feedback to float64\n",
    "        self.dataset.feedback = self.dataset.feedback.astype(np.float64)\n",
    "        # Change timestamp to datetime\n",
    "        self.dataset.timestamp = pd.to_datetime(self.dataset.timestamp)\n",
    "\n",
    "    def _preprocess_data(self) -> None:\n",
    "        \"\"\"\n",
    "        Preprocesses the dataset according to the experiment requirements.\n",
    "        Returns True if the dataset was successfully preprocessed.\n",
    "        \"\"\"\n",
    "        # Set self.processed to True to indicate that the dataset was successfully preprocessed\n",
    "        self.processed = True\n",
    "\n",
    "    def create_splits(self, config: dict) -> tuple[DatasetSplit, DatasetSplit, FixedVerticalDatasetSplit]:\n",
    "        \"\"\"\n",
    "        Creates train, validation and test split objects from the dataset.\n",
    "        Split is done VERTICALLY, using pre-defined interactions for test.\n",
    "        \"\"\"\n",
    "        # To continue, the dataset must be processed.\n",
    "        if not self.processed:\n",
    "            raise ValueError(\"Dataset not processed yet.\")\n",
    "\n",
    "        # Get config parameters (all are optional).\n",
    "        train_target_proportion = config.get(\"train_target_proportion\", 0.1)\n",
    "        val_target_proportion = config.get(\"val_target_proportion\", 0.1)\n",
    "        seed = config.get(\"seed\", 42)\n",
    "        extract_train_targets = config.get(\"extract_train_targets\", False)\n",
    "\n",
    "        # Fit item encoder and transform item IDs.\n",
    "        item_encoder = LabelEncoder().fit(self.dataset[\"item_id\"])\n",
    "        self.dataset[\"item_id\"] = item_encoder.transform(self.dataset[\"item_id\"])\n",
    "\n",
    "        # Shuffle dataset.\n",
    "        self.dataset = self.dataset.sample(frac=1, random_state=seed)\n",
    "\n",
    "        # Split dataset.\n",
    "        train_df, val_df, test_df = fixed_vertical_split(self.dataset, val_target_proportion, seed)\n",
    "\n",
    "        # Log dataset information.\n",
    "        logger.info(f\"Dataframe lengths | train_df: {len(train_df)}, val_df: {len(val_df)}, test_df: {len(test_df)}\")\n",
    "\n",
    "        # Create split objects (test split is fixed)\n",
    "        train_split = DatasetSplit(\n",
    "            train_df,\n",
    "            item_encoder,\n",
    "            extract_targets=extract_train_targets,\n",
    "            target_proportion=train_target_proportion,  # only used if extract_targets\n",
    "            newest=False,\n",
    "        )\n",
    "        val_split = DatasetSplit(\n",
    "            val_df,\n",
    "            item_encoder,\n",
    "            extract_targets=True,\n",
    "            target_proportion=val_target_proportion,\n",
    "            newest=False,\n",
    "        )\n",
    "        test_split = FixedVerticalDatasetSplit(\n",
    "            test_df,\n",
    "            item_encoder,\n",
    "        )\n",
    "\n",
    "        return train_split, val_split, test_split"
   ]
  },
  {
   "cell_type": "code",
   "execution_count": 32,
   "metadata": {
    "colab": {
     "base_uri": "https://localhost:8080/",
     "height": 1000
    },
    "id": "3ZGNoBqfv-Vr",
    "outputId": "d7183e74-8804-416d-81c3-468aec88962a"
   },
   "outputs": [
    {
     "name": "stdout",
     "output_type": "stream",
     "text": [
      "Downloaded Amazon Books dataset.\n",
      "Dataset info:\n",
      "{'Dataset name': 'amazonbook', 'Number of users': 52643, 'Number of items': 91599, 'Number of interactions': 2984108, 'Interaction density': '0.0619%'}\n",
      "\n",
      "Item distribution\n",
      "count    91599.000000\n",
      "mean        32.577954\n",
      "std         45.273947\n",
      "min         10.000000\n",
      "25%         13.000000\n",
      "50%         19.000000\n",
      "75%         35.000000\n",
      "95%         94.000000\n",
      "99.9%      551.000000\n",
      "max       1907.000000\n",
      "Name: count, dtype: float64\n"
     ]
    },
    {
     "data": {
      "image/png": "[encoded data removed]",
      "text/plain": "<Figure size 640x480 with 1 Axes>"
     },
     "metadata": {},
     "output_type": "display_data"
    },
    {
     "name": "stdout",
     "output_type": "stream",
     "text": [
      "\n",
      "User distribution\n",
      "count    52643.000000\n",
      "mean        56.685751\n",
      "std         96.863097\n",
      "min         16.000000\n",
      "25%         24.000000\n",
      "50%         33.000000\n",
      "75%         57.000000\n",
      "95%        165.000000\n",
      "99.9%      837.000000\n",
      "max      13313.000000\n",
      "Name: count, dtype: float64\n"
     ]
    },
    {
     "data": {
      "image/png": "[encoded data removed]",
      "text/plain": "<Figure size 640x480 with 1 Axes>"
     },
     "metadata": {},
     "output_type": "display_data"
    },
    {
     "name": "stdout",
     "output_type": "stream",
     "text": [
      "\n",
      "Creating dataset splits...\n"
     ]
    },
    {
     "name": "stderr",
     "output_type": "stream",
     "text": [
      "/var/folders/m5/9398ts6n79v025npdc_zn2x80000gn/T/ipykernel_49928/2456589156.py:296: DeprecationWarning: DataFrameGroupBy.apply operated on the grouping columns. This behavior is deprecated, and in a future version of pandas the grouping columns will be excluded from the operation. Either pass `include_groups=False` to exclude the groupings or explicitly select the grouping columns after groupby to silence this warning.\n",
      "  inputs_df = user_id_groups.apply(lambda x: x[target_sizes[x.name] :]).reset_index(\n",
      "/var/folders/m5/9398ts6n79v025npdc_zn2x80000gn/T/ipykernel_49928/2456589156.py:299: DeprecationWarning: DataFrameGroupBy.apply operated on the grouping columns. This behavior is deprecated, and in a future version of pandas the grouping columns will be excluded from the operation. Either pass `include_groups=False` to exclude the groupings or explicitly select the grouping columns after groupby to silence this warning.\n",
      "  target_df = user_id_groups.apply(lambda x: x[: target_sizes[x.name]]).reset_index(\n",
      "INFO:__main__:Dataframe lengths | train_df: 2380730, val_df: 2380730, test_df: 2984108\n",
      "/var/folders/m5/9398ts6n79v025npdc_zn2x80000gn/T/ipykernel_49928/2456589156.py:296: DeprecationWarning: DataFrameGroupBy.apply operated on the grouping columns. This behavior is deprecated, and in a future version of pandas the grouping columns will be excluded from the operation. Either pass `include_groups=False` to exclude the groupings or explicitly select the grouping columns after groupby to silence this warning.\n",
      "  inputs_df = user_id_groups.apply(lambda x: x[target_sizes[x.name] :]).reset_index(\n",
      "/var/folders/m5/9398ts6n79v025npdc_zn2x80000gn/T/ipykernel_49928/2456589156.py:299: DeprecationWarning: DataFrameGroupBy.apply operated on the grouping columns. This behavior is deprecated, and in a future version of pandas the grouping columns will be excluded from the operation. Either pass `include_groups=False` to exclude the groupings or explicitly select the grouping columns after groupby to silence this warning.\n",
      "  target_df = user_id_groups.apply(lambda x: x[: target_sizes[x.name]]).reset_index(\n",
      "INFO:__main__:Removing users [50736, 52234, 41589, 13647] from test inputs.\n"
     ]
    },
    {
     "name": "stdout",
     "output_type": "stream",
     "text": [
      "Done.\n"
     ]
    }
   ],
   "source": [
    "# 1.3. create Dataset object from the downloaded data.\n",
    "# we will create an instance of AmazonBook Dataset (see `datasets/amazonbook.py`)\n",
    "# for examples on how to create your own Dataset subclass, see `datasets/dataset.py` and other modules in `datasets`\n",
    "# (implementation depends on 1. input data format, 2. preprocessing, 3. train-val-test split protocol)\n",
    "\n",
    "dataset_config = {\n",
    "    \"name\": \"amazonbook\",\n",
    "    \"rewrite\": False,\n",
    "}\n",
    "dataset = Amazonbook.from_config(dataset_config)\n",
    "\n",
    "clear_output()\n",
    "print(\"Downloaded Amazon Books dataset.\")\n",
    "print(\"Dataset info:\")\n",
    "print(dataset.info())\n",
    "print()\n",
    "\n",
    "# 1.4. dataset statistics\n",
    "# item_id histogram\n",
    "item_id_counts = dataset.dataset.item_id.value_counts()\n",
    "print(\"Item distribution\")\n",
    "print(item_id_counts.describe(percentiles=[0.25, 0.5, 0.75, 0.95, 0.999]))\n",
    "fig1 = plt.semilogy(np.arange(len(item_id_counts)), item_id_counts.values)\n",
    "plt.show()\n",
    "print()\n",
    "# user_id histogram\n",
    "user_id_counts = dataset.dataset.user_id.value_counts()\n",
    "print(\"User distribution\")\n",
    "print(user_id_counts.describe(percentiles=[0.25, 0.5, 0.75, 0.95, 0.999]))\n",
    "fig2 = plt.semilogy(np.arange(len(user_id_counts)), user_id_counts.values)\n",
    "plt.show()\n",
    "print()\n",
    "\n",
    "# 1.5. create dataset splits\n",
    "# specify split configuration\n",
    "split_config = {\n",
    "    \"seed\": 42,\n",
    "    \"val_target_proportion\": 0.0,\n",
    "}\n",
    "\n",
    "# create train, val, test sets\n",
    "print(\"Creating dataset splits...\")\n",
    "train, val, test = dataset.create_splits(config=split_config)  # also transforms original item_ids to range(0,num_items)\n",
    "print(\"Done.\")\n",
    "\n",
    "# 1.6. create ASIN <--> item_id mapping (to make this demo pretty :) )\n",
    "np.testing.assert_array_equal(np.arange(91599), train.item_encoder.classes_)  # we won't need to map original item_ids <--> encoded item_ids\n",
    "\n",
    "\n",
    "def get_asin_to_item_dicts(item_list_path):\n",
    "    with open(item_list_path, \"r\") as f:\n",
    "        lines = f.readlines()[1:]\n",
    "    asin2item, item2asin = {}, {}\n",
    "    for line in lines:\n",
    "        a, i = tuple(line.strip().split(\" \"))\n",
    "        if (a != \"\") and (i != \"\"):\n",
    "            asin2item[a] = int(i)\n",
    "            item2asin[int(i)] = a\n",
    "\n",
    "    return asin2item, item2asin\n",
    "\n",
    "\n",
    "item_list_path = dataset_path + \"/item_list.txt\"\n",
    "asin2item, item2asin = get_asin_to_item_dicts(item_list_path)"
   ]
  },
  {
   "cell_type": "markdown",
   "metadata": {
    "id": "eYjaNDqP9Oxo"
   },
   "source": [
    "# 2. Model training"
   ]
  },
  {
   "cell_type": "code",
   "execution_count": 33,
   "metadata": {
    "ExecuteTime": {
     "end_time": "2024-04-15T20:30:42.189356Z",
     "start_time": "2024-04-15T20:30:09.145259Z"
    },
    "colab": {
     "base_uri": "https://localhost:8080/"
    },
    "id": "V5xOs0rd1LMy",
    "outputId": "5f546006-07ef-4e6a-b0b8-3905ff336686"
   },
   "outputs": [
    {
     "name": "stderr",
     "output_type": "stream",
     "text": [
      "INFO:sansa.model:Computing column norms of X^TX...\n",
      "INFO:sansa.model:Scaling columns of X by computed norms...\n",
      "INFO:sansa.model:Computing LDL^T decomposition of permuted item-item matrix...\n",
      "INFO:sansa.core.factorizers:Computing incomplete Cholesky decomposition of X^TX + 20.0*I...\n",
      "INFO:sansa.core.factorizers:Finding a fill-in reducing ordering (method = colamd)...\n",
      "INFO:sansa.core.factorizers:Computing X^TX...\n",
      "INFO:sansa.core.factorizers:\n",
      "                X^TX info:\n",
      "                    shape = (91599, 91599) \n",
      "                    nnz = 330335853 \n",
      "                    density = 3.937080% \n",
      "                    size = 2643.1 MB\n",
      "                \n",
      "INFO:sansa.core.factorizers:Sorting indices of A...\n",
      "INFO:sansa.core.factorizers:Casting indptr of A to int64...\n",
      "INFO:sansa.core.factorizers:Casting indices of A to int64...\n",
      "INFO:sansa.core.factorizers:Computing approximate Cholesky decomposition (method = ICF)...\n",
      "INFO:sansa.core.factorizers:Scaling columns and creating diagonal matrix D (LL^T -> L'DL'^T)...\n",
      "INFO:sansa.model:Computing approximate inverse of L...\n",
      "INFO:sansa.core.inverters:Calculating initial guess using 1 step of Schultz method...\n",
      "INFO:sansa.core.inverters:Calculating approximate inverse using Uniform Minimal Residual algorithm...\n",
      "INFO:sansa.core._ops._inverse_ops:Current maximum residual: 0.0013081826036795974, relative Frobenius norm squared: 5.980150596940348e-09\n",
      "INFO:sansa.core._ops._inverse_ops:Performing UMR scan 1...\n",
      "INFO:sansa.core._ops._inverse_ops:Current maximum residual: 0.0013081826036795974, relative Frobenius norm squared: 5.980150596940348e-09\n",
      "INFO:sansa.core._ops._inverse_ops:Performing UMR finetune step 1...\n",
      "INFO:sansa.core._ops._inverse_ops:Current maximum residual: 0.0013081826036795974, relative Frobenius norm squared: 5.9760494330873826e-09\n",
      "INFO:sansa.core._ops._inverse_ops:Performing UMR finetune step 2...\n",
      "INFO:sansa.core._ops._inverse_ops:Current maximum residual: 0.0009274978656321764, relative Frobenius norm squared: 5.955918425115669e-09\n",
      "INFO:sansa.core._ops._inverse_ops:Performing UMR finetune step 3...\n",
      "INFO:sansa.core._ops._inverse_ops:Current maximum residual: 0.0009274978656321764, relative Frobenius norm squared: 5.954707393840408e-09\n",
      "INFO:sansa.core._ops._inverse_ops:Performing UMR finetune step 4...\n",
      "INFO:sansa.core._ops._inverse_ops:Current maximum residual: 0.0009274978656321764, relative Frobenius norm squared: 5.9514340122746034e-09\n",
      "INFO:sansa.core._ops._inverse_ops:Performing UMR finetune step 5...\n",
      "INFO:sansa.core.inverters:Current maximum residual: 0.0009274978656321764, relative Frobenius norm squared: 5.947263126415692e-09\n",
      "INFO:sansa.model:Constructing W = L_inv @ P...\n",
      "INFO:sansa.model:Extracting diagonal of W.T @ D_inv @ W...\n",
      "INFO:sansa.model:Dividing columns of W by diagonal entries...\n"
     ]
    },
    {
     "data": {
      "text/plain": "<sansa.model.SANSA at 0x317b2c820>"
     },
     "execution_count": 33,
     "metadata": {},
     "output_type": "execute_result"
    }
   ],
   "source": [
    "from sansa import SANSA, SANSAConfig, ICFGramianFactorizerConfig, UMRUnitLowerTriangleInverterConfig\n",
    "\n",
    "\n",
    "factorizer_config = ICFGramianFactorizerConfig(\n",
    "    factorization_shift_step=1e-3,\n",
    "    factorization_shift_multiplier=2.0,\n",
    ")\n",
    "\n",
    "inverter_config = UMRUnitLowerTriangleInverterConfig(\n",
    "    scans=1,\n",
    "    finetune_steps=5,\n",
    ")\n",
    "\n",
    "\n",
    "# create model instance from config\n",
    "model_config = SANSAConfig(\n",
    "    l2=20.0,\n",
    "    weight_matrix_density=5e-5,\n",
    "    gramian_factorizer_config=factorizer_config,\n",
    "    lower_triangle_inverter_config=inverter_config,\n",
    ")\n",
    "\n",
    "model = SANSA(model_config)\n",
    "\n",
    "user_item_matrix = df_to_csr(train.data, (train.n_users, train.n_items))\n",
    "\n",
    "model.fit(training_matrix=user_item_matrix)\n",
    "\n",
    "# model.fit(training_matrix=user_item_matrix.T @ user_item_matrix, compute_gramian=False)"
   ]
  },
  {
   "cell_type": "markdown",
   "metadata": {
    "id": "yovhmNlQWd83"
   },
   "source": [
    "# 3. Evaluation"
   ]
  },
  {
   "cell_type": "code",
   "execution_count": 34,
   "metadata": {
    "ExecuteTime": {
     "end_time": "2024-04-15T20:30:42.200664Z",
     "start_time": "2024-04-15T20:30:42.191447Z"
    },
    "collapsed": false
   },
   "outputs": [],
   "source": [
    "from typing import Protocol\n",
    "\n",
    "\n",
    "class Model(Protocol):\n",
    "    def recommend(self, interactions: sp.csr_matrix, k: int, mask_input: bool) -> tuple[np.ndarray, np.ndarray]: ...\n",
    "\n",
    "\n",
    "# Accuracy-based recommendation quality metrics\n",
    "def recall(ids_true: np.ndarray, ids_top_k: np.ndarray) -> float:\n",
    "    k = len(ids_top_k)\n",
    "    num_true = len(ids_true)\n",
    "    num_positive = np.sum(np.isin(ids_top_k, ids_true), dtype=np.float32)\n",
    "    return num_positive / min(k, num_true)\n",
    "\n",
    "\n",
    "# recall used by openbenchmark BARS\n",
    "def recall_BARS(ids_true: np.ndarray, ids_top_k: np.ndarray) -> float:\n",
    "    num_true = len(ids_true)\n",
    "    num_positive = np.sum(np.isin(ids_top_k, ids_true), dtype=np.float32)\n",
    "    return num_positive / num_true\n",
    "\n",
    "\n",
    "def ndcg(ids_true, ids_top_k) -> float:\n",
    "    k = len(ids_top_k)\n",
    "    num_true = len(ids_true)\n",
    "    relevances_top_k = np.isin(ids_top_k, ids_true).astype(np.float32)\n",
    "    with np.errstate(divide=\"ignore\"):  # can raise divide by zero warning when using intel MKL numpy. Most likely cause by endianness\n",
    "        tp = 1.0 / np.log2(np.arange(2, k + 2))\n",
    "    dcg = (relevances_top_k * tp).sum()\n",
    "    idcg = tp[: min(num_true, k)].sum()\n",
    "    return dcg / idcg\n",
    "\n",
    "\n",
    "def get_stats(metrics: list[float]) -> dict:\n",
    "    \"\"\"\n",
    "    Summary statistics of a list of metrics.\n",
    "    \"\"\"\n",
    "    stats = {\n",
    "        \"mean\": np.average(metrics),\n",
    "        \"se\": np.std(metrics) / np.sqrt(len(metrics)),\n",
    "    }\n",
    "    return stats\n",
    "\n",
    "\n",
    "def evaluate(\n",
    "    model: Model,\n",
    "    split: DatasetSplit,\n",
    "    metrics: list[str] = [\"recall\", \"ndcg\"],\n",
    "    ks: list[int] = [20, 50, 100],\n",
    "    batch_size: int = 2000,\n",
    ") -> dict[int : dict[str:dict]]:\n",
    "    \"\"\"\n",
    "    Batched evaluation of a model on a split of a dataset.\n",
    "    \"\"\"\n",
    "    stats = {\n",
    "        k: {\n",
    "            \"coverage\": 0.0,\n",
    "        }\n",
    "        for k in ks\n",
    "    }\n",
    "    max_k = max(ks)\n",
    "\n",
    "    total_users = len(split.user_encoder.classes_)\n",
    "\n",
    "    recalls = {k: [] for k in ks}\n",
    "    recalls_BARS = {k: [] for k in ks}\n",
    "    ndcgs = {k: [] for k in ks}\n",
    "\n",
    "    for batch_start in range(0, total_users, batch_size):\n",
    "        if batch_start + batch_size > total_users:\n",
    "            batch_end = total_users\n",
    "        else:\n",
    "            batch_end = batch_start + batch_size\n",
    "        print(f\"Evaluating model at batch {batch_start}:{batch_end}\")\n",
    "        batch_users = list(split.user_encoder.classes_)[batch_start:batch_end]\n",
    "        batch_data = split.get_rated_items(batch_users)\n",
    "        batch_targets = split.get_target_items(batch_users)\n",
    "        batch_target_ids_dict = batch_targets.groupby(\"user_id\", group_keys=True)[\"item_id\"].apply(list).to_dict()\n",
    "        batch_keys = list(batch_target_ids_dict.keys())\n",
    "        users_to_arange = {user: i for i, user in enumerate(batch_keys)}\n",
    "        pd.options.mode.chained_assignment = None  # suppress irrelevant warning\n",
    "        batch_data[\"user_id\"] = batch_data[\"user_id\"].map(users_to_arange)\n",
    "        pd.options.mode.chained_assignment = \"warn\"\n",
    "        batch_top_maxk_ids, batch_top_maxk_scores = model.recommend(df_to_csr(batch_data, (batch_end - batch_start, split.n_items)), k=max_k, mask_input=True)\n",
    "\n",
    "        for k in ks:\n",
    "            recalls_batch = []\n",
    "            recalls_BARS_batch = []\n",
    "            ndcgs_batch = []\n",
    "\n",
    "            for i in range(len(batch_users)):\n",
    "                target_ids = batch_target_ids_dict[batch_keys[i]]\n",
    "                top_k_ids = batch_top_maxk_ids[i, :k]\n",
    "                recalls_batch.append(recall(target_ids, top_k_ids))\n",
    "                recalls_BARS_batch.append(recall_BARS(target_ids, top_k_ids))\n",
    "                ndcgs_batch.append(ndcg(target_ids, top_k_ids))\n",
    "\n",
    "            recalls[k] += recalls_batch\n",
    "            recalls_BARS[k] += recalls_BARS_batch\n",
    "            ndcgs[k] += ndcgs_batch\n",
    "\n",
    "    for k in ks:\n",
    "        if \"recall\" in metrics:\n",
    "            stats[k][\"recall\"] = get_stats(metrics=recalls[k])\n",
    "        if \"recall BARS\" in metrics:\n",
    "            stats[k][\"recall BARS\"] = get_stats(metrics=recalls_BARS[k])\n",
    "        if \"ndcg\" in metrics:\n",
    "            stats[k][\"ndcg\"] = get_stats(metrics=ndcgs[k])\n",
    "\n",
    "    return stats"
   ]
  },
  {
   "cell_type": "code",
   "execution_count": 35,
   "metadata": {
    "colab": {
     "base_uri": "https://localhost:8080/"
    },
    "id": "xwH5pMcHWhZP",
    "outputId": "eb285f06-0958-4108-cf92-4d546035d578"
   },
   "outputs": [
    {
     "name": "stdout",
     "output_type": "stream",
     "text": [
      "recall BARS @ 20: 0.07680 +- 0.00058\n",
      "ndcg @ 20: 0.06372 +- 0.00050\n"
     ]
    }
   ],
   "source": [
    "metrics = [\"recall BARS\", \"ndcg\"]\n",
    "ks = [20]\n",
    "batch_size = 2000\n",
    "\n",
    "evaluation_dict = evaluate(\n",
    "    model=model,\n",
    "    split=test,\n",
    "    metrics=metrics,\n",
    "    ks=ks,\n",
    "    batch_size=batch_size,\n",
    ")\n",
    "\n",
    "clear_output()\n",
    "for metric in metrics:\n",
    "    for k in ks:\n",
    "        print(f\"{metric} @ {k}: {evaluation_dict[k][metric]['mean']:.5f} +- {evaluation_dict[k][metric]['se']:.5f}\")"
   ]
  },
  {
   "cell_type": "markdown",
   "metadata": {
    "id": "J6n9ejOouQtr"
   },
   "source": [
    "# 4. Inference demo"
   ]
  },
  {
   "cell_type": "code",
   "execution_count": 36,
   "metadata": {
    "ExecuteTime": {
     "end_time": "2024-04-15T20:30:50.958444Z",
     "start_time": "2024-04-15T20:30:50.956604Z"
    },
    "id": "0jYIPjama7DE"
   },
   "outputs": [],
   "source": [
    "np.random.seed(42)"
   ]
  },
  {
   "cell_type": "markdown",
   "metadata": {
    "id": "KuihMjeTF76p"
   },
   "source": [
    "## 4.0. \"Sanity check\" - Recommending for a user with mainstream taste"
   ]
  },
  {
   "cell_type": "markdown",
   "metadata": {
    "id": "rcn6KDrqHQ-A"
   },
   "source": [
    "### Interactions"
   ]
  },
  {
   "cell_type": "code",
   "execution_count": 37,
   "metadata": {
    "ExecuteTime": {
     "end_time": "2024-04-15T20:30:50.964632Z",
     "start_time": "2024-04-15T20:30:50.959247Z"
    },
    "colab": {
     "base_uri": "https://localhost:8080/",
     "height": 855
    },
    "id": "bT67x-eyOmz_",
    "outputId": "32b7ce82-c38e-433c-a894-34e3081b4745"
   },
   "outputs": [
    {
     "name": "stdout",
     "output_type": "stream",
     "text": [
      "Interacted book ASINs\n",
      "['0689110456' '039913297X' '0345311965' '067101675X' '0061091995'\n",
      " '0061020699' '0061020672' '0740704818' '0451167538' '0061020702'\n",
      " '0307743667' '0451161343' '0679643524' '067155302X' '0425194523'\n",
      " '0345413369' '0345413350' '0446600660' '0345338588']\n",
      "19\n",
      "Sample interactions\n"
     ]
    },
    {
     "data": {
      "text/html": "\n    <style>\n        #ipyplot-html-viewer-toggle-8xp24mRG7oJEQorVpSCUiP {\n            position: absolute;\n            top: -9999px;\n            left: -9999px;\n            visibility: hidden;\n        }\n\n        #ipyplot-html-viewer-label-8xp24mRG7oJEQorVpSCUiP { \n            position: relative;\n            display: inline-block;\n            cursor: pointer;\n            color: blue;\n            text-decoration: underline;\n        }\n\n        #ipyplot-html-viewer-textarea-8xp24mRG7oJEQorVpSCUiP {\n            background: lightgrey;\n            width: 100%;\n            height: 0px;\n            display: none;\n        }\n\n        #ipyplot-html-viewer-toggle-8xp24mRG7oJEQorVpSCUiP:checked ~ #ipyplot-html-viewer-textarea-8xp24mRG7oJEQorVpSCUiP {\n            height: 200px;\n            display: block;\n        }\n\n        #ipyplot-html-viewer-toggle-8xp24mRG7oJEQorVpSCUiP:checked + #ipyplot-html-viewer-label-8xp24mRG7oJEQorVpSCUiP:after {\n            content: \"hide html\";\n            position: absolute;\n            top: 0;\n            left: 0;\n            right: 0;\n            bottom: 0;\n            background: white;\n            cursor: pointer;\n            color: blue;\n            text-decoration: underline;\n        }\n    </style>\n    <div>\n        <input type=\"checkbox\" id=\"ipyplot-html-viewer-toggle-8xp24mRG7oJEQorVpSCUiP\">\n        <label id=\"ipyplot-html-viewer-label-8xp24mRG7oJEQorVpSCUiP\" for=\"ipyplot-html-viewer-toggle-8xp24mRG7oJEQorVpSCUiP\">show html</label>\n        <textarea id=\"ipyplot-html-viewer-textarea-8xp24mRG7oJEQorVpSCUiP\" readonly>\n            \n        <style>\n        #ipyplot-imgs-container-div-g7iHkKZra6xoVmK57rV6yp {\n            width: 100%;\n            height: 100%;\n            margin: 0%;\n            overflow: auto;\n            position: relative;\n            overflow-y: scroll;\n        }\n\n        div.ipyplot-placeholder-div-g7iHkKZra6xoVmK57rV6yp {\n            width: 150px;\n            display: inline-block;\n            margin: 3px;\n            position: relative;\n        }\n\n        div.ipyplot-content-div-g7iHkKZra6xoVmK57rV6yp {\n            width: 150px;\n            background: white;\n            display: inline-block;\n            vertical-align: top;\n            text-align: center;\n            position: relative;\n            border: 2px solid #ddd;\n            top: 0;\n            left: 0;\n        }\n\n        div.ipyplot-content-div-g7iHkKZra6xoVmK57rV6yp span.ipyplot-img-close {\n            display: none;\n        }\n\n        div.ipyplot-content-div-g7iHkKZra6xoVmK57rV6yp span {\n            width: 100%;\n            height: 100%;\n            position: absolute;\n            top: 0;\n            left: 0;\n        }\n\n        div.ipyplot-content-div-g7iHkKZra6xoVmK57rV6yp img {\n            width: 150px;\n        }\n\n        div.ipyplot-content-div-g7iHkKZra6xoVmK57rV6yp span.ipyplot-img-close:hover {\n            cursor: zoom-out;\n        }\n        div.ipyplot-content-div-g7iHkKZra6xoVmK57rV6yp span.ipyplot-img-expand:hover {\n            cursor: zoom-in;\n        }\n\n        div[id^=ipyplot-content-div-g7iHkKZra6xoVmK57rV6yp]:target {\n            transform: scale(2.5);\n            transform-origin: left top;\n            z-index: 5000;\n            top: 0;\n            left: 0;\n            position: absolute;\n        }\n\n        div[id^=ipyplot-content-div-g7iHkKZra6xoVmK57rV6yp]:target span.ipyplot-img-close {\n            display: block;\n        }\n\n        div[id^=ipyplot-content-div-g7iHkKZra6xoVmK57rV6yp]:target span.ipyplot-img-expand {\n            display: none;\n        }\n        </style>\n    <div id=\"ipyplot-imgs-container-div-g7iHkKZra6xoVmK57rV6yp\">\n    <div class=\"ipyplot-placeholder-div-g7iHkKZra6xoVmK57rV6yp\">\n        <div id=\"ipyplot-content-div-g7iHkKZra6xoVmK57rV6yp-KV9PSUGuLSW9VGr9VC4YCu\" class=\"ipyplot-content-div-g7iHkKZra6xoVmK57rV6yp\">\n            <h4 style=\"font-size: 12px; word-wrap: break-word;\">0689110456</h4>\n            <h4 style=\"font-size: 9px; padding-left: 10px; padding-right: 10px; width: 95%; word-wrap: break-word; white-space: normal;\">http://images.amazon.com/images/P/0689110456.01._SCLZZZZZZZ_.jpg</h4><img src=\"http://images.amazon.com/images/P/0689110456.01._SCLZZZZZZZ_.jpg\"/>\n            <a href=\"#!\">\n                <span class=\"ipyplot-img-close\"/>\n            </a>\n            <a href=\"#ipyplot-content-div-g7iHkKZra6xoVmK57rV6yp-KV9PSUGuLSW9VGr9VC4YCu\">\n                <span class=\"ipyplot-img-expand\"/>\n            </a>\n        </div>\n    </div>\n    \n    <div class=\"ipyplot-placeholder-div-g7iHkKZra6xoVmK57rV6yp\">\n        <div id=\"ipyplot-content-div-g7iHkKZra6xoVmK57rV6yp-SMuxyEAaPL4KkXbXfShyhp\" class=\"ipyplot-content-div-g7iHkKZra6xoVmK57rV6yp\">\n            <h4 style=\"font-size: 12px; word-wrap: break-word;\">0061020699</h4>\n            <h4 style=\"font-size: 9px; padding-left: 10px; padding-right: 10px; width: 95%; word-wrap: break-word; white-space: normal;\">http://images.amazon.com/images/P/0061020699.01._SCLZZZZZZZ_.jpg</h4><img src=\"http://images.amazon.com/images/P/0061020699.01._SCLZZZZZZZ_.jpg\"/>\n            <a href=\"#!\">\n                <span class=\"ipyplot-img-close\"/>\n            </a>\n            <a href=\"#ipyplot-content-div-g7iHkKZra6xoVmK57rV6yp-SMuxyEAaPL4KkXbXfShyhp\">\n                <span class=\"ipyplot-img-expand\"/>\n            </a>\n        </div>\n    </div>\n    \n    <div class=\"ipyplot-placeholder-div-g7iHkKZra6xoVmK57rV6yp\">\n        <div id=\"ipyplot-content-div-g7iHkKZra6xoVmK57rV6yp-JsRCKnJ2uvUZEEAszpa6FE\" class=\"ipyplot-content-div-g7iHkKZra6xoVmK57rV6yp\">\n            <h4 style=\"font-size: 12px; word-wrap: break-word;\">0451161343</h4>\n            <h4 style=\"font-size: 9px; padding-left: 10px; padding-right: 10px; width: 95%; word-wrap: break-word; white-space: normal;\">http://images.amazon.com/images/P/0451161343.01._SCLZZZZZZZ_.jpg</h4><img src=\"http://images.amazon.com/images/P/0451161343.01._SCLZZZZZZZ_.jpg\"/>\n            <a href=\"#!\">\n                <span class=\"ipyplot-img-close\"/>\n            </a>\n            <a href=\"#ipyplot-content-div-g7iHkKZra6xoVmK57rV6yp-JsRCKnJ2uvUZEEAszpa6FE\">\n                <span class=\"ipyplot-img-expand\"/>\n            </a>\n        </div>\n    </div>\n    \n    <div class=\"ipyplot-placeholder-div-g7iHkKZra6xoVmK57rV6yp\">\n        <div id=\"ipyplot-content-div-g7iHkKZra6xoVmK57rV6yp-C5RATqogWiLJ2cVyeQHxCK\" class=\"ipyplot-content-div-g7iHkKZra6xoVmK57rV6yp\">\n            <h4 style=\"font-size: 12px; word-wrap: break-word;\">039913297X</h4>\n            <h4 style=\"font-size: 9px; padding-left: 10px; padding-right: 10px; width: 95%; word-wrap: break-word; white-space: normal;\">http://images.amazon.com/images/P/039913297X.01._SCLZZZZZZZ_.jpg</h4><img src=\"http://images.amazon.com/images/P/039913297X.01._SCLZZZZZZZ_.jpg\"/>\n            <a href=\"#!\">\n                <span class=\"ipyplot-img-close\"/>\n            </a>\n            <a href=\"#ipyplot-content-div-g7iHkKZra6xoVmK57rV6yp-C5RATqogWiLJ2cVyeQHxCK\">\n                <span class=\"ipyplot-img-expand\"/>\n            </a>\n        </div>\n    </div>\n    \n    <div class=\"ipyplot-placeholder-div-g7iHkKZra6xoVmK57rV6yp\">\n        <div id=\"ipyplot-content-div-g7iHkKZra6xoVmK57rV6yp-Ekt26bRT2rji9DHBtV8t6F\" class=\"ipyplot-content-div-g7iHkKZra6xoVmK57rV6yp\">\n            <h4 style=\"font-size: 12px; word-wrap: break-word;\">0451167538</h4>\n            <h4 style=\"font-size: 9px; padding-left: 10px; padding-right: 10px; width: 95%; word-wrap: break-word; white-space: normal;\">http://images.amazon.com/images/P/0451167538.01._SCLZZZZZZZ_.jpg</h4><img src=\"http://images.amazon.com/images/P/0451167538.01._SCLZZZZZZZ_.jpg\"/>\n            <a href=\"#!\">\n                <span class=\"ipyplot-img-close\"/>\n            </a>\n            <a href=\"#ipyplot-content-div-g7iHkKZra6xoVmK57rV6yp-Ekt26bRT2rji9DHBtV8t6F\">\n                <span class=\"ipyplot-img-expand\"/>\n            </a>\n        </div>\n    </div>\n    \n    <div class=\"ipyplot-placeholder-div-g7iHkKZra6xoVmK57rV6yp\">\n        <div id=\"ipyplot-content-div-g7iHkKZra6xoVmK57rV6yp-4nGdmXHx9VtYZJ295SnWnA\" class=\"ipyplot-content-div-g7iHkKZra6xoVmK57rV6yp\">\n            <h4 style=\"font-size: 12px; word-wrap: break-word;\">0345413350</h4>\n            <h4 style=\"font-size: 9px; padding-left: 10px; padding-right: 10px; width: 95%; word-wrap: break-word; white-space: normal;\">http://images.amazon.com/images/P/0345413350.01._SCLZZZZZZZ_.jpg</h4><img src=\"http://images.amazon.com/images/P/0345413350.01._SCLZZZZZZZ_.jpg\"/>\n            <a href=\"#!\">\n                <span class=\"ipyplot-img-close\"/>\n            </a>\n            <a href=\"#ipyplot-content-div-g7iHkKZra6xoVmK57rV6yp-4nGdmXHx9VtYZJ295SnWnA\">\n                <span class=\"ipyplot-img-expand\"/>\n            </a>\n        </div>\n    </div>\n    \n    <div class=\"ipyplot-placeholder-div-g7iHkKZra6xoVmK57rV6yp\">\n        <div id=\"ipyplot-content-div-g7iHkKZra6xoVmK57rV6yp-ETGzAtaqew6urZZ9Bh3Za3\" class=\"ipyplot-content-div-g7iHkKZra6xoVmK57rV6yp\">\n            <h4 style=\"font-size: 12px; word-wrap: break-word;\">067101675X</h4>\n            <h4 style=\"font-size: 9px; padding-left: 10px; padding-right: 10px; width: 95%; word-wrap: break-word; white-space: normal;\">http://images.amazon.com/images/P/067101675X.01._SCLZZZZZZZ_.jpg</h4><img src=\"http://images.amazon.com/images/P/067101675X.01._SCLZZZZZZZ_.jpg\"/>\n            <a href=\"#!\">\n                <span class=\"ipyplot-img-close\"/>\n            </a>\n            <a href=\"#ipyplot-content-div-g7iHkKZra6xoVmK57rV6yp-ETGzAtaqew6urZZ9Bh3Za3\">\n                <span class=\"ipyplot-img-expand\"/>\n            </a>\n        </div>\n    </div>\n    \n    <div class=\"ipyplot-placeholder-div-g7iHkKZra6xoVmK57rV6yp\">\n        <div id=\"ipyplot-content-div-g7iHkKZra6xoVmK57rV6yp-gTUEBVc7pB4XRnHJnr6MsW\" class=\"ipyplot-content-div-g7iHkKZra6xoVmK57rV6yp\">\n            <h4 style=\"font-size: 12px; word-wrap: break-word;\">067155302X</h4>\n            <h4 style=\"font-size: 9px; padding-left: 10px; padding-right: 10px; width: 95%; word-wrap: break-word; white-space: normal;\">http://images.amazon.com/images/P/067155302X.01._SCLZZZZZZZ_.jpg</h4><img src=\"http://images.amazon.com/images/P/067155302X.01._SCLZZZZZZZ_.jpg\"/>\n            <a href=\"#!\">\n                <span class=\"ipyplot-img-close\"/>\n            </a>\n            <a href=\"#ipyplot-content-div-g7iHkKZra6xoVmK57rV6yp-gTUEBVc7pB4XRnHJnr6MsW\">\n                <span class=\"ipyplot-img-expand\"/>\n            </a>\n        </div>\n    </div>\n    \n    <div class=\"ipyplot-placeholder-div-g7iHkKZra6xoVmK57rV6yp\">\n        <div id=\"ipyplot-content-div-g7iHkKZra6xoVmK57rV6yp-fwP8pucCSdgQfJ9xaiUMrd\" class=\"ipyplot-content-div-g7iHkKZra6xoVmK57rV6yp\">\n            <h4 style=\"font-size: 12px; word-wrap: break-word;\">0345413369</h4>\n            <h4 style=\"font-size: 9px; padding-left: 10px; padding-right: 10px; width: 95%; word-wrap: break-word; white-space: normal;\">http://images.amazon.com/images/P/0345413369.01._SCLZZZZZZZ_.jpg</h4><img src=\"http://images.amazon.com/images/P/0345413369.01._SCLZZZZZZZ_.jpg\"/>\n            <a href=\"#!\">\n                <span class=\"ipyplot-img-close\"/>\n            </a>\n            <a href=\"#ipyplot-content-div-g7iHkKZra6xoVmK57rV6yp-fwP8pucCSdgQfJ9xaiUMrd\">\n                <span class=\"ipyplot-img-expand\"/>\n            </a>\n        </div>\n    </div>\n    \n    <div class=\"ipyplot-placeholder-div-g7iHkKZra6xoVmK57rV6yp\">\n        <div id=\"ipyplot-content-div-g7iHkKZra6xoVmK57rV6yp-ESXUMAY5WGNbjYSNSkEwVK\" class=\"ipyplot-content-div-g7iHkKZra6xoVmK57rV6yp\">\n            <h4 style=\"font-size: 12px; word-wrap: break-word;\">0446600660</h4>\n            <h4 style=\"font-size: 9px; padding-left: 10px; padding-right: 10px; width: 95%; word-wrap: break-word; white-space: normal;\">http://images.amazon.com/images/P/0446600660.01._SCLZZZZZZZ_.jpg</h4><img src=\"http://images.amazon.com/images/P/0446600660.01._SCLZZZZZZZ_.jpg\"/>\n            <a href=\"#!\">\n                <span class=\"ipyplot-img-close\"/>\n            </a>\n            <a href=\"#ipyplot-content-div-g7iHkKZra6xoVmK57rV6yp-ESXUMAY5WGNbjYSNSkEwVK\">\n                <span class=\"ipyplot-img-expand\"/>\n            </a>\n        </div>\n    </div>\n    </div>\n        </textarea>\n    </div>\n    ",
      "text/plain": "<IPython.core.display.HTML object>"
     },
     "metadata": {},
     "output_type": "display_data"
    },
    {
     "data": {
      "text/html": "\n        <style>\n        #ipyplot-imgs-container-div-g7iHkKZra6xoVmK57rV6yp {\n            width: 100%;\n            height: 100%;\n            margin: 0%;\n            overflow: auto;\n            position: relative;\n            overflow-y: scroll;\n        }\n\n        div.ipyplot-placeholder-div-g7iHkKZra6xoVmK57rV6yp {\n            width: 150px;\n            display: inline-block;\n            margin: 3px;\n            position: relative;\n        }\n\n        div.ipyplot-content-div-g7iHkKZra6xoVmK57rV6yp {\n            width: 150px;\n            background: white;\n            display: inline-block;\n            vertical-align: top;\n            text-align: center;\n            position: relative;\n            border: 2px solid #ddd;\n            top: 0;\n            left: 0;\n        }\n\n        div.ipyplot-content-div-g7iHkKZra6xoVmK57rV6yp span.ipyplot-img-close {\n            display: none;\n        }\n\n        div.ipyplot-content-div-g7iHkKZra6xoVmK57rV6yp span {\n            width: 100%;\n            height: 100%;\n            position: absolute;\n            top: 0;\n            left: 0;\n        }\n\n        div.ipyplot-content-div-g7iHkKZra6xoVmK57rV6yp img {\n            width: 150px;\n        }\n\n        div.ipyplot-content-div-g7iHkKZra6xoVmK57rV6yp span.ipyplot-img-close:hover {\n            cursor: zoom-out;\n        }\n        div.ipyplot-content-div-g7iHkKZra6xoVmK57rV6yp span.ipyplot-img-expand:hover {\n            cursor: zoom-in;\n        }\n\n        div[id^=ipyplot-content-div-g7iHkKZra6xoVmK57rV6yp]:target {\n            transform: scale(2.5);\n            transform-origin: left top;\n            z-index: 5000;\n            top: 0;\n            left: 0;\n            position: absolute;\n        }\n\n        div[id^=ipyplot-content-div-g7iHkKZra6xoVmK57rV6yp]:target span.ipyplot-img-close {\n            display: block;\n        }\n\n        div[id^=ipyplot-content-div-g7iHkKZra6xoVmK57rV6yp]:target span.ipyplot-img-expand {\n            display: none;\n        }\n        </style>\n    <div id=\"ipyplot-imgs-container-div-g7iHkKZra6xoVmK57rV6yp\">\n    <div class=\"ipyplot-placeholder-div-g7iHkKZra6xoVmK57rV6yp\">\n        <div id=\"ipyplot-content-div-g7iHkKZra6xoVmK57rV6yp-KV9PSUGuLSW9VGr9VC4YCu\" class=\"ipyplot-content-div-g7iHkKZra6xoVmK57rV6yp\">\n            <h4 style=\"font-size: 12px; word-wrap: break-word;\">0689110456</h4>\n            <h4 style=\"font-size: 9px; padding-left: 10px; padding-right: 10px; width: 95%; word-wrap: break-word; white-space: normal;\">http://images.amazon.com/images/P/0689110456.01._SCLZZZZZZZ_.jpg</h4><img src=\"http://images.amazon.com/images/P/0689110456.01._SCLZZZZZZZ_.jpg\"/>\n            <a href=\"#!\">\n                <span class=\"ipyplot-img-close\"/>\n            </a>\n            <a href=\"#ipyplot-content-div-g7iHkKZra6xoVmK57rV6yp-KV9PSUGuLSW9VGr9VC4YCu\">\n                <span class=\"ipyplot-img-expand\"/>\n            </a>\n        </div>\n    </div>\n    \n    <div class=\"ipyplot-placeholder-div-g7iHkKZra6xoVmK57rV6yp\">\n        <div id=\"ipyplot-content-div-g7iHkKZra6xoVmK57rV6yp-SMuxyEAaPL4KkXbXfShyhp\" class=\"ipyplot-content-div-g7iHkKZra6xoVmK57rV6yp\">\n            <h4 style=\"font-size: 12px; word-wrap: break-word;\">0061020699</h4>\n            <h4 style=\"font-size: 9px; padding-left: 10px; padding-right: 10px; width: 95%; word-wrap: break-word; white-space: normal;\">http://images.amazon.com/images/P/0061020699.01._SCLZZZZZZZ_.jpg</h4><img src=\"http://images.amazon.com/images/P/0061020699.01._SCLZZZZZZZ_.jpg\"/>\n            <a href=\"#!\">\n                <span class=\"ipyplot-img-close\"/>\n            </a>\n            <a href=\"#ipyplot-content-div-g7iHkKZra6xoVmK57rV6yp-SMuxyEAaPL4KkXbXfShyhp\">\n                <span class=\"ipyplot-img-expand\"/>\n            </a>\n        </div>\n    </div>\n    \n    <div class=\"ipyplot-placeholder-div-g7iHkKZra6xoVmK57rV6yp\">\n        <div id=\"ipyplot-content-div-g7iHkKZra6xoVmK57rV6yp-JsRCKnJ2uvUZEEAszpa6FE\" class=\"ipyplot-content-div-g7iHkKZra6xoVmK57rV6yp\">\n            <h4 style=\"font-size: 12px; word-wrap: break-word;\">0451161343</h4>\n            <h4 style=\"font-size: 9px; padding-left: 10px; padding-right: 10px; width: 95%; word-wrap: break-word; white-space: normal;\">http://images.amazon.com/images/P/0451161343.01._SCLZZZZZZZ_.jpg</h4><img src=\"http://images.amazon.com/images/P/0451161343.01._SCLZZZZZZZ_.jpg\"/>\n            <a href=\"#!\">\n                <span class=\"ipyplot-img-close\"/>\n            </a>\n            <a href=\"#ipyplot-content-div-g7iHkKZra6xoVmK57rV6yp-JsRCKnJ2uvUZEEAszpa6FE\">\n                <span class=\"ipyplot-img-expand\"/>\n            </a>\n        </div>\n    </div>\n    \n    <div class=\"ipyplot-placeholder-div-g7iHkKZra6xoVmK57rV6yp\">\n        <div id=\"ipyplot-content-div-g7iHkKZra6xoVmK57rV6yp-C5RATqogWiLJ2cVyeQHxCK\" class=\"ipyplot-content-div-g7iHkKZra6xoVmK57rV6yp\">\n            <h4 style=\"font-size: 12px; word-wrap: break-word;\">039913297X</h4>\n            <h4 style=\"font-size: 9px; padding-left: 10px; padding-right: 10px; width: 95%; word-wrap: break-word; white-space: normal;\">http://images.amazon.com/images/P/039913297X.01._SCLZZZZZZZ_.jpg</h4><img src=\"http://images.amazon.com/images/P/039913297X.01._SCLZZZZZZZ_.jpg\"/>\n            <a href=\"#!\">\n                <span class=\"ipyplot-img-close\"/>\n            </a>\n            <a href=\"#ipyplot-content-div-g7iHkKZra6xoVmK57rV6yp-C5RATqogWiLJ2cVyeQHxCK\">\n                <span class=\"ipyplot-img-expand\"/>\n            </a>\n        </div>\n    </div>\n    \n    <div class=\"ipyplot-placeholder-div-g7iHkKZra6xoVmK57rV6yp\">\n        <div id=\"ipyplot-content-div-g7iHkKZra6xoVmK57rV6yp-Ekt26bRT2rji9DHBtV8t6F\" class=\"ipyplot-content-div-g7iHkKZra6xoVmK57rV6yp\">\n            <h4 style=\"font-size: 12px; word-wrap: break-word;\">0451167538</h4>\n            <h4 style=\"font-size: 9px; padding-left: 10px; padding-right: 10px; width: 95%; word-wrap: break-word; white-space: normal;\">http://images.amazon.com/images/P/0451167538.01._SCLZZZZZZZ_.jpg</h4><img src=\"http://images.amazon.com/images/P/0451167538.01._SCLZZZZZZZ_.jpg\"/>\n            <a href=\"#!\">\n                <span class=\"ipyplot-img-close\"/>\n            </a>\n            <a href=\"#ipyplot-content-div-g7iHkKZra6xoVmK57rV6yp-Ekt26bRT2rji9DHBtV8t6F\">\n                <span class=\"ipyplot-img-expand\"/>\n            </a>\n        </div>\n    </div>\n    \n    <div class=\"ipyplot-placeholder-div-g7iHkKZra6xoVmK57rV6yp\">\n        <div id=\"ipyplot-content-div-g7iHkKZra6xoVmK57rV6yp-4nGdmXHx9VtYZJ295SnWnA\" class=\"ipyplot-content-div-g7iHkKZra6xoVmK57rV6yp\">\n            <h4 style=\"font-size: 12px; word-wrap: break-word;\">0345413350</h4>\n            <h4 style=\"font-size: 9px; padding-left: 10px; padding-right: 10px; width: 95%; word-wrap: break-word; white-space: normal;\">http://images.amazon.com/images/P/0345413350.01._SCLZZZZZZZ_.jpg</h4><img src=\"http://images.amazon.com/images/P/0345413350.01._SCLZZZZZZZ_.jpg\"/>\n            <a href=\"#!\">\n                <span class=\"ipyplot-img-close\"/>\n            </a>\n            <a href=\"#ipyplot-content-div-g7iHkKZra6xoVmK57rV6yp-4nGdmXHx9VtYZJ295SnWnA\">\n                <span class=\"ipyplot-img-expand\"/>\n            </a>\n        </div>\n    </div>\n    \n    <div class=\"ipyplot-placeholder-div-g7iHkKZra6xoVmK57rV6yp\">\n        <div id=\"ipyplot-content-div-g7iHkKZra6xoVmK57rV6yp-ETGzAtaqew6urZZ9Bh3Za3\" class=\"ipyplot-content-div-g7iHkKZra6xoVmK57rV6yp\">\n            <h4 style=\"font-size: 12px; word-wrap: break-word;\">067101675X</h4>\n            <h4 style=\"font-size: 9px; padding-left: 10px; padding-right: 10px; width: 95%; word-wrap: break-word; white-space: normal;\">http://images.amazon.com/images/P/067101675X.01._SCLZZZZZZZ_.jpg</h4><img src=\"http://images.amazon.com/images/P/067101675X.01._SCLZZZZZZZ_.jpg\"/>\n            <a href=\"#!\">\n                <span class=\"ipyplot-img-close\"/>\n            </a>\n            <a href=\"#ipyplot-content-div-g7iHkKZra6xoVmK57rV6yp-ETGzAtaqew6urZZ9Bh3Za3\">\n                <span class=\"ipyplot-img-expand\"/>\n            </a>\n        </div>\n    </div>\n    \n    <div class=\"ipyplot-placeholder-div-g7iHkKZra6xoVmK57rV6yp\">\n        <div id=\"ipyplot-content-div-g7iHkKZra6xoVmK57rV6yp-gTUEBVc7pB4XRnHJnr6MsW\" class=\"ipyplot-content-div-g7iHkKZra6xoVmK57rV6yp\">\n            <h4 style=\"font-size: 12px; word-wrap: break-word;\">067155302X</h4>\n            <h4 style=\"font-size: 9px; padding-left: 10px; padding-right: 10px; width: 95%; word-wrap: break-word; white-space: normal;\">http://images.amazon.com/images/P/067155302X.01._SCLZZZZZZZ_.jpg</h4><img src=\"http://images.amazon.com/images/P/067155302X.01._SCLZZZZZZZ_.jpg\"/>\n            <a href=\"#!\">\n                <span class=\"ipyplot-img-close\"/>\n            </a>\n            <a href=\"#ipyplot-content-div-g7iHkKZra6xoVmK57rV6yp-gTUEBVc7pB4XRnHJnr6MsW\">\n                <span class=\"ipyplot-img-expand\"/>\n            </a>\n        </div>\n    </div>\n    \n    <div class=\"ipyplot-placeholder-div-g7iHkKZra6xoVmK57rV6yp\">\n        <div id=\"ipyplot-content-div-g7iHkKZra6xoVmK57rV6yp-fwP8pucCSdgQfJ9xaiUMrd\" class=\"ipyplot-content-div-g7iHkKZra6xoVmK57rV6yp\">\n            <h4 style=\"font-size: 12px; word-wrap: break-word;\">0345413369</h4>\n            <h4 style=\"font-size: 9px; padding-left: 10px; padding-right: 10px; width: 95%; word-wrap: break-word; white-space: normal;\">http://images.amazon.com/images/P/0345413369.01._SCLZZZZZZZ_.jpg</h4><img src=\"http://images.amazon.com/images/P/0345413369.01._SCLZZZZZZZ_.jpg\"/>\n            <a href=\"#!\">\n                <span class=\"ipyplot-img-close\"/>\n            </a>\n            <a href=\"#ipyplot-content-div-g7iHkKZra6xoVmK57rV6yp-fwP8pucCSdgQfJ9xaiUMrd\">\n                <span class=\"ipyplot-img-expand\"/>\n            </a>\n        </div>\n    </div>\n    \n    <div class=\"ipyplot-placeholder-div-g7iHkKZra6xoVmK57rV6yp\">\n        <div id=\"ipyplot-content-div-g7iHkKZra6xoVmK57rV6yp-ESXUMAY5WGNbjYSNSkEwVK\" class=\"ipyplot-content-div-g7iHkKZra6xoVmK57rV6yp\">\n            <h4 style=\"font-size: 12px; word-wrap: break-word;\">0446600660</h4>\n            <h4 style=\"font-size: 9px; padding-left: 10px; padding-right: 10px; width: 95%; word-wrap: break-word; white-space: normal;\">http://images.amazon.com/images/P/0446600660.01._SCLZZZZZZZ_.jpg</h4><img src=\"http://images.amazon.com/images/P/0446600660.01._SCLZZZZZZZ_.jpg\"/>\n            <a href=\"#!\">\n                <span class=\"ipyplot-img-close\"/>\n            </a>\n            <a href=\"#ipyplot-content-div-g7iHkKZra6xoVmK57rV6yp-ESXUMAY5WGNbjYSNSkEwVK\">\n                <span class=\"ipyplot-img-expand\"/>\n            </a>\n        </div>\n    </div>\n    </div>",
      "text/plain": "<IPython.core.display.HTML object>"
     },
     "metadata": {},
     "output_type": "display_data"
    }
   ],
   "source": [
    "sample_user_id = 7  # Terry Pratcher, Steven King, Philip Pullman\n",
    "\n",
    "# user's interactions\n",
    "interaction_df = test.data[test.data.user_id == sample_user_id]\n",
    "# translate item_ids to ASINS\n",
    "interacted_item_ids, interacted_feedback = interaction_df.item_id.values, interaction_df.feedback.values\n",
    "interacted_asins = np.vectorize(item2asin.get)(interacted_item_ids)\n",
    "\n",
    "print(\"Interacted book ASINs\")\n",
    "print(interacted_asins)\n",
    "print(len(interacted_asins))\n",
    "\n",
    "# display sample of interactions\n",
    "urls = []\n",
    "asins = np.random.choice(interacted_asins, size=MAX_IMAGES, replace=False)\n",
    "print(\"Sample interactions\")\n",
    "ipyplot.plot_images([url_pattern.replace(\"ASIN\", asin) for asin in asins], labels=asins, img_width=IMG_WIDTH)"
   ]
  },
  {
   "cell_type": "markdown",
   "metadata": {
    "id": "cJrd_pG1HWUH"
   },
   "source": [
    "### Predictions\n"
   ]
  },
  {
   "cell_type": "code",
   "execution_count": 38,
   "metadata": {
    "ExecuteTime": {
     "end_time": "2024-04-15T20:30:50.971129Z",
     "start_time": "2024-04-15T20:30:50.965361Z"
    },
    "colab": {
     "base_uri": "https://localhost:8080/",
     "height": 1000
    },
    "id": "TNaWxbygc_eR",
    "outputId": "deebcd6b-9cb5-4bdf-e64d-29e0af724120"
   },
   "outputs": [
    {
     "name": "stdout",
     "output_type": "stream",
     "text": [
      "\n",
      "Recommendations\n"
     ]
    },
    {
     "data": {
      "text/html": "\n    <style>\n        #ipyplot-html-viewer-toggle-ddBbDUsgkBpHdGM8VGXHmY {\n            position: absolute;\n            top: -9999px;\n            left: -9999px;\n            visibility: hidden;\n        }\n\n        #ipyplot-html-viewer-label-ddBbDUsgkBpHdGM8VGXHmY { \n            position: relative;\n            display: inline-block;\n            cursor: pointer;\n            color: blue;\n            text-decoration: underline;\n        }\n\n        #ipyplot-html-viewer-textarea-ddBbDUsgkBpHdGM8VGXHmY {\n            background: lightgrey;\n            width: 100%;\n            height: 0px;\n            display: none;\n        }\n\n        #ipyplot-html-viewer-toggle-ddBbDUsgkBpHdGM8VGXHmY:checked ~ #ipyplot-html-viewer-textarea-ddBbDUsgkBpHdGM8VGXHmY {\n            height: 200px;\n            display: block;\n        }\n\n        #ipyplot-html-viewer-toggle-ddBbDUsgkBpHdGM8VGXHmY:checked + #ipyplot-html-viewer-label-ddBbDUsgkBpHdGM8VGXHmY:after {\n            content: \"hide html\";\n            position: absolute;\n            top: 0;\n            left: 0;\n            right: 0;\n            bottom: 0;\n            background: white;\n            cursor: pointer;\n            color: blue;\n            text-decoration: underline;\n        }\n    </style>\n    <div>\n        <input type=\"checkbox\" id=\"ipyplot-html-viewer-toggle-ddBbDUsgkBpHdGM8VGXHmY\">\n        <label id=\"ipyplot-html-viewer-label-ddBbDUsgkBpHdGM8VGXHmY\" for=\"ipyplot-html-viewer-toggle-ddBbDUsgkBpHdGM8VGXHmY\">show html</label>\n        <textarea id=\"ipyplot-html-viewer-textarea-ddBbDUsgkBpHdGM8VGXHmY\" readonly>\n            \n        <style>\n        #ipyplot-imgs-container-div-PTj52j8fxZ4tjMuMCZ2Jb4 {\n            width: 100%;\n            height: 100%;\n            margin: 0%;\n            overflow: auto;\n            position: relative;\n            overflow-y: scroll;\n        }\n\n        div.ipyplot-placeholder-div-PTj52j8fxZ4tjMuMCZ2Jb4 {\n            width: 150px;\n            display: inline-block;\n            margin: 3px;\n            position: relative;\n        }\n\n        div.ipyplot-content-div-PTj52j8fxZ4tjMuMCZ2Jb4 {\n            width: 150px;\n            background: white;\n            display: inline-block;\n            vertical-align: top;\n            text-align: center;\n            position: relative;\n            border: 2px solid #ddd;\n            top: 0;\n            left: 0;\n        }\n\n        div.ipyplot-content-div-PTj52j8fxZ4tjMuMCZ2Jb4 span.ipyplot-img-close {\n            display: none;\n        }\n\n        div.ipyplot-content-div-PTj52j8fxZ4tjMuMCZ2Jb4 span {\n            width: 100%;\n            height: 100%;\n            position: absolute;\n            top: 0;\n            left: 0;\n        }\n\n        div.ipyplot-content-div-PTj52j8fxZ4tjMuMCZ2Jb4 img {\n            width: 150px;\n        }\n\n        div.ipyplot-content-div-PTj52j8fxZ4tjMuMCZ2Jb4 span.ipyplot-img-close:hover {\n            cursor: zoom-out;\n        }\n        div.ipyplot-content-div-PTj52j8fxZ4tjMuMCZ2Jb4 span.ipyplot-img-expand:hover {\n            cursor: zoom-in;\n        }\n\n        div[id^=ipyplot-content-div-PTj52j8fxZ4tjMuMCZ2Jb4]:target {\n            transform: scale(2.5);\n            transform-origin: left top;\n            z-index: 5000;\n            top: 0;\n            left: 0;\n            position: absolute;\n        }\n\n        div[id^=ipyplot-content-div-PTj52j8fxZ4tjMuMCZ2Jb4]:target span.ipyplot-img-close {\n            display: block;\n        }\n\n        div[id^=ipyplot-content-div-PTj52j8fxZ4tjMuMCZ2Jb4]:target span.ipyplot-img-expand {\n            display: none;\n        }\n        </style>\n    <div id=\"ipyplot-imgs-container-div-PTj52j8fxZ4tjMuMCZ2Jb4\">\n    <div class=\"ipyplot-placeholder-div-PTj52j8fxZ4tjMuMCZ2Jb4\">\n        <div id=\"ipyplot-content-div-PTj52j8fxZ4tjMuMCZ2Jb4-AhrgVcUuvnxcRoHa7r7sXP\" class=\"ipyplot-content-div-PTj52j8fxZ4tjMuMCZ2Jb4\">\n            <h4 style=\"font-size: 12px; word-wrap: break-word;\">id: 0345413377, score: 0.49370189211073645</h4>\n            <h4 style=\"font-size: 9px; padding-left: 10px; padding-right: 10px; width: 95%; word-wrap: break-word; white-space: normal;\">http://images.amazon.com/images/P/0345413377.01._SCLZZZZZZZ_.jpg</h4><img src=\"http://images.amazon.com/images/P/0345413377.01._SCLZZZZZZZ_.jpg\"/>\n            <a href=\"#!\">\n                <span class=\"ipyplot-img-close\"/>\n            </a>\n            <a href=\"#ipyplot-content-div-PTj52j8fxZ4tjMuMCZ2Jb4-AhrgVcUuvnxcRoHa7r7sXP\">\n                <span class=\"ipyplot-img-expand\"/>\n            </a>\n        </div>\n    </div>\n    \n    <div class=\"ipyplot-placeholder-div-PTj52j8fxZ4tjMuMCZ2Jb4\">\n        <div id=\"ipyplot-content-div-PTj52j8fxZ4tjMuMCZ2Jb4-BgYEkX8aBTUcX6MVN4EDt9\" class=\"ipyplot-content-div-PTj52j8fxZ4tjMuMCZ2Jb4\">\n            <h4 style=\"font-size: 12px; word-wrap: break-word;\">id: 0061020680, score: 0.42207578446675476</h4>\n            <h4 style=\"font-size: 9px; padding-left: 10px; padding-right: 10px; width: 95%; word-wrap: break-word; white-space: normal;\">http://images.amazon.com/images/P/0061020680.01._SCLZZZZZZZ_.jpg</h4><img src=\"http://images.amazon.com/images/P/0061020680.01._SCLZZZZZZZ_.jpg\"/>\n            <a href=\"#!\">\n                <span class=\"ipyplot-img-close\"/>\n            </a>\n            <a href=\"#ipyplot-content-div-PTj52j8fxZ4tjMuMCZ2Jb4-BgYEkX8aBTUcX6MVN4EDt9\">\n                <span class=\"ipyplot-img-expand\"/>\n            </a>\n        </div>\n    </div>\n    \n    <div class=\"ipyplot-placeholder-div-PTj52j8fxZ4tjMuMCZ2Jb4\">\n        <div id=\"ipyplot-content-div-PTj52j8fxZ4tjMuMCZ2Jb4-ifaKwe8mWs64ZoMRaruoSh\" class=\"ipyplot-content-div-PTj52j8fxZ4tjMuMCZ2Jb4\">\n            <h4 style=\"font-size: 12px; word-wrap: break-word;\">id: 0060855924, score: 0.42074051395401346</h4>\n            <h4 style=\"font-size: 9px; padding-left: 10px; padding-right: 10px; width: 95%; word-wrap: break-word; white-space: normal;\">http://images.amazon.com/images/P/0060855924.01._SCLZZZZZZZ_.jpg</h4><img src=\"http://images.amazon.com/images/P/0060855924.01._SCLZZZZZZZ_.jpg\"/>\n            <a href=\"#!\">\n                <span class=\"ipyplot-img-close\"/>\n            </a>\n            <a href=\"#ipyplot-content-div-PTj52j8fxZ4tjMuMCZ2Jb4-ifaKwe8mWs64ZoMRaruoSh\">\n                <span class=\"ipyplot-img-expand\"/>\n            </a>\n        </div>\n    </div>\n    \n    <div class=\"ipyplot-placeholder-div-PTj52j8fxZ4tjMuMCZ2Jb4\">\n        <div id=\"ipyplot-content-div-PTj52j8fxZ4tjMuMCZ2Jb4-YRSA4eFnfFvSEMqSAvFcKn\" class=\"ipyplot-content-div-PTj52j8fxZ4tjMuMCZ2Jb4\">\n            <h4 style=\"font-size: 12px; word-wrap: break-word;\">id: 0061020664, score: 0.2747045551425191</h4>\n            <h4 style=\"font-size: 9px; padding-left: 10px; padding-right: 10px; width: 95%; word-wrap: break-word; white-space: normal;\">http://images.amazon.com/images/P/0061020664.01._SCLZZZZZZZ_.jpg</h4><img src=\"http://images.amazon.com/images/P/0061020664.01._SCLZZZZZZZ_.jpg\"/>\n            <a href=\"#!\">\n                <span class=\"ipyplot-img-close\"/>\n            </a>\n            <a href=\"#ipyplot-content-div-PTj52j8fxZ4tjMuMCZ2Jb4-YRSA4eFnfFvSEMqSAvFcKn\">\n                <span class=\"ipyplot-img-expand\"/>\n            </a>\n        </div>\n    </div>\n    \n    <div class=\"ipyplot-placeholder-div-PTj52j8fxZ4tjMuMCZ2Jb4\">\n        <div id=\"ipyplot-content-div-PTj52j8fxZ4tjMuMCZ2Jb4-LDzqyHrf3AXXHPz4jxcnsw\" class=\"ipyplot-content-div-PTj52j8fxZ4tjMuMCZ2Jb4\">\n            <h4 style=\"font-size: 12px; word-wrap: break-word;\">id: 0385182449, score: 0.2011031802487717</h4>\n            <h4 style=\"font-size: 9px; padding-left: 10px; padding-right: 10px; width: 95%; word-wrap: break-word; white-space: normal;\">http://images.amazon.com/images/P/0385182449.01._SCLZZZZZZZ_.jpg</h4><img src=\"http://images.amazon.com/images/P/0385182449.01._SCLZZZZZZZ_.jpg\"/>\n            <a href=\"#!\">\n                <span class=\"ipyplot-img-close\"/>\n            </a>\n            <a href=\"#ipyplot-content-div-PTj52j8fxZ4tjMuMCZ2Jb4-LDzqyHrf3AXXHPz4jxcnsw\">\n                <span class=\"ipyplot-img-expand\"/>\n            </a>\n        </div>\n    </div>\n    \n    <div class=\"ipyplot-placeholder-div-PTj52j8fxZ4tjMuMCZ2Jb4\">\n        <div id=\"ipyplot-content-div-PTj52j8fxZ4tjMuMCZ2Jb4-TayXPkdNgM9GaEqJwcoc37\" class=\"ipyplot-content-div-PTj52j8fxZ4tjMuMCZ2Jb4\">\n            <h4 style=\"font-size: 12px; word-wrap: break-word;\">id: 006102063X, score: 0.19432996382852058</h4>\n            <h4 style=\"font-size: 9px; padding-left: 10px; padding-right: 10px; width: 95%; word-wrap: break-word; white-space: normal;\">http://images.amazon.com/images/P/006102063X.01._SCLZZZZZZZ_.jpg</h4><img src=\"http://images.amazon.com/images/P/006102063X.01._SCLZZZZZZZ_.jpg\"/>\n            <a href=\"#!\">\n                <span class=\"ipyplot-img-close\"/>\n            </a>\n            <a href=\"#ipyplot-content-div-PTj52j8fxZ4tjMuMCZ2Jb4-TayXPkdNgM9GaEqJwcoc37\">\n                <span class=\"ipyplot-img-expand\"/>\n            </a>\n        </div>\n    </div>\n    \n    <div class=\"ipyplot-placeholder-div-PTj52j8fxZ4tjMuMCZ2Jb4\">\n        <div id=\"ipyplot-content-div-PTj52j8fxZ4tjMuMCZ2Jb4-VXiz3g9GArJAtjQbE4FFZJ\" class=\"ipyplot-content-div-PTj52j8fxZ4tjMuMCZ2Jb4\">\n            <h4 style=\"font-size: 12px; word-wrap: break-word;\">id: 0451161351, score: 0.1901791989188038</h4>\n            <h4 style=\"font-size: 9px; padding-left: 10px; padding-right: 10px; width: 95%; word-wrap: break-word; white-space: normal;\">http://images.amazon.com/images/P/0451161351.01._SCLZZZZZZZ_.jpg</h4><img src=\"http://images.amazon.com/images/P/0451161351.01._SCLZZZZZZZ_.jpg\"/>\n            <a href=\"#!\">\n                <span class=\"ipyplot-img-close\"/>\n            </a>\n            <a href=\"#ipyplot-content-div-PTj52j8fxZ4tjMuMCZ2Jb4-VXiz3g9GArJAtjQbE4FFZJ\">\n                <span class=\"ipyplot-img-expand\"/>\n            </a>\n        </div>\n    </div>\n    \n    <div class=\"ipyplot-placeholder-div-PTj52j8fxZ4tjMuMCZ2Jb4\">\n        <div id=\"ipyplot-content-div-PTj52j8fxZ4tjMuMCZ2Jb4-ACHXVgXVVFFqr2Rzjsm44n\" class=\"ipyplot-content-div-PTj52j8fxZ4tjMuMCZ2Jb4\">\n            <h4 style=\"font-size: 12px; word-wrap: break-word;\">id: 0385129912, score: 0.18771123492093705</h4>\n            <h4 style=\"font-size: 9px; padding-left: 10px; padding-right: 10px; width: 95%; word-wrap: break-word; white-space: normal;\">http://images.amazon.com/images/P/0385129912.01._SCLZZZZZZZ_.jpg</h4><img src=\"http://images.amazon.com/images/P/0385129912.01._SCLZZZZZZZ_.jpg\"/>\n            <a href=\"#!\">\n                <span class=\"ipyplot-img-close\"/>\n            </a>\n            <a href=\"#ipyplot-content-div-PTj52j8fxZ4tjMuMCZ2Jb4-ACHXVgXVVFFqr2Rzjsm44n\">\n                <span class=\"ipyplot-img-expand\"/>\n            </a>\n        </div>\n    </div>\n    \n    <div class=\"ipyplot-placeholder-div-PTj52j8fxZ4tjMuMCZ2Jb4\">\n        <div id=\"ipyplot-content-div-PTj52j8fxZ4tjMuMCZ2Jb4-dXRY2Xv5w9Cz2S47AVS5LJ\" class=\"ipyplot-content-div-PTj52j8fxZ4tjMuMCZ2Jb4\">\n            <h4 style=\"font-size: 12px; word-wrap: break-word;\">id: 0553817736, score: 0.15272902617775766</h4>\n            <h4 style=\"font-size: 9px; padding-left: 10px; padding-right: 10px; width: 95%; word-wrap: break-word; white-space: normal;\">http://images.amazon.com/images/P/0553817736.01._SCLZZZZZZZ_.jpg</h4><img src=\"http://images.amazon.com/images/P/0553817736.01._SCLZZZZZZZ_.jpg\"/>\n            <a href=\"#!\">\n                <span class=\"ipyplot-img-close\"/>\n            </a>\n            <a href=\"#ipyplot-content-div-PTj52j8fxZ4tjMuMCZ2Jb4-dXRY2Xv5w9Cz2S47AVS5LJ\">\n                <span class=\"ipyplot-img-expand\"/>\n            </a>\n        </div>\n    </div>\n    \n    <div class=\"ipyplot-placeholder-div-PTj52j8fxZ4tjMuMCZ2Jb4\">\n        <div id=\"ipyplot-content-div-PTj52j8fxZ4tjMuMCZ2Jb4-iCQw8LoYQjPg2wqUiwVM5j\" class=\"ipyplot-content-div-PTj52j8fxZ4tjMuMCZ2Jb4\">\n            <h4 style=\"font-size: 12px; word-wrap: break-word;\">id: 0307743675, score: 0.14291242941837087</h4>\n            <h4 style=\"font-size: 9px; padding-left: 10px; padding-right: 10px; width: 95%; word-wrap: break-word; white-space: normal;\">http://images.amazon.com/images/P/0307743675.01._SCLZZZZZZZ_.jpg</h4><img src=\"http://images.amazon.com/images/P/0307743675.01._SCLZZZZZZZ_.jpg\"/>\n            <a href=\"#!\">\n                <span class=\"ipyplot-img-close\"/>\n            </a>\n            <a href=\"#ipyplot-content-div-PTj52j8fxZ4tjMuMCZ2Jb4-iCQw8LoYQjPg2wqUiwVM5j\">\n                <span class=\"ipyplot-img-expand\"/>\n            </a>\n        </div>\n    </div>\n    \n    <div class=\"ipyplot-placeholder-div-PTj52j8fxZ4tjMuMCZ2Jb4\">\n        <div id=\"ipyplot-content-div-PTj52j8fxZ4tjMuMCZ2Jb4-BChg4cz3Ng4LuVox8d6ikB\" class=\"ipyplot-content-div-PTj52j8fxZ4tjMuMCZ2Jb4\">\n            <h4 style=\"font-size: 12px; word-wrap: break-word;\">id: 0345313151, score: 0.12700538403456157</h4>\n            <h4 style=\"font-size: 9px; padding-left: 10px; padding-right: 10px; width: 95%; word-wrap: break-word; white-space: normal;\">http://images.amazon.com/images/P/0345313151.01._SCLZZZZZZZ_.jpg</h4><img src=\"http://images.amazon.com/images/P/0345313151.01._SCLZZZZZZZ_.jpg\"/>\n            <a href=\"#!\">\n                <span class=\"ipyplot-img-close\"/>\n            </a>\n            <a href=\"#ipyplot-content-div-PTj52j8fxZ4tjMuMCZ2Jb4-BChg4cz3Ng4LuVox8d6ikB\">\n                <span class=\"ipyplot-img-expand\"/>\n            </a>\n        </div>\n    </div>\n    \n    <div class=\"ipyplot-placeholder-div-PTj52j8fxZ4tjMuMCZ2Jb4\">\n        <div id=\"ipyplot-content-div-PTj52j8fxZ4tjMuMCZ2Jb4-iFLVDBrhLijezRAW9KcbuU\" class=\"ipyplot-content-div-PTj52j8fxZ4tjMuMCZ2Jb4\">\n            <h4 style=\"font-size: 12px; word-wrap: break-word;\">id: 0061020656, score: 0.12018445964675449</h4>\n            <h4 style=\"font-size: 9px; padding-left: 10px; padding-right: 10px; width: 95%; word-wrap: break-word; white-space: normal;\">http://images.amazon.com/images/P/0061020656.01._SCLZZZZZZZ_.jpg</h4><img src=\"http://images.amazon.com/images/P/0061020656.01._SCLZZZZZZZ_.jpg\"/>\n            <a href=\"#!\">\n                <span class=\"ipyplot-img-close\"/>\n            </a>\n            <a href=\"#ipyplot-content-div-PTj52j8fxZ4tjMuMCZ2Jb4-iFLVDBrhLijezRAW9KcbuU\">\n                <span class=\"ipyplot-img-expand\"/>\n            </a>\n        </div>\n    </div>\n    \n    <div class=\"ipyplot-placeholder-div-PTj52j8fxZ4tjMuMCZ2Jb4\">\n        <div id=\"ipyplot-content-div-PTj52j8fxZ4tjMuMCZ2Jb4-UkwwxzJySyAKXSjsjDYBJr\" class=\"ipyplot-content-div-PTj52j8fxZ4tjMuMCZ2Jb4\">\n            <h4 style=\"font-size: 12px; word-wrap: break-word;\">id: 0553277405, score: 0.11744586278530612</h4>\n            <h4 style=\"font-size: 9px; padding-left: 10px; padding-right: 10px; width: 95%; word-wrap: break-word; white-space: normal;\">http://images.amazon.com/images/P/0553277405.01._SCLZZZZZZZ_.jpg</h4><img src=\"http://images.amazon.com/images/P/0553277405.01._SCLZZZZZZZ_.jpg\"/>\n            <a href=\"#!\">\n                <span class=\"ipyplot-img-close\"/>\n            </a>\n            <a href=\"#ipyplot-content-div-PTj52j8fxZ4tjMuMCZ2Jb4-UkwwxzJySyAKXSjsjDYBJr\">\n                <span class=\"ipyplot-img-expand\"/>\n            </a>\n        </div>\n    </div>\n    \n    <div class=\"ipyplot-placeholder-div-PTj52j8fxZ4tjMuMCZ2Jb4\">\n        <div id=\"ipyplot-content-div-PTj52j8fxZ4tjMuMCZ2Jb4-EBMAs95KbHGmmEXcwyenBm\" class=\"ipyplot-content-div-PTj52j8fxZ4tjMuMCZ2Jb4\">\n            <h4 style=\"font-size: 12px; word-wrap: break-word;\">id: 0425233499, score: 0.11616546597582991</h4>\n            <h4 style=\"font-size: 9px; padding-left: 10px; padding-right: 10px; width: 95%; word-wrap: break-word; white-space: normal;\">http://images.amazon.com/images/P/0425233499.01._SCLZZZZZZZ_.jpg</h4><img src=\"http://images.amazon.com/images/P/0425233499.01._SCLZZZZZZZ_.jpg\"/>\n            <a href=\"#!\">\n                <span class=\"ipyplot-img-close\"/>\n            </a>\n            <a href=\"#ipyplot-content-div-PTj52j8fxZ4tjMuMCZ2Jb4-EBMAs95KbHGmmEXcwyenBm\">\n                <span class=\"ipyplot-img-expand\"/>\n            </a>\n        </div>\n    </div>\n    \n    <div class=\"ipyplot-placeholder-div-PTj52j8fxZ4tjMuMCZ2Jb4\">\n        <div id=\"ipyplot-content-div-PTj52j8fxZ4tjMuMCZ2Jb4-MC4jVC5HicFZZeeWt7CQB9\" class=\"ipyplot-content-div-PTj52j8fxZ4tjMuMCZ2Jb4\">\n            <h4 style=\"font-size: 12px; word-wrap: break-word;\">id: 0765317516, score: 0.11477661818549575</h4>\n            <h4 style=\"font-size: 9px; padding-left: 10px; padding-right: 10px; width: 95%; word-wrap: break-word; white-space: normal;\">http://images.amazon.com/images/P/0765317516.01._SCLZZZZZZZ_.jpg</h4><img src=\"http://images.amazon.com/images/P/0765317516.01._SCLZZZZZZZ_.jpg\"/>\n            <a href=\"#!\">\n                <span class=\"ipyplot-img-close\"/>\n            </a>\n            <a href=\"#ipyplot-content-div-PTj52j8fxZ4tjMuMCZ2Jb4-MC4jVC5HicFZZeeWt7CQB9\">\n                <span class=\"ipyplot-img-expand\"/>\n            </a>\n        </div>\n    </div>\n    \n    <div class=\"ipyplot-placeholder-div-PTj52j8fxZ4tjMuMCZ2Jb4\">\n        <div id=\"ipyplot-content-div-PTj52j8fxZ4tjMuMCZ2Jb4-Yjuw6WHqTUZvC6zEZzgF6V\" class=\"ipyplot-content-div-PTj52j8fxZ4tjMuMCZ2Jb4\">\n            <h4 style=\"font-size: 12px; word-wrap: break-word;\">id: 0345318854, score: 0.11407926233561475</h4>\n            <h4 style=\"font-size: 9px; padding-left: 10px; padding-right: 10px; width: 95%; word-wrap: break-word; white-space: normal;\">http://images.amazon.com/images/P/0345318854.01._SCLZZZZZZZ_.jpg</h4><img src=\"http://images.amazon.com/images/P/0345318854.01._SCLZZZZZZZ_.jpg\"/>\n            <a href=\"#!\">\n                <span class=\"ipyplot-img-close\"/>\n            </a>\n            <a href=\"#ipyplot-content-div-PTj52j8fxZ4tjMuMCZ2Jb4-Yjuw6WHqTUZvC6zEZzgF6V\">\n                <span class=\"ipyplot-img-expand\"/>\n            </a>\n        </div>\n    </div>\n    \n    <div class=\"ipyplot-placeholder-div-PTj52j8fxZ4tjMuMCZ2Jb4\">\n        <div id=\"ipyplot-content-div-PTj52j8fxZ4tjMuMCZ2Jb4-Cq2u6zdMHLnAQQwGk5f75a\" class=\"ipyplot-content-div-PTj52j8fxZ4tjMuMCZ2Jb4\">\n            <h4 style=\"font-size: 12px; word-wrap: break-word;\">id: 0425197387, score: 0.11327142079918191</h4>\n            <h4 style=\"font-size: 9px; padding-left: 10px; padding-right: 10px; width: 95%; word-wrap: break-word; white-space: normal;\">http://images.amazon.com/images/P/0425197387.01._SCLZZZZZZZ_.jpg</h4><img src=\"http://images.amazon.com/images/P/0425197387.01._SCLZZZZZZZ_.jpg\"/>\n            <a href=\"#!\">\n                <span class=\"ipyplot-img-close\"/>\n            </a>\n            <a href=\"#ipyplot-content-div-PTj52j8fxZ4tjMuMCZ2Jb4-Cq2u6zdMHLnAQQwGk5f75a\">\n                <span class=\"ipyplot-img-expand\"/>\n            </a>\n        </div>\n    </div>\n    \n    <div class=\"ipyplot-placeholder-div-PTj52j8fxZ4tjMuMCZ2Jb4\">\n        <div id=\"ipyplot-content-div-PTj52j8fxZ4tjMuMCZ2Jb4-Eof2Pr2DELXy8CW2xhqdFj\" class=\"ipyplot-content-div-PTj52j8fxZ4tjMuMCZ2Jb4\">\n            <h4 style=\"font-size: 12px; word-wrap: break-word;\">id: 0440423147, score: 0.11004694811996583</h4>\n            <h4 style=\"font-size: 9px; padding-left: 10px; padding-right: 10px; width: 95%; word-wrap: break-word; white-space: normal;\">http://images.amazon.com/images/P/0440423147.01._SCLZZZZZZZ_.jpg</h4><img src=\"http://images.amazon.com/images/P/0440423147.01._SCLZZZZZZZ_.jpg\"/>\n            <a href=\"#!\">\n                <span class=\"ipyplot-img-close\"/>\n            </a>\n            <a href=\"#ipyplot-content-div-PTj52j8fxZ4tjMuMCZ2Jb4-Eof2Pr2DELXy8CW2xhqdFj\">\n                <span class=\"ipyplot-img-expand\"/>\n            </a>\n        </div>\n    </div>\n    \n    <div class=\"ipyplot-placeholder-div-PTj52j8fxZ4tjMuMCZ2Jb4\">\n        <div id=\"ipyplot-content-div-PTj52j8fxZ4tjMuMCZ2Jb4-GyphMjXrqyRvXKcz3qSpem\" class=\"ipyplot-content-div-PTj52j8fxZ4tjMuMCZ2Jb4\">\n            <h4 style=\"font-size: 12px; word-wrap: break-word;\">id: 0786808012, score: 0.10816222421464443</h4>\n            <h4 style=\"font-size: 9px; padding-left: 10px; padding-right: 10px; width: 95%; word-wrap: break-word; white-space: normal;\">http://images.amazon.com/images/P/0786808012.01._SCLZZZZZZZ_.jpg</h4><img src=\"http://images.amazon.com/images/P/0786808012.01._SCLZZZZZZZ_.jpg\"/>\n            <a href=\"#!\">\n                <span class=\"ipyplot-img-close\"/>\n            </a>\n            <a href=\"#ipyplot-content-div-PTj52j8fxZ4tjMuMCZ2Jb4-GyphMjXrqyRvXKcz3qSpem\">\n                <span class=\"ipyplot-img-expand\"/>\n            </a>\n        </div>\n    </div>\n    \n    <div class=\"ipyplot-placeholder-div-PTj52j8fxZ4tjMuMCZ2Jb4\">\n        <div id=\"ipyplot-content-div-PTj52j8fxZ4tjMuMCZ2Jb4-TGBPEwKytcHmfDT76C7Nev\" class=\"ipyplot-content-div-PTj52j8fxZ4tjMuMCZ2Jb4\">\n            <h4 style=\"font-size: 12px; word-wrap: break-word;\">id: 0307743659, score: 0.10758598115390258</h4>\n            <h4 style=\"font-size: 9px; padding-left: 10px; padding-right: 10px; width: 95%; word-wrap: break-word; white-space: normal;\">http://images.amazon.com/images/P/0307743659.01._SCLZZZZZZZ_.jpg</h4><img src=\"http://images.amazon.com/images/P/0307743659.01._SCLZZZZZZZ_.jpg\"/>\n            <a href=\"#!\">\n                <span class=\"ipyplot-img-close\"/>\n            </a>\n            <a href=\"#ipyplot-content-div-PTj52j8fxZ4tjMuMCZ2Jb4-TGBPEwKytcHmfDT76C7Nev\">\n                <span class=\"ipyplot-img-expand\"/>\n            </a>\n        </div>\n    </div>\n    </div>\n        </textarea>\n    </div>\n    ",
      "text/plain": "<IPython.core.display.HTML object>"
     },
     "metadata": {},
     "output_type": "display_data"
    },
    {
     "data": {
      "text/html": "\n        <style>\n        #ipyplot-imgs-container-div-PTj52j8fxZ4tjMuMCZ2Jb4 {\n            width: 100%;\n            height: 100%;\n            margin: 0%;\n            overflow: auto;\n            position: relative;\n            overflow-y: scroll;\n        }\n\n        div.ipyplot-placeholder-div-PTj52j8fxZ4tjMuMCZ2Jb4 {\n            width: 150px;\n            display: inline-block;\n            margin: 3px;\n            position: relative;\n        }\n\n        div.ipyplot-content-div-PTj52j8fxZ4tjMuMCZ2Jb4 {\n            width: 150px;\n            background: white;\n            display: inline-block;\n            vertical-align: top;\n            text-align: center;\n            position: relative;\n            border: 2px solid #ddd;\n            top: 0;\n            left: 0;\n        }\n\n        div.ipyplot-content-div-PTj52j8fxZ4tjMuMCZ2Jb4 span.ipyplot-img-close {\n            display: none;\n        }\n\n        div.ipyplot-content-div-PTj52j8fxZ4tjMuMCZ2Jb4 span {\n            width: 100%;\n            height: 100%;\n            position: absolute;\n            top: 0;\n            left: 0;\n        }\n\n        div.ipyplot-content-div-PTj52j8fxZ4tjMuMCZ2Jb4 img {\n            width: 150px;\n        }\n\n        div.ipyplot-content-div-PTj52j8fxZ4tjMuMCZ2Jb4 span.ipyplot-img-close:hover {\n            cursor: zoom-out;\n        }\n        div.ipyplot-content-div-PTj52j8fxZ4tjMuMCZ2Jb4 span.ipyplot-img-expand:hover {\n            cursor: zoom-in;\n        }\n\n        div[id^=ipyplot-content-div-PTj52j8fxZ4tjMuMCZ2Jb4]:target {\n            transform: scale(2.5);\n            transform-origin: left top;\n            z-index: 5000;\n            top: 0;\n            left: 0;\n            position: absolute;\n        }\n\n        div[id^=ipyplot-content-div-PTj52j8fxZ4tjMuMCZ2Jb4]:target span.ipyplot-img-close {\n            display: block;\n        }\n\n        div[id^=ipyplot-content-div-PTj52j8fxZ4tjMuMCZ2Jb4]:target span.ipyplot-img-expand {\n            display: none;\n        }\n        </style>\n    <div id=\"ipyplot-imgs-container-div-PTj52j8fxZ4tjMuMCZ2Jb4\">\n    <div class=\"ipyplot-placeholder-div-PTj52j8fxZ4tjMuMCZ2Jb4\">\n        <div id=\"ipyplot-content-div-PTj52j8fxZ4tjMuMCZ2Jb4-AhrgVcUuvnxcRoHa7r7sXP\" class=\"ipyplot-content-div-PTj52j8fxZ4tjMuMCZ2Jb4\">\n            <h4 style=\"font-size: 12px; word-wrap: break-word;\">id: 0345413377, score: 0.49370189211073645</h4>\n            <h4 style=\"font-size: 9px; padding-left: 10px; padding-right: 10px; width: 95%; word-wrap: break-word; white-space: normal;\">http://images.amazon.com/images/P/0345413377.01._SCLZZZZZZZ_.jpg</h4><img src=\"http://images.amazon.com/images/P/0345413377.01._SCLZZZZZZZ_.jpg\"/>\n            <a href=\"#!\">\n                <span class=\"ipyplot-img-close\"/>\n            </a>\n            <a href=\"#ipyplot-content-div-PTj52j8fxZ4tjMuMCZ2Jb4-AhrgVcUuvnxcRoHa7r7sXP\">\n                <span class=\"ipyplot-img-expand\"/>\n            </a>\n        </div>\n    </div>\n    \n    <div class=\"ipyplot-placeholder-div-PTj52j8fxZ4tjMuMCZ2Jb4\">\n        <div id=\"ipyplot-content-div-PTj52j8fxZ4tjMuMCZ2Jb4-BgYEkX8aBTUcX6MVN4EDt9\" class=\"ipyplot-content-div-PTj52j8fxZ4tjMuMCZ2Jb4\">\n            <h4 style=\"font-size: 12px; word-wrap: break-word;\">id: 0061020680, score: 0.42207578446675476</h4>\n            <h4 style=\"font-size: 9px; padding-left: 10px; padding-right: 10px; width: 95%; word-wrap: break-word; white-space: normal;\">http://images.amazon.com/images/P/0061020680.01._SCLZZZZZZZ_.jpg</h4><img src=\"http://images.amazon.com/images/P/0061020680.01._SCLZZZZZZZ_.jpg\"/>\n            <a href=\"#!\">\n                <span class=\"ipyplot-img-close\"/>\n            </a>\n            <a href=\"#ipyplot-content-div-PTj52j8fxZ4tjMuMCZ2Jb4-BgYEkX8aBTUcX6MVN4EDt9\">\n                <span class=\"ipyplot-img-expand\"/>\n            </a>\n        </div>\n    </div>\n    \n    <div class=\"ipyplot-placeholder-div-PTj52j8fxZ4tjMuMCZ2Jb4\">\n        <div id=\"ipyplot-content-div-PTj52j8fxZ4tjMuMCZ2Jb4-ifaKwe8mWs64ZoMRaruoSh\" class=\"ipyplot-content-div-PTj52j8fxZ4tjMuMCZ2Jb4\">\n            <h4 style=\"font-size: 12px; word-wrap: break-word;\">id: 0060855924, score: 0.42074051395401346</h4>\n            <h4 style=\"font-size: 9px; padding-left: 10px; padding-right: 10px; width: 95%; word-wrap: break-word; white-space: normal;\">http://images.amazon.com/images/P/0060855924.01._SCLZZZZZZZ_.jpg</h4><img src=\"http://images.amazon.com/images/P/0060855924.01._SCLZZZZZZZ_.jpg\"/>\n            <a href=\"#!\">\n                <span class=\"ipyplot-img-close\"/>\n            </a>\n            <a href=\"#ipyplot-content-div-PTj52j8fxZ4tjMuMCZ2Jb4-ifaKwe8mWs64ZoMRaruoSh\">\n                <span class=\"ipyplot-img-expand\"/>\n            </a>\n        </div>\n    </div>\n    \n    <div class=\"ipyplot-placeholder-div-PTj52j8fxZ4tjMuMCZ2Jb4\">\n        <div id=\"ipyplot-content-div-PTj52j8fxZ4tjMuMCZ2Jb4-YRSA4eFnfFvSEMqSAvFcKn\" class=\"ipyplot-content-div-PTj52j8fxZ4tjMuMCZ2Jb4\">\n            <h4 style=\"font-size: 12px; word-wrap: break-word;\">id: 0061020664, score: 0.2747045551425191</h4>\n            <h4 style=\"font-size: 9px; padding-left: 10px; padding-right: 10px; width: 95%; word-wrap: break-word; white-space: normal;\">http://images.amazon.com/images/P/0061020664.01._SCLZZZZZZZ_.jpg</h4><img src=\"http://images.amazon.com/images/P/0061020664.01._SCLZZZZZZZ_.jpg\"/>\n            <a href=\"#!\">\n                <span class=\"ipyplot-img-close\"/>\n            </a>\n            <a href=\"#ipyplot-content-div-PTj52j8fxZ4tjMuMCZ2Jb4-YRSA4eFnfFvSEMqSAvFcKn\">\n                <span class=\"ipyplot-img-expand\"/>\n            </a>\n        </div>\n    </div>\n    \n    <div class=\"ipyplot-placeholder-div-PTj52j8fxZ4tjMuMCZ2Jb4\">\n        <div id=\"ipyplot-content-div-PTj52j8fxZ4tjMuMCZ2Jb4-LDzqyHrf3AXXHPz4jxcnsw\" class=\"ipyplot-content-div-PTj52j8fxZ4tjMuMCZ2Jb4\">\n            <h4 style=\"font-size: 12px; word-wrap: break-word;\">id: 0385182449, score: 0.2011031802487717</h4>\n            <h4 style=\"font-size: 9px; padding-left: 10px; padding-right: 10px; width: 95%; word-wrap: break-word; white-space: normal;\">http://images.amazon.com/images/P/0385182449.01._SCLZZZZZZZ_.jpg</h4><img src=\"http://images.amazon.com/images/P/0385182449.01._SCLZZZZZZZ_.jpg\"/>\n            <a href=\"#!\">\n                <span class=\"ipyplot-img-close\"/>\n            </a>\n            <a href=\"#ipyplot-content-div-PTj52j8fxZ4tjMuMCZ2Jb4-LDzqyHrf3AXXHPz4jxcnsw\">\n                <span class=\"ipyplot-img-expand\"/>\n            </a>\n        </div>\n    </div>\n    \n    <div class=\"ipyplot-placeholder-div-PTj52j8fxZ4tjMuMCZ2Jb4\">\n        <div id=\"ipyplot-content-div-PTj52j8fxZ4tjMuMCZ2Jb4-TayXPkdNgM9GaEqJwcoc37\" class=\"ipyplot-content-div-PTj52j8fxZ4tjMuMCZ2Jb4\">\n            <h4 style=\"font-size: 12px; word-wrap: break-word;\">id: 006102063X, score: 0.19432996382852058</h4>\n            <h4 style=\"font-size: 9px; padding-left: 10px; padding-right: 10px; width: 95%; word-wrap: break-word; white-space: normal;\">http://images.amazon.com/images/P/006102063X.01._SCLZZZZZZZ_.jpg</h4><img src=\"http://images.amazon.com/images/P/006102063X.01._SCLZZZZZZZ_.jpg\"/>\n            <a href=\"#!\">\n                <span class=\"ipyplot-img-close\"/>\n            </a>\n            <a href=\"#ipyplot-content-div-PTj52j8fxZ4tjMuMCZ2Jb4-TayXPkdNgM9GaEqJwcoc37\">\n                <span class=\"ipyplot-img-expand\"/>\n            </a>\n        </div>\n    </div>\n    \n    <div class=\"ipyplot-placeholder-div-PTj52j8fxZ4tjMuMCZ2Jb4\">\n        <div id=\"ipyplot-content-div-PTj52j8fxZ4tjMuMCZ2Jb4-VXiz3g9GArJAtjQbE4FFZJ\" class=\"ipyplot-content-div-PTj52j8fxZ4tjMuMCZ2Jb4\">\n            <h4 style=\"font-size: 12px; word-wrap: break-word;\">id: 0451161351, score: 0.1901791989188038</h4>\n            <h4 style=\"font-size: 9px; padding-left: 10px; padding-right: 10px; width: 95%; word-wrap: break-word; white-space: normal;\">http://images.amazon.com/images/P/0451161351.01._SCLZZZZZZZ_.jpg</h4><img src=\"http://images.amazon.com/images/P/0451161351.01._SCLZZZZZZZ_.jpg\"/>\n            <a href=\"#!\">\n                <span class=\"ipyplot-img-close\"/>\n            </a>\n            <a href=\"#ipyplot-content-div-PTj52j8fxZ4tjMuMCZ2Jb4-VXiz3g9GArJAtjQbE4FFZJ\">\n                <span class=\"ipyplot-img-expand\"/>\n            </a>\n        </div>\n    </div>\n    \n    <div class=\"ipyplot-placeholder-div-PTj52j8fxZ4tjMuMCZ2Jb4\">\n        <div id=\"ipyplot-content-div-PTj52j8fxZ4tjMuMCZ2Jb4-ACHXVgXVVFFqr2Rzjsm44n\" class=\"ipyplot-content-div-PTj52j8fxZ4tjMuMCZ2Jb4\">\n            <h4 style=\"font-size: 12px; word-wrap: break-word;\">id: 0385129912, score: 0.18771123492093705</h4>\n            <h4 style=\"font-size: 9px; padding-left: 10px; padding-right: 10px; width: 95%; word-wrap: break-word; white-space: normal;\">http://images.amazon.com/images/P/0385129912.01._SCLZZZZZZZ_.jpg</h4><img src=\"http://images.amazon.com/images/P/0385129912.01._SCLZZZZZZZ_.jpg\"/>\n            <a href=\"#!\">\n                <span class=\"ipyplot-img-close\"/>\n            </a>\n            <a href=\"#ipyplot-content-div-PTj52j8fxZ4tjMuMCZ2Jb4-ACHXVgXVVFFqr2Rzjsm44n\">\n                <span class=\"ipyplot-img-expand\"/>\n            </a>\n        </div>\n    </div>\n    \n    <div class=\"ipyplot-placeholder-div-PTj52j8fxZ4tjMuMCZ2Jb4\">\n        <div id=\"ipyplot-content-div-PTj52j8fxZ4tjMuMCZ2Jb4-dXRY2Xv5w9Cz2S47AVS5LJ\" class=\"ipyplot-content-div-PTj52j8fxZ4tjMuMCZ2Jb4\">\n            <h4 style=\"font-size: 12px; word-wrap: break-word;\">id: 0553817736, score: 0.15272902617775766</h4>\n            <h4 style=\"font-size: 9px; padding-left: 10px; padding-right: 10px; width: 95%; word-wrap: break-word; white-space: normal;\">http://images.amazon.com/images/P/0553817736.01._SCLZZZZZZZ_.jpg</h4><img src=\"http://images.amazon.com/images/P/0553817736.01._SCLZZZZZZZ_.jpg\"/>\n            <a href=\"#!\">\n                <span class=\"ipyplot-img-close\"/>\n            </a>\n            <a href=\"#ipyplot-content-div-PTj52j8fxZ4tjMuMCZ2Jb4-dXRY2Xv5w9Cz2S47AVS5LJ\">\n                <span class=\"ipyplot-img-expand\"/>\n            </a>\n        </div>\n    </div>\n    \n    <div class=\"ipyplot-placeholder-div-PTj52j8fxZ4tjMuMCZ2Jb4\">\n        <div id=\"ipyplot-content-div-PTj52j8fxZ4tjMuMCZ2Jb4-iCQw8LoYQjPg2wqUiwVM5j\" class=\"ipyplot-content-div-PTj52j8fxZ4tjMuMCZ2Jb4\">\n            <h4 style=\"font-size: 12px; word-wrap: break-word;\">id: 0307743675, score: 0.14291242941837087</h4>\n            <h4 style=\"font-size: 9px; padding-left: 10px; padding-right: 10px; width: 95%; word-wrap: break-word; white-space: normal;\">http://images.amazon.com/images/P/0307743675.01._SCLZZZZZZZ_.jpg</h4><img src=\"http://images.amazon.com/images/P/0307743675.01._SCLZZZZZZZ_.jpg\"/>\n            <a href=\"#!\">\n                <span class=\"ipyplot-img-close\"/>\n            </a>\n            <a href=\"#ipyplot-content-div-PTj52j8fxZ4tjMuMCZ2Jb4-iCQw8LoYQjPg2wqUiwVM5j\">\n                <span class=\"ipyplot-img-expand\"/>\n            </a>\n        </div>\n    </div>\n    \n    <div class=\"ipyplot-placeholder-div-PTj52j8fxZ4tjMuMCZ2Jb4\">\n        <div id=\"ipyplot-content-div-PTj52j8fxZ4tjMuMCZ2Jb4-BChg4cz3Ng4LuVox8d6ikB\" class=\"ipyplot-content-div-PTj52j8fxZ4tjMuMCZ2Jb4\">\n            <h4 style=\"font-size: 12px; word-wrap: break-word;\">id: 0345313151, score: 0.12700538403456157</h4>\n            <h4 style=\"font-size: 9px; padding-left: 10px; padding-right: 10px; width: 95%; word-wrap: break-word; white-space: normal;\">http://images.amazon.com/images/P/0345313151.01._SCLZZZZZZZ_.jpg</h4><img src=\"http://images.amazon.com/images/P/0345313151.01._SCLZZZZZZZ_.jpg\"/>\n            <a href=\"#!\">\n                <span class=\"ipyplot-img-close\"/>\n            </a>\n            <a href=\"#ipyplot-content-div-PTj52j8fxZ4tjMuMCZ2Jb4-BChg4cz3Ng4LuVox8d6ikB\">\n                <span class=\"ipyplot-img-expand\"/>\n            </a>\n        </div>\n    </div>\n    \n    <div class=\"ipyplot-placeholder-div-PTj52j8fxZ4tjMuMCZ2Jb4\">\n        <div id=\"ipyplot-content-div-PTj52j8fxZ4tjMuMCZ2Jb4-iFLVDBrhLijezRAW9KcbuU\" class=\"ipyplot-content-div-PTj52j8fxZ4tjMuMCZ2Jb4\">\n            <h4 style=\"font-size: 12px; word-wrap: break-word;\">id: 0061020656, score: 0.12018445964675449</h4>\n            <h4 style=\"font-size: 9px; padding-left: 10px; padding-right: 10px; width: 95%; word-wrap: break-word; white-space: normal;\">http://images.amazon.com/images/P/0061020656.01._SCLZZZZZZZ_.jpg</h4><img src=\"http://images.amazon.com/images/P/0061020656.01._SCLZZZZZZZ_.jpg\"/>\n            <a href=\"#!\">\n                <span class=\"ipyplot-img-close\"/>\n            </a>\n            <a href=\"#ipyplot-content-div-PTj52j8fxZ4tjMuMCZ2Jb4-iFLVDBrhLijezRAW9KcbuU\">\n                <span class=\"ipyplot-img-expand\"/>\n            </a>\n        </div>\n    </div>\n    \n    <div class=\"ipyplot-placeholder-div-PTj52j8fxZ4tjMuMCZ2Jb4\">\n        <div id=\"ipyplot-content-div-PTj52j8fxZ4tjMuMCZ2Jb4-UkwwxzJySyAKXSjsjDYBJr\" class=\"ipyplot-content-div-PTj52j8fxZ4tjMuMCZ2Jb4\">\n            <h4 style=\"font-size: 12px; word-wrap: break-word;\">id: 0553277405, score: 0.11744586278530612</h4>\n            <h4 style=\"font-size: 9px; padding-left: 10px; padding-right: 10px; width: 95%; word-wrap: break-word; white-space: normal;\">http://images.amazon.com/images/P/0553277405.01._SCLZZZZZZZ_.jpg</h4><img src=\"http://images.amazon.com/images/P/0553277405.01._SCLZZZZZZZ_.jpg\"/>\n            <a href=\"#!\">\n                <span class=\"ipyplot-img-close\"/>\n            </a>\n            <a href=\"#ipyplot-content-div-PTj52j8fxZ4tjMuMCZ2Jb4-UkwwxzJySyAKXSjsjDYBJr\">\n                <span class=\"ipyplot-img-expand\"/>\n            </a>\n        </div>\n    </div>\n    \n    <div class=\"ipyplot-placeholder-div-PTj52j8fxZ4tjMuMCZ2Jb4\">\n        <div id=\"ipyplot-content-div-PTj52j8fxZ4tjMuMCZ2Jb4-EBMAs95KbHGmmEXcwyenBm\" class=\"ipyplot-content-div-PTj52j8fxZ4tjMuMCZ2Jb4\">\n            <h4 style=\"font-size: 12px; word-wrap: break-word;\">id: 0425233499, score: 0.11616546597582991</h4>\n            <h4 style=\"font-size: 9px; padding-left: 10px; padding-right: 10px; width: 95%; word-wrap: break-word; white-space: normal;\">http://images.amazon.com/images/P/0425233499.01._SCLZZZZZZZ_.jpg</h4><img src=\"http://images.amazon.com/images/P/0425233499.01._SCLZZZZZZZ_.jpg\"/>\n            <a href=\"#!\">\n                <span class=\"ipyplot-img-close\"/>\n            </a>\n            <a href=\"#ipyplot-content-div-PTj52j8fxZ4tjMuMCZ2Jb4-EBMAs95KbHGmmEXcwyenBm\">\n                <span class=\"ipyplot-img-expand\"/>\n            </a>\n        </div>\n    </div>\n    \n    <div class=\"ipyplot-placeholder-div-PTj52j8fxZ4tjMuMCZ2Jb4\">\n        <div id=\"ipyplot-content-div-PTj52j8fxZ4tjMuMCZ2Jb4-MC4jVC5HicFZZeeWt7CQB9\" class=\"ipyplot-content-div-PTj52j8fxZ4tjMuMCZ2Jb4\">\n            <h4 style=\"font-size: 12px; word-wrap: break-word;\">id: 0765317516, score: 0.11477661818549575</h4>\n            <h4 style=\"font-size: 9px; padding-left: 10px; padding-right: 10px; width: 95%; word-wrap: break-word; white-space: normal;\">http://images.amazon.com/images/P/0765317516.01._SCLZZZZZZZ_.jpg</h4><img src=\"http://images.amazon.com/images/P/0765317516.01._SCLZZZZZZZ_.jpg\"/>\n            <a href=\"#!\">\n                <span class=\"ipyplot-img-close\"/>\n            </a>\n            <a href=\"#ipyplot-content-div-PTj52j8fxZ4tjMuMCZ2Jb4-MC4jVC5HicFZZeeWt7CQB9\">\n                <span class=\"ipyplot-img-expand\"/>\n            </a>\n        </div>\n    </div>\n    \n    <div class=\"ipyplot-placeholder-div-PTj52j8fxZ4tjMuMCZ2Jb4\">\n        <div id=\"ipyplot-content-div-PTj52j8fxZ4tjMuMCZ2Jb4-Yjuw6WHqTUZvC6zEZzgF6V\" class=\"ipyplot-content-div-PTj52j8fxZ4tjMuMCZ2Jb4\">\n            <h4 style=\"font-size: 12px; word-wrap: break-word;\">id: 0345318854, score: 0.11407926233561475</h4>\n            <h4 style=\"font-size: 9px; padding-left: 10px; padding-right: 10px; width: 95%; word-wrap: break-word; white-space: normal;\">http://images.amazon.com/images/P/0345318854.01._SCLZZZZZZZ_.jpg</h4><img src=\"http://images.amazon.com/images/P/0345318854.01._SCLZZZZZZZ_.jpg\"/>\n            <a href=\"#!\">\n                <span class=\"ipyplot-img-close\"/>\n            </a>\n            <a href=\"#ipyplot-content-div-PTj52j8fxZ4tjMuMCZ2Jb4-Yjuw6WHqTUZvC6zEZzgF6V\">\n                <span class=\"ipyplot-img-expand\"/>\n            </a>\n        </div>\n    </div>\n    \n    <div class=\"ipyplot-placeholder-div-PTj52j8fxZ4tjMuMCZ2Jb4\">\n        <div id=\"ipyplot-content-div-PTj52j8fxZ4tjMuMCZ2Jb4-Cq2u6zdMHLnAQQwGk5f75a\" class=\"ipyplot-content-div-PTj52j8fxZ4tjMuMCZ2Jb4\">\n            <h4 style=\"font-size: 12px; word-wrap: break-word;\">id: 0425197387, score: 0.11327142079918191</h4>\n            <h4 style=\"font-size: 9px; padding-left: 10px; padding-right: 10px; width: 95%; word-wrap: break-word; white-space: normal;\">http://images.amazon.com/images/P/0425197387.01._SCLZZZZZZZ_.jpg</h4><img src=\"http://images.amazon.com/images/P/0425197387.01._SCLZZZZZZZ_.jpg\"/>\n            <a href=\"#!\">\n                <span class=\"ipyplot-img-close\"/>\n            </a>\n            <a href=\"#ipyplot-content-div-PTj52j8fxZ4tjMuMCZ2Jb4-Cq2u6zdMHLnAQQwGk5f75a\">\n                <span class=\"ipyplot-img-expand\"/>\n            </a>\n        </div>\n    </div>\n    \n    <div class=\"ipyplot-placeholder-div-PTj52j8fxZ4tjMuMCZ2Jb4\">\n        <div id=\"ipyplot-content-div-PTj52j8fxZ4tjMuMCZ2Jb4-Eof2Pr2DELXy8CW2xhqdFj\" class=\"ipyplot-content-div-PTj52j8fxZ4tjMuMCZ2Jb4\">\n            <h4 style=\"font-size: 12px; word-wrap: break-word;\">id: 0440423147, score: 0.11004694811996583</h4>\n            <h4 style=\"font-size: 9px; padding-left: 10px; padding-right: 10px; width: 95%; word-wrap: break-word; white-space: normal;\">http://images.amazon.com/images/P/0440423147.01._SCLZZZZZZZ_.jpg</h4><img src=\"http://images.amazon.com/images/P/0440423147.01._SCLZZZZZZZ_.jpg\"/>\n            <a href=\"#!\">\n                <span class=\"ipyplot-img-close\"/>\n            </a>\n            <a href=\"#ipyplot-content-div-PTj52j8fxZ4tjMuMCZ2Jb4-Eof2Pr2DELXy8CW2xhqdFj\">\n                <span class=\"ipyplot-img-expand\"/>\n            </a>\n        </div>\n    </div>\n    \n    <div class=\"ipyplot-placeholder-div-PTj52j8fxZ4tjMuMCZ2Jb4\">\n        <div id=\"ipyplot-content-div-PTj52j8fxZ4tjMuMCZ2Jb4-GyphMjXrqyRvXKcz3qSpem\" class=\"ipyplot-content-div-PTj52j8fxZ4tjMuMCZ2Jb4\">\n            <h4 style=\"font-size: 12px; word-wrap: break-word;\">id: 0786808012, score: 0.10816222421464443</h4>\n            <h4 style=\"font-size: 9px; padding-left: 10px; padding-right: 10px; width: 95%; word-wrap: break-word; white-space: normal;\">http://images.amazon.com/images/P/0786808012.01._SCLZZZZZZZ_.jpg</h4><img src=\"http://images.amazon.com/images/P/0786808012.01._SCLZZZZZZZ_.jpg\"/>\n            <a href=\"#!\">\n                <span class=\"ipyplot-img-close\"/>\n            </a>\n            <a href=\"#ipyplot-content-div-PTj52j8fxZ4tjMuMCZ2Jb4-GyphMjXrqyRvXKcz3qSpem\">\n                <span class=\"ipyplot-img-expand\"/>\n            </a>\n        </div>\n    </div>\n    \n    <div class=\"ipyplot-placeholder-div-PTj52j8fxZ4tjMuMCZ2Jb4\">\n        <div id=\"ipyplot-content-div-PTj52j8fxZ4tjMuMCZ2Jb4-TGBPEwKytcHmfDT76C7Nev\" class=\"ipyplot-content-div-PTj52j8fxZ4tjMuMCZ2Jb4\">\n            <h4 style=\"font-size: 12px; word-wrap: break-word;\">id: 0307743659, score: 0.10758598115390258</h4>\n            <h4 style=\"font-size: 9px; padding-left: 10px; padding-right: 10px; width: 95%; word-wrap: break-word; white-space: normal;\">http://images.amazon.com/images/P/0307743659.01._SCLZZZZZZZ_.jpg</h4><img src=\"http://images.amazon.com/images/P/0307743659.01._SCLZZZZZZZ_.jpg\"/>\n            <a href=\"#!\">\n                <span class=\"ipyplot-img-close\"/>\n            </a>\n            <a href=\"#ipyplot-content-div-PTj52j8fxZ4tjMuMCZ2Jb4-TGBPEwKytcHmfDT76C7Nev\">\n                <span class=\"ipyplot-img-expand\"/>\n            </a>\n        </div>\n    </div>\n    </div>",
      "text/plain": "<IPython.core.display.HTML object>"
     },
     "metadata": {},
     "output_type": "display_data"
    }
   ],
   "source": [
    "# run prediction for the user\n",
    "k = 20\n",
    "\n",
    "interaction_csr = sp.csr_matrix(\n",
    "    (interacted_feedback, interacted_item_ids, [0, len(interacted_item_ids)]),\n",
    "    shape=(1, train.n_items),\n",
    ")\n",
    "\n",
    "top_k_item_ids, top_k_scores = model.recommend(interactions=interaction_csr, k=k, mask_input=True)\n",
    "top_k_item_ids, top_k_scores = top_k_item_ids.reshape(-1), top_k_scores.reshape(-1)\n",
    "top_k_scores /= np.linalg.norm(top_k_scores)  # normalize score vector to unit length (optional)\n",
    "# translate predicted item_ids to ASINS\n",
    "top_k_asins = np.vectorize(item2asin.get)(top_k_item_ids)\n",
    "\n",
    "# display predicted items\n",
    "urls = []\n",
    "asins = top_k_asins[:MAX_IMAGES_REC]\n",
    "print()\n",
    "print(\"Recommendations\")\n",
    "ipyplot.plot_images(\n",
    "    [url_pattern.replace(\"ASIN\", asin) for asin in asins],\n",
    "    labels=[f\"id: {i}, score: {s}\" for i, s in list(zip(asins, top_k_scores))],\n",
    "    img_width=IMG_WIDTH,\n",
    ")"
   ]
  },
  {
   "cell_type": "markdown",
   "metadata": {
    "id": "jZRv_QtdHbnt"
   },
   "source": [
    "### Target items"
   ]
  },
  {
   "cell_type": "code",
   "execution_count": 39,
   "metadata": {
    "ExecuteTime": {
     "end_time": "2024-04-15T20:30:50.976677Z",
     "start_time": "2024-04-15T20:30:50.971978Z"
    },
    "colab": {
     "base_uri": "https://localhost:8080/",
     "height": 411
    },
    "id": "zbJzhmC8rLBp",
    "outputId": "da5bcce9-769f-42f7-d745-dceae2ce5db6"
   },
   "outputs": [
    {
     "name": "stdout",
     "output_type": "stream",
     "text": [
      "Target items\n"
     ]
    },
    {
     "data": {
      "text/html": "\n    <style>\n        #ipyplot-html-viewer-toggle-HhWGLyVa4GbPqCgxAdc2mo {\n            position: absolute;\n            top: -9999px;\n            left: -9999px;\n            visibility: hidden;\n        }\n\n        #ipyplot-html-viewer-label-HhWGLyVa4GbPqCgxAdc2mo { \n            position: relative;\n            display: inline-block;\n            cursor: pointer;\n            color: blue;\n            text-decoration: underline;\n        }\n\n        #ipyplot-html-viewer-textarea-HhWGLyVa4GbPqCgxAdc2mo {\n            background: lightgrey;\n            width: 100%;\n            height: 0px;\n            display: none;\n        }\n\n        #ipyplot-html-viewer-toggle-HhWGLyVa4GbPqCgxAdc2mo:checked ~ #ipyplot-html-viewer-textarea-HhWGLyVa4GbPqCgxAdc2mo {\n            height: 200px;\n            display: block;\n        }\n\n        #ipyplot-html-viewer-toggle-HhWGLyVa4GbPqCgxAdc2mo:checked + #ipyplot-html-viewer-label-HhWGLyVa4GbPqCgxAdc2mo:after {\n            content: \"hide html\";\n            position: absolute;\n            top: 0;\n            left: 0;\n            right: 0;\n            bottom: 0;\n            background: white;\n            cursor: pointer;\n            color: blue;\n            text-decoration: underline;\n        }\n    </style>\n    <div>\n        <input type=\"checkbox\" id=\"ipyplot-html-viewer-toggle-HhWGLyVa4GbPqCgxAdc2mo\">\n        <label id=\"ipyplot-html-viewer-label-HhWGLyVa4GbPqCgxAdc2mo\" for=\"ipyplot-html-viewer-toggle-HhWGLyVa4GbPqCgxAdc2mo\">show html</label>\n        <textarea id=\"ipyplot-html-viewer-textarea-HhWGLyVa4GbPqCgxAdc2mo\" readonly>\n            \n        <style>\n        #ipyplot-imgs-container-div-k72YhbJPUoGZoMXaKm9oC9 {\n            width: 100%;\n            height: 100%;\n            margin: 0%;\n            overflow: auto;\n            position: relative;\n            overflow-y: scroll;\n        }\n\n        div.ipyplot-placeholder-div-k72YhbJPUoGZoMXaKm9oC9 {\n            width: 150px;\n            display: inline-block;\n            margin: 3px;\n            position: relative;\n        }\n\n        div.ipyplot-content-div-k72YhbJPUoGZoMXaKm9oC9 {\n            width: 150px;\n            background: white;\n            display: inline-block;\n            vertical-align: top;\n            text-align: center;\n            position: relative;\n            border: 2px solid #ddd;\n            top: 0;\n            left: 0;\n        }\n\n        div.ipyplot-content-div-k72YhbJPUoGZoMXaKm9oC9 span.ipyplot-img-close {\n            display: none;\n        }\n\n        div.ipyplot-content-div-k72YhbJPUoGZoMXaKm9oC9 span {\n            width: 100%;\n            height: 100%;\n            position: absolute;\n            top: 0;\n            left: 0;\n        }\n\n        div.ipyplot-content-div-k72YhbJPUoGZoMXaKm9oC9 img {\n            width: 150px;\n        }\n\n        div.ipyplot-content-div-k72YhbJPUoGZoMXaKm9oC9 span.ipyplot-img-close:hover {\n            cursor: zoom-out;\n        }\n        div.ipyplot-content-div-k72YhbJPUoGZoMXaKm9oC9 span.ipyplot-img-expand:hover {\n            cursor: zoom-in;\n        }\n\n        div[id^=ipyplot-content-div-k72YhbJPUoGZoMXaKm9oC9]:target {\n            transform: scale(2.5);\n            transform-origin: left top;\n            z-index: 5000;\n            top: 0;\n            left: 0;\n            position: absolute;\n        }\n\n        div[id^=ipyplot-content-div-k72YhbJPUoGZoMXaKm9oC9]:target span.ipyplot-img-close {\n            display: block;\n        }\n\n        div[id^=ipyplot-content-div-k72YhbJPUoGZoMXaKm9oC9]:target span.ipyplot-img-expand {\n            display: none;\n        }\n        </style>\n    <div id=\"ipyplot-imgs-container-div-k72YhbJPUoGZoMXaKm9oC9\">\n    <div class=\"ipyplot-placeholder-div-k72YhbJPUoGZoMXaKm9oC9\">\n        <div id=\"ipyplot-content-div-k72YhbJPUoGZoMXaKm9oC9-7TJgnSNeXtSjYvGTU3LvtE\" class=\"ipyplot-content-div-k72YhbJPUoGZoMXaKm9oC9\">\n            <h4 style=\"font-size: 12px; word-wrap: break-word;\">0061020664</h4>\n            <h4 style=\"font-size: 9px; padding-left: 10px; padding-right: 10px; width: 95%; word-wrap: break-word; white-space: normal;\">http://images.amazon.com/images/P/0061020664.01._SCLZZZZZZZ_.jpg</h4><img src=\"http://images.amazon.com/images/P/0061020664.01._SCLZZZZZZZ_.jpg\"/>\n            <a href=\"#!\">\n                <span class=\"ipyplot-img-close\"/>\n            </a>\n            <a href=\"#ipyplot-content-div-k72YhbJPUoGZoMXaKm9oC9-7TJgnSNeXtSjYvGTU3LvtE\">\n                <span class=\"ipyplot-img-expand\"/>\n            </a>\n        </div>\n    </div>\n    \n    <div class=\"ipyplot-placeholder-div-k72YhbJPUoGZoMXaKm9oC9\">\n        <div id=\"ipyplot-content-div-k72YhbJPUoGZoMXaKm9oC9-Pgzk8DHzpTT3qi43zKCnyB\" class=\"ipyplot-content-div-k72YhbJPUoGZoMXaKm9oC9\">\n            <h4 style=\"font-size: 12px; word-wrap: break-word;\">0060855924</h4>\n            <h4 style=\"font-size: 9px; padding-left: 10px; padding-right: 10px; width: 95%; word-wrap: break-word; white-space: normal;\">http://images.amazon.com/images/P/0060855924.01._SCLZZZZZZZ_.jpg</h4><img src=\"http://images.amazon.com/images/P/0060855924.01._SCLZZZZZZZ_.jpg\"/>\n            <a href=\"#!\">\n                <span class=\"ipyplot-img-close\"/>\n            </a>\n            <a href=\"#ipyplot-content-div-k72YhbJPUoGZoMXaKm9oC9-Pgzk8DHzpTT3qi43zKCnyB\">\n                <span class=\"ipyplot-img-expand\"/>\n            </a>\n        </div>\n    </div>\n    \n    <div class=\"ipyplot-placeholder-div-k72YhbJPUoGZoMXaKm9oC9\">\n        <div id=\"ipyplot-content-div-k72YhbJPUoGZoMXaKm9oC9-Tgw2WQdBVJt4rLJRrkDeuf\" class=\"ipyplot-content-div-k72YhbJPUoGZoMXaKm9oC9\">\n            <h4 style=\"font-size: 12px; word-wrap: break-word;\">0553817736</h4>\n            <h4 style=\"font-size: 9px; padding-left: 10px; padding-right: 10px; width: 95%; word-wrap: break-word; white-space: normal;\">http://images.amazon.com/images/P/0553817736.01._SCLZZZZZZZ_.jpg</h4><img src=\"http://images.amazon.com/images/P/0553817736.01._SCLZZZZZZZ_.jpg\"/>\n            <a href=\"#!\">\n                <span class=\"ipyplot-img-close\"/>\n            </a>\n            <a href=\"#ipyplot-content-div-k72YhbJPUoGZoMXaKm9oC9-Tgw2WQdBVJt4rLJRrkDeuf\">\n                <span class=\"ipyplot-img-expand\"/>\n            </a>\n        </div>\n    </div>\n    \n    <div class=\"ipyplot-placeholder-div-k72YhbJPUoGZoMXaKm9oC9\">\n        <div id=\"ipyplot-content-div-k72YhbJPUoGZoMXaKm9oC9-jbkYbEKCXDVcY3WqhWcSPs\" class=\"ipyplot-content-div-k72YhbJPUoGZoMXaKm9oC9\">\n            <h4 style=\"font-size: 12px; word-wrap: break-word;\">0061020680</h4>\n            <h4 style=\"font-size: 9px; padding-left: 10px; padding-right: 10px; width: 95%; word-wrap: break-word; white-space: normal;\">http://images.amazon.com/images/P/0061020680.01._SCLZZZZZZZ_.jpg</h4><img src=\"http://images.amazon.com/images/P/0061020680.01._SCLZZZZZZZ_.jpg\"/>\n            <a href=\"#!\">\n                <span class=\"ipyplot-img-close\"/>\n            </a>\n            <a href=\"#ipyplot-content-div-k72YhbJPUoGZoMXaKm9oC9-jbkYbEKCXDVcY3WqhWcSPs\">\n                <span class=\"ipyplot-img-expand\"/>\n            </a>\n        </div>\n    </div>\n    \n    <div class=\"ipyplot-placeholder-div-k72YhbJPUoGZoMXaKm9oC9\">\n        <div id=\"ipyplot-content-div-k72YhbJPUoGZoMXaKm9oC9-SJrRK9CA7uHEwLLtY97ScC\" class=\"ipyplot-content-div-k72YhbJPUoGZoMXaKm9oC9\">\n            <h4 style=\"font-size: 12px; word-wrap: break-word;\">0060010800</h4>\n            <h4 style=\"font-size: 9px; padding-left: 10px; padding-right: 10px; width: 95%; word-wrap: break-word; white-space: normal;\">http://images.amazon.com/images/P/0060010800.01._SCLZZZZZZZ_.jpg</h4><img src=\"http://images.amazon.com/images/P/0060010800.01._SCLZZZZZZZ_.jpg\"/>\n            <a href=\"#!\">\n                <span class=\"ipyplot-img-close\"/>\n            </a>\n            <a href=\"#ipyplot-content-div-k72YhbJPUoGZoMXaKm9oC9-SJrRK9CA7uHEwLLtY97ScC\">\n                <span class=\"ipyplot-img-expand\"/>\n            </a>\n        </div>\n    </div>\n    </div>\n        </textarea>\n    </div>\n    ",
      "text/plain": "<IPython.core.display.HTML object>"
     },
     "metadata": {},
     "output_type": "display_data"
    },
    {
     "data": {
      "text/html": "\n        <style>\n        #ipyplot-imgs-container-div-k72YhbJPUoGZoMXaKm9oC9 {\n            width: 100%;\n            height: 100%;\n            margin: 0%;\n            overflow: auto;\n            position: relative;\n            overflow-y: scroll;\n        }\n\n        div.ipyplot-placeholder-div-k72YhbJPUoGZoMXaKm9oC9 {\n            width: 150px;\n            display: inline-block;\n            margin: 3px;\n            position: relative;\n        }\n\n        div.ipyplot-content-div-k72YhbJPUoGZoMXaKm9oC9 {\n            width: 150px;\n            background: white;\n            display: inline-block;\n            vertical-align: top;\n            text-align: center;\n            position: relative;\n            border: 2px solid #ddd;\n            top: 0;\n            left: 0;\n        }\n\n        div.ipyplot-content-div-k72YhbJPUoGZoMXaKm9oC9 span.ipyplot-img-close {\n            display: none;\n        }\n\n        div.ipyplot-content-div-k72YhbJPUoGZoMXaKm9oC9 span {\n            width: 100%;\n            height: 100%;\n            position: absolute;\n            top: 0;\n            left: 0;\n        }\n\n        div.ipyplot-content-div-k72YhbJPUoGZoMXaKm9oC9 img {\n            width: 150px;\n        }\n\n        div.ipyplot-content-div-k72YhbJPUoGZoMXaKm9oC9 span.ipyplot-img-close:hover {\n            cursor: zoom-out;\n        }\n        div.ipyplot-content-div-k72YhbJPUoGZoMXaKm9oC9 span.ipyplot-img-expand:hover {\n            cursor: zoom-in;\n        }\n\n        div[id^=ipyplot-content-div-k72YhbJPUoGZoMXaKm9oC9]:target {\n            transform: scale(2.5);\n            transform-origin: left top;\n            z-index: 5000;\n            top: 0;\n            left: 0;\n            position: absolute;\n        }\n\n        div[id^=ipyplot-content-div-k72YhbJPUoGZoMXaKm9oC9]:target span.ipyplot-img-close {\n            display: block;\n        }\n\n        div[id^=ipyplot-content-div-k72YhbJPUoGZoMXaKm9oC9]:target span.ipyplot-img-expand {\n            display: none;\n        }\n        </style>\n    <div id=\"ipyplot-imgs-container-div-k72YhbJPUoGZoMXaKm9oC9\">\n    <div class=\"ipyplot-placeholder-div-k72YhbJPUoGZoMXaKm9oC9\">\n        <div id=\"ipyplot-content-div-k72YhbJPUoGZoMXaKm9oC9-7TJgnSNeXtSjYvGTU3LvtE\" class=\"ipyplot-content-div-k72YhbJPUoGZoMXaKm9oC9\">\n            <h4 style=\"font-size: 12px; word-wrap: break-word;\">0061020664</h4>\n            <h4 style=\"font-size: 9px; padding-left: 10px; padding-right: 10px; width: 95%; word-wrap: break-word; white-space: normal;\">http://images.amazon.com/images/P/0061020664.01._SCLZZZZZZZ_.jpg</h4><img src=\"http://images.amazon.com/images/P/0061020664.01._SCLZZZZZZZ_.jpg\"/>\n            <a href=\"#!\">\n                <span class=\"ipyplot-img-close\"/>\n            </a>\n            <a href=\"#ipyplot-content-div-k72YhbJPUoGZoMXaKm9oC9-7TJgnSNeXtSjYvGTU3LvtE\">\n                <span class=\"ipyplot-img-expand\"/>\n            </a>\n        </div>\n    </div>\n    \n    <div class=\"ipyplot-placeholder-div-k72YhbJPUoGZoMXaKm9oC9\">\n        <div id=\"ipyplot-content-div-k72YhbJPUoGZoMXaKm9oC9-Pgzk8DHzpTT3qi43zKCnyB\" class=\"ipyplot-content-div-k72YhbJPUoGZoMXaKm9oC9\">\n            <h4 style=\"font-size: 12px; word-wrap: break-word;\">0060855924</h4>\n            <h4 style=\"font-size: 9px; padding-left: 10px; padding-right: 10px; width: 95%; word-wrap: break-word; white-space: normal;\">http://images.amazon.com/images/P/0060855924.01._SCLZZZZZZZ_.jpg</h4><img src=\"http://images.amazon.com/images/P/0060855924.01._SCLZZZZZZZ_.jpg\"/>\n            <a href=\"#!\">\n                <span class=\"ipyplot-img-close\"/>\n            </a>\n            <a href=\"#ipyplot-content-div-k72YhbJPUoGZoMXaKm9oC9-Pgzk8DHzpTT3qi43zKCnyB\">\n                <span class=\"ipyplot-img-expand\"/>\n            </a>\n        </div>\n    </div>\n    \n    <div class=\"ipyplot-placeholder-div-k72YhbJPUoGZoMXaKm9oC9\">\n        <div id=\"ipyplot-content-div-k72YhbJPUoGZoMXaKm9oC9-Tgw2WQdBVJt4rLJRrkDeuf\" class=\"ipyplot-content-div-k72YhbJPUoGZoMXaKm9oC9\">\n            <h4 style=\"font-size: 12px; word-wrap: break-word;\">0553817736</h4>\n            <h4 style=\"font-size: 9px; padding-left: 10px; padding-right: 10px; width: 95%; word-wrap: break-word; white-space: normal;\">http://images.amazon.com/images/P/0553817736.01._SCLZZZZZZZ_.jpg</h4><img src=\"http://images.amazon.com/images/P/0553817736.01._SCLZZZZZZZ_.jpg\"/>\n            <a href=\"#!\">\n                <span class=\"ipyplot-img-close\"/>\n            </a>\n            <a href=\"#ipyplot-content-div-k72YhbJPUoGZoMXaKm9oC9-Tgw2WQdBVJt4rLJRrkDeuf\">\n                <span class=\"ipyplot-img-expand\"/>\n            </a>\n        </div>\n    </div>\n    \n    <div class=\"ipyplot-placeholder-div-k72YhbJPUoGZoMXaKm9oC9\">\n        <div id=\"ipyplot-content-div-k72YhbJPUoGZoMXaKm9oC9-jbkYbEKCXDVcY3WqhWcSPs\" class=\"ipyplot-content-div-k72YhbJPUoGZoMXaKm9oC9\">\n            <h4 style=\"font-size: 12px; word-wrap: break-word;\">0061020680</h4>\n            <h4 style=\"font-size: 9px; padding-left: 10px; padding-right: 10px; width: 95%; word-wrap: break-word; white-space: normal;\">http://images.amazon.com/images/P/0061020680.01._SCLZZZZZZZ_.jpg</h4><img src=\"http://images.amazon.com/images/P/0061020680.01._SCLZZZZZZZ_.jpg\"/>\n            <a href=\"#!\">\n                <span class=\"ipyplot-img-close\"/>\n            </a>\n            <a href=\"#ipyplot-content-div-k72YhbJPUoGZoMXaKm9oC9-jbkYbEKCXDVcY3WqhWcSPs\">\n                <span class=\"ipyplot-img-expand\"/>\n            </a>\n        </div>\n    </div>\n    \n    <div class=\"ipyplot-placeholder-div-k72YhbJPUoGZoMXaKm9oC9\">\n        <div id=\"ipyplot-content-div-k72YhbJPUoGZoMXaKm9oC9-SJrRK9CA7uHEwLLtY97ScC\" class=\"ipyplot-content-div-k72YhbJPUoGZoMXaKm9oC9\">\n            <h4 style=\"font-size: 12px; word-wrap: break-word;\">0060010800</h4>\n            <h4 style=\"font-size: 9px; padding-left: 10px; padding-right: 10px; width: 95%; word-wrap: break-word; white-space: normal;\">http://images.amazon.com/images/P/0060010800.01._SCLZZZZZZZ_.jpg</h4><img src=\"http://images.amazon.com/images/P/0060010800.01._SCLZZZZZZZ_.jpg\"/>\n            <a href=\"#!\">\n                <span class=\"ipyplot-img-close\"/>\n            </a>\n            <a href=\"#ipyplot-content-div-k72YhbJPUoGZoMXaKm9oC9-SJrRK9CA7uHEwLLtY97ScC\">\n                <span class=\"ipyplot-img-expand\"/>\n            </a>\n        </div>\n    </div>\n    </div>",
      "text/plain": "<IPython.core.display.HTML object>"
     },
     "metadata": {},
     "output_type": "display_data"
    }
   ],
   "source": [
    "# translate target item_ids to ASINS\n",
    "target_item_ids = test.targets[test.targets.user_id == sample_user_id].item_id.values\n",
    "target_asins = np.vectorize(item2asin.get)(target_item_ids)\n",
    "\n",
    "# display target items\n",
    "urls = []\n",
    "asins = target_asins[:MAX_IMAGES]\n",
    "print(\"Target items\")\n",
    "ipyplot.plot_images([url_pattern.replace(\"ASIN\", asin) for asin in asins], labels=asins, img_width=IMG_WIDTH)"
   ]
  },
  {
   "cell_type": "markdown",
   "metadata": {
    "id": "URiWBhCE7XGs"
   },
   "source": [
    "## 4.1. Recommending based on a single long-tail item"
   ]
  },
  {
   "cell_type": "markdown",
   "metadata": {
    "id": "1xueR6mYLDqg"
   },
   "source": [
    "### Interaction"
   ]
  },
  {
   "cell_type": "code",
   "execution_count": 40,
   "metadata": {
    "ExecuteTime": {
     "end_time": "2024-04-15T20:30:50.982689Z",
     "start_time": "2024-04-15T20:30:50.978513Z"
    },
    "colab": {
     "base_uri": "https://localhost:8080/",
     "height": 439
    },
    "id": "wWqXTgQK7dKS",
    "outputId": "af607fe8-1a5f-4774-f2e7-fa48ed788574"
   },
   "outputs": [
    {
     "name": "stdout",
     "output_type": "stream",
     "text": [
      "Sample long-tail item\n",
      "item_id: 9513\n",
      "ASIN: 0451207319\n",
      "number of interactions: 10\n"
     ]
    },
    {
     "data": {
      "text/html": "\n    <style>\n        #ipyplot-html-viewer-toggle-g4WFWoZsHjrJ8KSkEfAtdN {\n            position: absolute;\n            top: -9999px;\n            left: -9999px;\n            visibility: hidden;\n        }\n\n        #ipyplot-html-viewer-label-g4WFWoZsHjrJ8KSkEfAtdN { \n            position: relative;\n            display: inline-block;\n            cursor: pointer;\n            color: blue;\n            text-decoration: underline;\n        }\n\n        #ipyplot-html-viewer-textarea-g4WFWoZsHjrJ8KSkEfAtdN {\n            background: lightgrey;\n            width: 100%;\n            height: 0px;\n            display: none;\n        }\n\n        #ipyplot-html-viewer-toggle-g4WFWoZsHjrJ8KSkEfAtdN:checked ~ #ipyplot-html-viewer-textarea-g4WFWoZsHjrJ8KSkEfAtdN {\n            height: 200px;\n            display: block;\n        }\n\n        #ipyplot-html-viewer-toggle-g4WFWoZsHjrJ8KSkEfAtdN:checked + #ipyplot-html-viewer-label-g4WFWoZsHjrJ8KSkEfAtdN:after {\n            content: \"hide html\";\n            position: absolute;\n            top: 0;\n            left: 0;\n            right: 0;\n            bottom: 0;\n            background: white;\n            cursor: pointer;\n            color: blue;\n            text-decoration: underline;\n        }\n    </style>\n    <div>\n        <input type=\"checkbox\" id=\"ipyplot-html-viewer-toggle-g4WFWoZsHjrJ8KSkEfAtdN\">\n        <label id=\"ipyplot-html-viewer-label-g4WFWoZsHjrJ8KSkEfAtdN\" for=\"ipyplot-html-viewer-toggle-g4WFWoZsHjrJ8KSkEfAtdN\">show html</label>\n        <textarea id=\"ipyplot-html-viewer-textarea-g4WFWoZsHjrJ8KSkEfAtdN\" readonly>\n            \n        <style>\n        #ipyplot-imgs-container-div-9o8SBN53ziegqqVhZucFR6 {\n            width: 100%;\n            height: 100%;\n            margin: 0%;\n            overflow: auto;\n            position: relative;\n            overflow-y: scroll;\n        }\n\n        div.ipyplot-placeholder-div-9o8SBN53ziegqqVhZucFR6 {\n            width: 150px;\n            display: inline-block;\n            margin: 3px;\n            position: relative;\n        }\n\n        div.ipyplot-content-div-9o8SBN53ziegqqVhZucFR6 {\n            width: 150px;\n            background: white;\n            display: inline-block;\n            vertical-align: top;\n            text-align: center;\n            position: relative;\n            border: 2px solid #ddd;\n            top: 0;\n            left: 0;\n        }\n\n        div.ipyplot-content-div-9o8SBN53ziegqqVhZucFR6 span.ipyplot-img-close {\n            display: none;\n        }\n\n        div.ipyplot-content-div-9o8SBN53ziegqqVhZucFR6 span {\n            width: 100%;\n            height: 100%;\n            position: absolute;\n            top: 0;\n            left: 0;\n        }\n\n        div.ipyplot-content-div-9o8SBN53ziegqqVhZucFR6 img {\n            width: 150px;\n        }\n\n        div.ipyplot-content-div-9o8SBN53ziegqqVhZucFR6 span.ipyplot-img-close:hover {\n            cursor: zoom-out;\n        }\n        div.ipyplot-content-div-9o8SBN53ziegqqVhZucFR6 span.ipyplot-img-expand:hover {\n            cursor: zoom-in;\n        }\n\n        div[id^=ipyplot-content-div-9o8SBN53ziegqqVhZucFR6]:target {\n            transform: scale(2.5);\n            transform-origin: left top;\n            z-index: 5000;\n            top: 0;\n            left: 0;\n            position: absolute;\n        }\n\n        div[id^=ipyplot-content-div-9o8SBN53ziegqqVhZucFR6]:target span.ipyplot-img-close {\n            display: block;\n        }\n\n        div[id^=ipyplot-content-div-9o8SBN53ziegqqVhZucFR6]:target span.ipyplot-img-expand {\n            display: none;\n        }\n        </style>\n    <div id=\"ipyplot-imgs-container-div-9o8SBN53ziegqqVhZucFR6\">\n    <div class=\"ipyplot-placeholder-div-9o8SBN53ziegqqVhZucFR6\">\n        <div id=\"ipyplot-content-div-9o8SBN53ziegqqVhZucFR6-h9AD4VCjGQAkqB6ftNGCRp\" class=\"ipyplot-content-div-9o8SBN53ziegqqVhZucFR6\">\n            <h4 style=\"font-size: 12px; word-wrap: break-word;\">0451207319</h4>\n            <h4 style=\"font-size: 9px; padding-left: 10px; padding-right: 10px; width: 95%; word-wrap: break-word; white-space: normal;\">http://images.amazon.com/images/P/0451207319.01._SCLZZZZZZZ_.jpg</h4><img src=\"http://images.amazon.com/images/P/0451207319.01._SCLZZZZZZZ_.jpg\"/>\n            <a href=\"#!\">\n                <span class=\"ipyplot-img-close\"/>\n            </a>\n            <a href=\"#ipyplot-content-div-9o8SBN53ziegqqVhZucFR6-h9AD4VCjGQAkqB6ftNGCRp\">\n                <span class=\"ipyplot-img-expand\"/>\n            </a>\n        </div>\n    </div>\n    </div>\n        </textarea>\n    </div>\n    ",
      "text/plain": "<IPython.core.display.HTML object>"
     },
     "metadata": {},
     "output_type": "display_data"
    },
    {
     "data": {
      "text/html": "\n        <style>\n        #ipyplot-imgs-container-div-9o8SBN53ziegqqVhZucFR6 {\n            width: 100%;\n            height: 100%;\n            margin: 0%;\n            overflow: auto;\n            position: relative;\n            overflow-y: scroll;\n        }\n\n        div.ipyplot-placeholder-div-9o8SBN53ziegqqVhZucFR6 {\n            width: 150px;\n            display: inline-block;\n            margin: 3px;\n            position: relative;\n        }\n\n        div.ipyplot-content-div-9o8SBN53ziegqqVhZucFR6 {\n            width: 150px;\n            background: white;\n            display: inline-block;\n            vertical-align: top;\n            text-align: center;\n            position: relative;\n            border: 2px solid #ddd;\n            top: 0;\n            left: 0;\n        }\n\n        div.ipyplot-content-div-9o8SBN53ziegqqVhZucFR6 span.ipyplot-img-close {\n            display: none;\n        }\n\n        div.ipyplot-content-div-9o8SBN53ziegqqVhZucFR6 span {\n            width: 100%;\n            height: 100%;\n            position: absolute;\n            top: 0;\n            left: 0;\n        }\n\n        div.ipyplot-content-div-9o8SBN53ziegqqVhZucFR6 img {\n            width: 150px;\n        }\n\n        div.ipyplot-content-div-9o8SBN53ziegqqVhZucFR6 span.ipyplot-img-close:hover {\n            cursor: zoom-out;\n        }\n        div.ipyplot-content-div-9o8SBN53ziegqqVhZucFR6 span.ipyplot-img-expand:hover {\n            cursor: zoom-in;\n        }\n\n        div[id^=ipyplot-content-div-9o8SBN53ziegqqVhZucFR6]:target {\n            transform: scale(2.5);\n            transform-origin: left top;\n            z-index: 5000;\n            top: 0;\n            left: 0;\n            position: absolute;\n        }\n\n        div[id^=ipyplot-content-div-9o8SBN53ziegqqVhZucFR6]:target span.ipyplot-img-close {\n            display: block;\n        }\n\n        div[id^=ipyplot-content-div-9o8SBN53ziegqqVhZucFR6]:target span.ipyplot-img-expand {\n            display: none;\n        }\n        </style>\n    <div id=\"ipyplot-imgs-container-div-9o8SBN53ziegqqVhZucFR6\">\n    <div class=\"ipyplot-placeholder-div-9o8SBN53ziegqqVhZucFR6\">\n        <div id=\"ipyplot-content-div-9o8SBN53ziegqqVhZucFR6-h9AD4VCjGQAkqB6ftNGCRp\" class=\"ipyplot-content-div-9o8SBN53ziegqqVhZucFR6\">\n            <h4 style=\"font-size: 12px; word-wrap: break-word;\">0451207319</h4>\n            <h4 style=\"font-size: 9px; padding-left: 10px; padding-right: 10px; width: 95%; word-wrap: break-word; white-space: normal;\">http://images.amazon.com/images/P/0451207319.01._SCLZZZZZZZ_.jpg</h4><img src=\"http://images.amazon.com/images/P/0451207319.01._SCLZZZZZZZ_.jpg\"/>\n            <a href=\"#!\">\n                <span class=\"ipyplot-img-close\"/>\n            </a>\n            <a href=\"#ipyplot-content-div-9o8SBN53ziegqqVhZucFR6-h9AD4VCjGQAkqB6ftNGCRp\">\n                <span class=\"ipyplot-img-expand\"/>\n            </a>\n        </div>\n    </div>\n    </div>",
      "text/plain": "<IPython.core.display.HTML object>"
     },
     "metadata": {},
     "output_type": "display_data"
    }
   ],
   "source": [
    "# sample a long-tail item\n",
    "sample_item_id = np.random.choice(item_id_counts[-1000:].index.values)\n",
    "sample_asin = item2asin[sample_item_id]\n",
    "print(\"Sample long-tail item\")\n",
    "print(f\"item_id: {sample_item_id}\")\n",
    "print(f\"ASIN: {sample_asin}\")\n",
    "print(f\"number of interactions: {item_id_counts[sample_item_id]}\")\n",
    "ipyplot.plot_images([url_pattern.replace(\"ASIN\", sample_asin)], labels=[sample_asin], img_width=IMG_WIDTH)\n",
    "\n",
    "# create input tuple of np.arrays\n",
    "sample_item, sample_feedback = np.array([sample_item_id]), np.array([1.0])"
   ]
  },
  {
   "cell_type": "markdown",
   "metadata": {
    "id": "EHEx2hbdLGHn"
   },
   "source": [
    "### Predictions"
   ]
  },
  {
   "cell_type": "code",
   "execution_count": 41,
   "metadata": {
    "ExecuteTime": {
     "end_time": "2024-04-15T20:30:50.989244Z",
     "start_time": "2024-04-15T20:30:50.983317Z"
    },
    "colab": {
     "base_uri": "https://localhost:8080/",
     "height": 1000
    },
    "id": "J7IxF3uZ75ec",
    "outputId": "fe9130d7-14d6-4f35-d6ee-ddb36822ae7f"
   },
   "outputs": [
    {
     "name": "stdout",
     "output_type": "stream",
     "text": [
      "Recommendations\n"
     ]
    },
    {
     "data": {
      "text/html": "\n    <style>\n        #ipyplot-html-viewer-toggle-8ikZUWSrGkZeWMHovAHyka {\n            position: absolute;\n            top: -9999px;\n            left: -9999px;\n            visibility: hidden;\n        }\n\n        #ipyplot-html-viewer-label-8ikZUWSrGkZeWMHovAHyka { \n            position: relative;\n            display: inline-block;\n            cursor: pointer;\n            color: blue;\n            text-decoration: underline;\n        }\n\n        #ipyplot-html-viewer-textarea-8ikZUWSrGkZeWMHovAHyka {\n            background: lightgrey;\n            width: 100%;\n            height: 0px;\n            display: none;\n        }\n\n        #ipyplot-html-viewer-toggle-8ikZUWSrGkZeWMHovAHyka:checked ~ #ipyplot-html-viewer-textarea-8ikZUWSrGkZeWMHovAHyka {\n            height: 200px;\n            display: block;\n        }\n\n        #ipyplot-html-viewer-toggle-8ikZUWSrGkZeWMHovAHyka:checked + #ipyplot-html-viewer-label-8ikZUWSrGkZeWMHovAHyka:after {\n            content: \"hide html\";\n            position: absolute;\n            top: 0;\n            left: 0;\n            right: 0;\n            bottom: 0;\n            background: white;\n            cursor: pointer;\n            color: blue;\n            text-decoration: underline;\n        }\n    </style>\n    <div>\n        <input type=\"checkbox\" id=\"ipyplot-html-viewer-toggle-8ikZUWSrGkZeWMHovAHyka\">\n        <label id=\"ipyplot-html-viewer-label-8ikZUWSrGkZeWMHovAHyka\" for=\"ipyplot-html-viewer-toggle-8ikZUWSrGkZeWMHovAHyka\">show html</label>\n        <textarea id=\"ipyplot-html-viewer-textarea-8ikZUWSrGkZeWMHovAHyka\" readonly>\n            \n        <style>\n        #ipyplot-imgs-container-div-FwYHmLp9uMW9RigPcy3oLh {\n            width: 100%;\n            height: 100%;\n            margin: 0%;\n            overflow: auto;\n            position: relative;\n            overflow-y: scroll;\n        }\n\n        div.ipyplot-placeholder-div-FwYHmLp9uMW9RigPcy3oLh {\n            width: 150px;\n            display: inline-block;\n            margin: 3px;\n            position: relative;\n        }\n\n        div.ipyplot-content-div-FwYHmLp9uMW9RigPcy3oLh {\n            width: 150px;\n            background: white;\n            display: inline-block;\n            vertical-align: top;\n            text-align: center;\n            position: relative;\n            border: 2px solid #ddd;\n            top: 0;\n            left: 0;\n        }\n\n        div.ipyplot-content-div-FwYHmLp9uMW9RigPcy3oLh span.ipyplot-img-close {\n            display: none;\n        }\n\n        div.ipyplot-content-div-FwYHmLp9uMW9RigPcy3oLh span {\n            width: 100%;\n            height: 100%;\n            position: absolute;\n            top: 0;\n            left: 0;\n        }\n\n        div.ipyplot-content-div-FwYHmLp9uMW9RigPcy3oLh img {\n            width: 150px;\n        }\n\n        div.ipyplot-content-div-FwYHmLp9uMW9RigPcy3oLh span.ipyplot-img-close:hover {\n            cursor: zoom-out;\n        }\n        div.ipyplot-content-div-FwYHmLp9uMW9RigPcy3oLh span.ipyplot-img-expand:hover {\n            cursor: zoom-in;\n        }\n\n        div[id^=ipyplot-content-div-FwYHmLp9uMW9RigPcy3oLh]:target {\n            transform: scale(2.5);\n            transform-origin: left top;\n            z-index: 5000;\n            top: 0;\n            left: 0;\n            position: absolute;\n        }\n\n        div[id^=ipyplot-content-div-FwYHmLp9uMW9RigPcy3oLh]:target span.ipyplot-img-close {\n            display: block;\n        }\n\n        div[id^=ipyplot-content-div-FwYHmLp9uMW9RigPcy3oLh]:target span.ipyplot-img-expand {\n            display: none;\n        }\n        </style>\n    <div id=\"ipyplot-imgs-container-div-FwYHmLp9uMW9RigPcy3oLh\">\n    <div class=\"ipyplot-placeholder-div-FwYHmLp9uMW9RigPcy3oLh\">\n        <div id=\"ipyplot-content-div-FwYHmLp9uMW9RigPcy3oLh-czPVuxibdSbD9VRPiPGBMh\" class=\"ipyplot-content-div-FwYHmLp9uMW9RigPcy3oLh\">\n            <h4 style=\"font-size: 12px; word-wrap: break-word;\">id: 0451205618, score: 0.44621006838016875</h4>\n            <h4 style=\"font-size: 9px; padding-left: 10px; padding-right: 10px; width: 95%; word-wrap: break-word; white-space: normal;\">http://images.amazon.com/images/P/0451205618.01._SCLZZZZZZZ_.jpg</h4><img src=\"http://images.amazon.com/images/P/0451205618.01._SCLZZZZZZZ_.jpg\"/>\n            <a href=\"#!\">\n                <span class=\"ipyplot-img-close\"/>\n            </a>\n            <a href=\"#ipyplot-content-div-FwYHmLp9uMW9RigPcy3oLh-czPVuxibdSbD9VRPiPGBMh\">\n                <span class=\"ipyplot-img-expand\"/>\n            </a>\n        </div>\n    </div>\n    \n    <div class=\"ipyplot-placeholder-div-FwYHmLp9uMW9RigPcy3oLh\">\n        <div id=\"ipyplot-content-div-FwYHmLp9uMW9RigPcy3oLh-2YSr2zybCDqZXkheXnCu59\" class=\"ipyplot-content-div-FwYHmLp9uMW9RigPcy3oLh\">\n            <h4 style=\"font-size: 12px; word-wrap: break-word;\">id: 0451201701, score: 0.42453520229194325</h4>\n            <h4 style=\"font-size: 9px; padding-left: 10px; padding-right: 10px; width: 95%; word-wrap: break-word; white-space: normal;\">http://images.amazon.com/images/P/0451201701.01._SCLZZZZZZZ_.jpg</h4><img src=\"http://images.amazon.com/images/P/0451201701.01._SCLZZZZZZZ_.jpg\"/>\n            <a href=\"#!\">\n                <span class=\"ipyplot-img-close\"/>\n            </a>\n            <a href=\"#ipyplot-content-div-FwYHmLp9uMW9RigPcy3oLh-2YSr2zybCDqZXkheXnCu59\">\n                <span class=\"ipyplot-img-expand\"/>\n            </a>\n        </div>\n    </div>\n    \n    <div class=\"ipyplot-placeholder-div-FwYHmLp9uMW9RigPcy3oLh\">\n        <div id=\"ipyplot-content-div-FwYHmLp9uMW9RigPcy3oLh-GRQn9M3DEofeYNyQJ7S9cE\" class=\"ipyplot-content-div-FwYHmLp9uMW9RigPcy3oLh\">\n            <h4 style=\"font-size: 12px; word-wrap: break-word;\">id: 0451206789, score: 0.35165810008422765</h4>\n            <h4 style=\"font-size: 9px; padding-left: 10px; padding-right: 10px; width: 95%; word-wrap: break-word; white-space: normal;\">http://images.amazon.com/images/P/0451206789.01._SCLZZZZZZZ_.jpg</h4><img src=\"http://images.amazon.com/images/P/0451206789.01._SCLZZZZZZZ_.jpg\"/>\n            <a href=\"#!\">\n                <span class=\"ipyplot-img-close\"/>\n            </a>\n            <a href=\"#ipyplot-content-div-FwYHmLp9uMW9RigPcy3oLh-GRQn9M3DEofeYNyQJ7S9cE\">\n                <span class=\"ipyplot-img-expand\"/>\n            </a>\n        </div>\n    </div>\n    \n    <div class=\"ipyplot-placeholder-div-FwYHmLp9uMW9RigPcy3oLh\">\n        <div id=\"ipyplot-content-div-FwYHmLp9uMW9RigPcy3oLh-n7ZGxjkeEQpWg6AGDNM2Tv\" class=\"ipyplot-content-div-FwYHmLp9uMW9RigPcy3oLh\">\n            <h4 style=\"font-size: 12px; word-wrap: break-word;\">id: 0451206959, score: 0.298361462473656</h4>\n            <h4 style=\"font-size: 9px; padding-left: 10px; padding-right: 10px; width: 95%; word-wrap: break-word; white-space: normal;\">http://images.amazon.com/images/P/0451206959.01._SCLZZZZZZZ_.jpg</h4><img src=\"http://images.amazon.com/images/P/0451206959.01._SCLZZZZZZZ_.jpg\"/>\n            <a href=\"#!\">\n                <span class=\"ipyplot-img-close\"/>\n            </a>\n            <a href=\"#ipyplot-content-div-FwYHmLp9uMW9RigPcy3oLh-n7ZGxjkeEQpWg6AGDNM2Tv\">\n                <span class=\"ipyplot-img-expand\"/>\n            </a>\n        </div>\n    </div>\n    \n    <div class=\"ipyplot-placeholder-div-FwYHmLp9uMW9RigPcy3oLh\">\n        <div id=\"ipyplot-content-div-FwYHmLp9uMW9RigPcy3oLh-hK2mhghx9rBZaH392X2Kmt\" class=\"ipyplot-content-div-FwYHmLp9uMW9RigPcy3oLh\">\n            <h4 style=\"font-size: 12px; word-wrap: break-word;\">id: 0380808331, score: 0.2779824050704852</h4>\n            <h4 style=\"font-size: 9px; padding-left: 10px; padding-right: 10px; width: 95%; word-wrap: break-word; white-space: normal;\">http://images.amazon.com/images/P/0380808331.01._SCLZZZZZZZ_.jpg</h4><img src=\"http://images.amazon.com/images/P/0380808331.01._SCLZZZZZZZ_.jpg\"/>\n            <a href=\"#!\">\n                <span class=\"ipyplot-img-close\"/>\n            </a>\n            <a href=\"#ipyplot-content-div-FwYHmLp9uMW9RigPcy3oLh-hK2mhghx9rBZaH392X2Kmt\">\n                <span class=\"ipyplot-img-expand\"/>\n            </a>\n        </div>\n    </div>\n    \n    <div class=\"ipyplot-placeholder-div-FwYHmLp9uMW9RigPcy3oLh\">\n        <div id=\"ipyplot-content-div-FwYHmLp9uMW9RigPcy3oLh-F68siFGWWUzmmT4L9kV8eh\" class=\"ipyplot-content-div-FwYHmLp9uMW9RigPcy3oLh\">\n            <h4 style=\"font-size: 12px; word-wrap: break-word;\">id: 0451201620, score: 0.26122177305778727</h4>\n            <h4 style=\"font-size: 9px; padding-left: 10px; padding-right: 10px; width: 95%; word-wrap: break-word; white-space: normal;\">http://images.amazon.com/images/P/0451201620.01._SCLZZZZZZZ_.jpg</h4><img src=\"http://images.amazon.com/images/P/0451201620.01._SCLZZZZZZZ_.jpg\"/>\n            <a href=\"#!\">\n                <span class=\"ipyplot-img-close\"/>\n            </a>\n            <a href=\"#ipyplot-content-div-FwYHmLp9uMW9RigPcy3oLh-F68siFGWWUzmmT4L9kV8eh\">\n                <span class=\"ipyplot-img-expand\"/>\n            </a>\n        </div>\n    </div>\n    \n    <div class=\"ipyplot-placeholder-div-FwYHmLp9uMW9RigPcy3oLh\">\n        <div id=\"ipyplot-content-div-FwYHmLp9uMW9RigPcy3oLh-9kUKvMQWoozpG3T6pTmCZK\" class=\"ipyplot-content-div-FwYHmLp9uMW9RigPcy3oLh\">\n            <h4 style=\"font-size: 12px; word-wrap: break-word;\">id: B007Q4LHVO, score: 0.24223612598998864</h4>\n            <h4 style=\"font-size: 9px; padding-left: 10px; padding-right: 10px; width: 95%; word-wrap: break-word; white-space: normal;\">http://images.amazon.com/images/P/B007Q4LHVO.01._SCLZZZZZZZ_.jpg</h4><img src=\"http://images.amazon.com/images/P/B007Q4LHVO.01._SCLZZZZZZZ_.jpg\"/>\n            <a href=\"#!\">\n                <span class=\"ipyplot-img-close\"/>\n            </a>\n            <a href=\"#ipyplot-content-div-FwYHmLp9uMW9RigPcy3oLh-9kUKvMQWoozpG3T6pTmCZK\">\n                <span class=\"ipyplot-img-expand\"/>\n            </a>\n        </div>\n    </div>\n    \n    <div class=\"ipyplot-placeholder-div-FwYHmLp9uMW9RigPcy3oLh\">\n        <div id=\"ipyplot-content-div-FwYHmLp9uMW9RigPcy3oLh-WHyFwaHPKuE3prNJc5grHv\" class=\"ipyplot-content-div-FwYHmLp9uMW9RigPcy3oLh\">\n            <h4 style=\"font-size: 12px; word-wrap: break-word;\">id: B006N2VJCC, score: 0.2361656582485995</h4>\n            <h4 style=\"font-size: 9px; padding-left: 10px; padding-right: 10px; width: 95%; word-wrap: break-word; white-space: normal;\">http://images.amazon.com/images/P/B006N2VJCC.01._SCLZZZZZZZ_.jpg</h4><img src=\"http://images.amazon.com/images/P/B006N2VJCC.01._SCLZZZZZZZ_.jpg\"/>\n            <a href=\"#!\">\n                <span class=\"ipyplot-img-close\"/>\n            </a>\n            <a href=\"#ipyplot-content-div-FwYHmLp9uMW9RigPcy3oLh-WHyFwaHPKuE3prNJc5grHv\">\n                <span class=\"ipyplot-img-expand\"/>\n            </a>\n        </div>\n    </div>\n    \n    <div class=\"ipyplot-placeholder-div-FwYHmLp9uMW9RigPcy3oLh\">\n        <div id=\"ipyplot-content-div-FwYHmLp9uMW9RigPcy3oLh-QNusA8E7bxRk7sBSJAgbkG\" class=\"ipyplot-content-div-FwYHmLp9uMW9RigPcy3oLh\">\n            <h4 style=\"font-size: 12px; word-wrap: break-word;\">id: 0380772280, score: 0.21958955595116705</h4>\n            <h4 style=\"font-size: 9px; padding-left: 10px; padding-right: 10px; width: 95%; word-wrap: break-word; white-space: normal;\">http://images.amazon.com/images/P/0380772280.01._SCLZZZZZZZ_.jpg</h4><img src=\"http://images.amazon.com/images/P/0380772280.01._SCLZZZZZZZ_.jpg\"/>\n            <a href=\"#!\">\n                <span class=\"ipyplot-img-close\"/>\n            </a>\n            <a href=\"#ipyplot-content-div-FwYHmLp9uMW9RigPcy3oLh-QNusA8E7bxRk7sBSJAgbkG\">\n                <span class=\"ipyplot-img-expand\"/>\n            </a>\n        </div>\n    </div>\n    \n    <div class=\"ipyplot-placeholder-div-FwYHmLp9uMW9RigPcy3oLh\">\n        <div id=\"ipyplot-content-div-FwYHmLp9uMW9RigPcy3oLh-FPpSrDL3wKSXUFHiz4bvdt\" class=\"ipyplot-content-div-FwYHmLp9uMW9RigPcy3oLh\">\n            <h4 style=\"font-size: 12px; word-wrap: break-word;\">id: 0312979541, score: 0.20276073420828922</h4>\n            <h4 style=\"font-size: 9px; padding-left: 10px; padding-right: 10px; width: 95%; word-wrap: break-word; white-space: normal;\">http://images.amazon.com/images/P/0312979541.01._SCLZZZZZZZ_.jpg</h4><img src=\"http://images.amazon.com/images/P/0312979541.01._SCLZZZZZZZ_.jpg\"/>\n            <a href=\"#!\">\n                <span class=\"ipyplot-img-close\"/>\n            </a>\n            <a href=\"#ipyplot-content-div-FwYHmLp9uMW9RigPcy3oLh-FPpSrDL3wKSXUFHiz4bvdt\">\n                <span class=\"ipyplot-img-expand\"/>\n            </a>\n        </div>\n    </div>\n    \n    <div class=\"ipyplot-placeholder-div-FwYHmLp9uMW9RigPcy3oLh\">\n        <div id=\"ipyplot-content-div-FwYHmLp9uMW9RigPcy3oLh-Yaje5CHTerfmNWHJ6xKaiR\" class=\"ipyplot-content-div-FwYHmLp9uMW9RigPcy3oLh\">\n            <h4 style=\"font-size: 12px; word-wrap: break-word;\">id: 0987261959, score: 0.19952867323737092</h4>\n            <h4 style=\"font-size: 9px; padding-left: 10px; padding-right: 10px; width: 95%; word-wrap: break-word; white-space: normal;\">http://images.amazon.com/images/P/0987261959.01._SCLZZZZZZZ_.jpg</h4><img src=\"http://images.amazon.com/images/P/0987261959.01._SCLZZZZZZZ_.jpg\"/>\n            <a href=\"#!\">\n                <span class=\"ipyplot-img-close\"/>\n            </a>\n            <a href=\"#ipyplot-content-div-FwYHmLp9uMW9RigPcy3oLh-Yaje5CHTerfmNWHJ6xKaiR\">\n                <span class=\"ipyplot-img-expand\"/>\n            </a>\n        </div>\n    </div>\n    \n    <div class=\"ipyplot-placeholder-div-FwYHmLp9uMW9RigPcy3oLh\">\n        <div id=\"ipyplot-content-div-FwYHmLp9uMW9RigPcy3oLh-8tWZJqEwBwxiVTfpBwByH5\" class=\"ipyplot-content-div-FwYHmLp9uMW9RigPcy3oLh\">\n            <h4 style=\"font-size: 12px; word-wrap: break-word;\">id: 0425213455, score: 0.1373847496997758</h4>\n            <h4 style=\"font-size: 9px; padding-left: 10px; padding-right: 10px; width: 95%; word-wrap: break-word; white-space: normal;\">http://images.amazon.com/images/P/0425213455.01._SCLZZZZZZZ_.jpg</h4><img src=\"http://images.amazon.com/images/P/0425213455.01._SCLZZZZZZZ_.jpg\"/>\n            <a href=\"#!\">\n                <span class=\"ipyplot-img-close\"/>\n            </a>\n            <a href=\"#ipyplot-content-div-FwYHmLp9uMW9RigPcy3oLh-8tWZJqEwBwxiVTfpBwByH5\">\n                <span class=\"ipyplot-img-expand\"/>\n            </a>\n        </div>\n    </div>\n    \n    <div class=\"ipyplot-placeholder-div-FwYHmLp9uMW9RigPcy3oLh\">\n        <div id=\"ipyplot-content-div-FwYHmLp9uMW9RigPcy3oLh-H3rc7n8q4ksrMZ3eTnkEFx\" class=\"ipyplot-content-div-FwYHmLp9uMW9RigPcy3oLh\">\n            <h4 style=\"font-size: 12px; word-wrap: break-word;\">id: 0451207319, score: 0.0</h4>\n            <h4 style=\"font-size: 9px; padding-left: 10px; padding-right: 10px; width: 95%; word-wrap: break-word; white-space: normal;\">http://images.amazon.com/images/P/0451207319.01._SCLZZZZZZZ_.jpg</h4><img src=\"http://images.amazon.com/images/P/0451207319.01._SCLZZZZZZZ_.jpg\"/>\n            <a href=\"#!\">\n                <span class=\"ipyplot-img-close\"/>\n            </a>\n            <a href=\"#ipyplot-content-div-FwYHmLp9uMW9RigPcy3oLh-H3rc7n8q4ksrMZ3eTnkEFx\">\n                <span class=\"ipyplot-img-expand\"/>\n            </a>\n        </div>\n    </div>\n    \n    <div class=\"ipyplot-placeholder-div-FwYHmLp9uMW9RigPcy3oLh\">\n        <div id=\"ipyplot-content-div-FwYHmLp9uMW9RigPcy3oLh-dkgnbv68UFkPZYgTnpihVp\" class=\"ipyplot-content-div-FwYHmLp9uMW9RigPcy3oLh\">\n            <h4 style=\"font-size: 12px; word-wrap: break-word;\">id: 0380775506, score: -0.00044024503282066694</h4>\n            <h4 style=\"font-size: 9px; padding-left: 10px; padding-right: 10px; width: 95%; word-wrap: break-word; white-space: normal;\">http://images.amazon.com/images/P/0380775506.01._SCLZZZZZZZ_.jpg</h4><img src=\"http://images.amazon.com/images/P/0380775506.01._SCLZZZZZZZ_.jpg\"/>\n            <a href=\"#!\">\n                <span class=\"ipyplot-img-close\"/>\n            </a>\n            <a href=\"#ipyplot-content-div-FwYHmLp9uMW9RigPcy3oLh-dkgnbv68UFkPZYgTnpihVp\">\n                <span class=\"ipyplot-img-expand\"/>\n            </a>\n        </div>\n    </div>\n    \n    <div class=\"ipyplot-placeholder-div-FwYHmLp9uMW9RigPcy3oLh\">\n        <div id=\"ipyplot-content-div-FwYHmLp9uMW9RigPcy3oLh-6NytRTtJ8et7tYYF9qpR27\" class=\"ipyplot-content-div-FwYHmLp9uMW9RigPcy3oLh\">\n            <h4 style=\"font-size: 12px; word-wrap: break-word;\">id: B009OH2U8U, score: -0.00044275289473265746</h4>\n            <h4 style=\"font-size: 9px; padding-left: 10px; padding-right: 10px; width: 95%; word-wrap: break-word; white-space: normal;\">http://images.amazon.com/images/P/B009OH2U8U.01._SCLZZZZZZZ_.jpg</h4><img src=\"http://images.amazon.com/images/P/B009OH2U8U.01._SCLZZZZZZZ_.jpg\"/>\n            <a href=\"#!\">\n                <span class=\"ipyplot-img-close\"/>\n            </a>\n            <a href=\"#ipyplot-content-div-FwYHmLp9uMW9RigPcy3oLh-6NytRTtJ8et7tYYF9qpR27\">\n                <span class=\"ipyplot-img-expand\"/>\n            </a>\n        </div>\n    </div>\n    \n    <div class=\"ipyplot-placeholder-div-FwYHmLp9uMW9RigPcy3oLh\">\n        <div id=\"ipyplot-content-div-FwYHmLp9uMW9RigPcy3oLh-DRgANeUgeFtZRxc34gpZjo\" class=\"ipyplot-content-div-FwYHmLp9uMW9RigPcy3oLh\">\n            <h4 style=\"font-size: 12px; word-wrap: break-word;\">id: 1449993974, score: -0.0004923991122020387</h4>\n            <h4 style=\"font-size: 9px; padding-left: 10px; padding-right: 10px; width: 95%; word-wrap: break-word; white-space: normal;\">http://images.amazon.com/images/P/1449993974.01._SCLZZZZZZZ_.jpg</h4><img src=\"http://images.amazon.com/images/P/1449993974.01._SCLZZZZZZZ_.jpg\"/>\n            <a href=\"#!\">\n                <span class=\"ipyplot-img-close\"/>\n            </a>\n            <a href=\"#ipyplot-content-div-FwYHmLp9uMW9RigPcy3oLh-DRgANeUgeFtZRxc34gpZjo\">\n                <span class=\"ipyplot-img-expand\"/>\n            </a>\n        </div>\n    </div>\n    \n    <div class=\"ipyplot-placeholder-div-FwYHmLp9uMW9RigPcy3oLh\">\n        <div id=\"ipyplot-content-div-FwYHmLp9uMW9RigPcy3oLh-MCXjirnDMAPT3ULeMekhvL\" class=\"ipyplot-content-div-FwYHmLp9uMW9RigPcy3oLh\">\n            <h4 style=\"font-size: 12px; word-wrap: break-word;\">id: B00AOG8I3Q, score: -0.0005953207404722077</h4>\n            <h4 style=\"font-size: 9px; padding-left: 10px; padding-right: 10px; width: 95%; word-wrap: break-word; white-space: normal;\">http://images.amazon.com/images/P/B00AOG8I3Q.01._SCLZZZZZZZ_.jpg</h4><img src=\"http://images.amazon.com/images/P/B00AOG8I3Q.01._SCLZZZZZZZ_.jpg\"/>\n            <a href=\"#!\">\n                <span class=\"ipyplot-img-close\"/>\n            </a>\n            <a href=\"#ipyplot-content-div-FwYHmLp9uMW9RigPcy3oLh-MCXjirnDMAPT3ULeMekhvL\">\n                <span class=\"ipyplot-img-expand\"/>\n            </a>\n        </div>\n    </div>\n    \n    <div class=\"ipyplot-placeholder-div-FwYHmLp9uMW9RigPcy3oLh\">\n        <div id=\"ipyplot-content-div-FwYHmLp9uMW9RigPcy3oLh-Uv5gNcnEZoxjAz6tKfC9Ht\" class=\"ipyplot-content-div-FwYHmLp9uMW9RigPcy3oLh\">\n            <h4 style=\"font-size: 12px; word-wrap: break-word;\">id: 1449517684, score: -0.0006035132272445817</h4>\n            <h4 style=\"font-size: 9px; padding-left: 10px; padding-right: 10px; width: 95%; word-wrap: break-word; white-space: normal;\">http://images.amazon.com/images/P/1449517684.01._SCLZZZZZZZ_.jpg</h4><img src=\"http://images.amazon.com/images/P/1449517684.01._SCLZZZZZZZ_.jpg\"/>\n            <a href=\"#!\">\n                <span class=\"ipyplot-img-close\"/>\n            </a>\n            <a href=\"#ipyplot-content-div-FwYHmLp9uMW9RigPcy3oLh-Uv5gNcnEZoxjAz6tKfC9Ht\">\n                <span class=\"ipyplot-img-expand\"/>\n            </a>\n        </div>\n    </div>\n    \n    <div class=\"ipyplot-placeholder-div-FwYHmLp9uMW9RigPcy3oLh\">\n        <div id=\"ipyplot-content-div-FwYHmLp9uMW9RigPcy3oLh-N8tRfpQrBXj4NXcat27ayt\" class=\"ipyplot-content-div-FwYHmLp9uMW9RigPcy3oLh\">\n            <h4 style=\"font-size: 12px; word-wrap: break-word;\">id: B00A9HW1CY, score: -0.0006156811632597981</h4>\n            <h4 style=\"font-size: 9px; padding-left: 10px; padding-right: 10px; width: 95%; word-wrap: break-word; white-space: normal;\">http://images.amazon.com/images/P/B00A9HW1CY.01._SCLZZZZZZZ_.jpg</h4><img src=\"http://images.amazon.com/images/P/B00A9HW1CY.01._SCLZZZZZZZ_.jpg\"/>\n            <a href=\"#!\">\n                <span class=\"ipyplot-img-close\"/>\n            </a>\n            <a href=\"#ipyplot-content-div-FwYHmLp9uMW9RigPcy3oLh-N8tRfpQrBXj4NXcat27ayt\">\n                <span class=\"ipyplot-img-expand\"/>\n            </a>\n        </div>\n    </div>\n    \n    <div class=\"ipyplot-placeholder-div-FwYHmLp9uMW9RigPcy3oLh\">\n        <div id=\"ipyplot-content-div-FwYHmLp9uMW9RigPcy3oLh-YhRYDRzj3GdK3AiVFJ8K2V\" class=\"ipyplot-content-div-FwYHmLp9uMW9RigPcy3oLh\">\n            <h4 style=\"font-size: 12px; word-wrap: break-word;\">id: 0345308077, score: -0.0006203334049353994</h4>\n            <h4 style=\"font-size: 9px; padding-left: 10px; padding-right: 10px; width: 95%; word-wrap: break-word; white-space: normal;\">http://images.amazon.com/images/P/0345308077.01._SCLZZZZZZZ_.jpg</h4><img src=\"http://images.amazon.com/images/P/0345308077.01._SCLZZZZZZZ_.jpg\"/>\n            <a href=\"#!\">\n                <span class=\"ipyplot-img-close\"/>\n            </a>\n            <a href=\"#ipyplot-content-div-FwYHmLp9uMW9RigPcy3oLh-YhRYDRzj3GdK3AiVFJ8K2V\">\n                <span class=\"ipyplot-img-expand\"/>\n            </a>\n        </div>\n    </div>\n    </div>\n        </textarea>\n    </div>\n    ",
      "text/plain": "<IPython.core.display.HTML object>"
     },
     "metadata": {},
     "output_type": "display_data"
    },
    {
     "data": {
      "text/html": "\n        <style>\n        #ipyplot-imgs-container-div-FwYHmLp9uMW9RigPcy3oLh {\n            width: 100%;\n            height: 100%;\n            margin: 0%;\n            overflow: auto;\n            position: relative;\n            overflow-y: scroll;\n        }\n\n        div.ipyplot-placeholder-div-FwYHmLp9uMW9RigPcy3oLh {\n            width: 150px;\n            display: inline-block;\n            margin: 3px;\n            position: relative;\n        }\n\n        div.ipyplot-content-div-FwYHmLp9uMW9RigPcy3oLh {\n            width: 150px;\n            background: white;\n            display: inline-block;\n            vertical-align: top;\n            text-align: center;\n            position: relative;\n            border: 2px solid #ddd;\n            top: 0;\n            left: 0;\n        }\n\n        div.ipyplot-content-div-FwYHmLp9uMW9RigPcy3oLh span.ipyplot-img-close {\n            display: none;\n        }\n\n        div.ipyplot-content-div-FwYHmLp9uMW9RigPcy3oLh span {\n            width: 100%;\n            height: 100%;\n            position: absolute;\n            top: 0;\n            left: 0;\n        }\n\n        div.ipyplot-content-div-FwYHmLp9uMW9RigPcy3oLh img {\n            width: 150px;\n        }\n\n        div.ipyplot-content-div-FwYHmLp9uMW9RigPcy3oLh span.ipyplot-img-close:hover {\n            cursor: zoom-out;\n        }\n        div.ipyplot-content-div-FwYHmLp9uMW9RigPcy3oLh span.ipyplot-img-expand:hover {\n            cursor: zoom-in;\n        }\n\n        div[id^=ipyplot-content-div-FwYHmLp9uMW9RigPcy3oLh]:target {\n            transform: scale(2.5);\n            transform-origin: left top;\n            z-index: 5000;\n            top: 0;\n            left: 0;\n            position: absolute;\n        }\n\n        div[id^=ipyplot-content-div-FwYHmLp9uMW9RigPcy3oLh]:target span.ipyplot-img-close {\n            display: block;\n        }\n\n        div[id^=ipyplot-content-div-FwYHmLp9uMW9RigPcy3oLh]:target span.ipyplot-img-expand {\n            display: none;\n        }\n        </style>\n    <div id=\"ipyplot-imgs-container-div-FwYHmLp9uMW9RigPcy3oLh\">\n    <div class=\"ipyplot-placeholder-div-FwYHmLp9uMW9RigPcy3oLh\">\n        <div id=\"ipyplot-content-div-FwYHmLp9uMW9RigPcy3oLh-czPVuxibdSbD9VRPiPGBMh\" class=\"ipyplot-content-div-FwYHmLp9uMW9RigPcy3oLh\">\n            <h4 style=\"font-size: 12px; word-wrap: break-word;\">id: 0451205618, score: 0.44621006838016875</h4>\n            <h4 style=\"font-size: 9px; padding-left: 10px; padding-right: 10px; width: 95%; word-wrap: break-word; white-space: normal;\">http://images.amazon.com/images/P/0451205618.01._SCLZZZZZZZ_.jpg</h4><img src=\"http://images.amazon.com/images/P/0451205618.01._SCLZZZZZZZ_.jpg\"/>\n            <a href=\"#!\">\n                <span class=\"ipyplot-img-close\"/>\n            </a>\n            <a href=\"#ipyplot-content-div-FwYHmLp9uMW9RigPcy3oLh-czPVuxibdSbD9VRPiPGBMh\">\n                <span class=\"ipyplot-img-expand\"/>\n            </a>\n        </div>\n    </div>\n    \n    <div class=\"ipyplot-placeholder-div-FwYHmLp9uMW9RigPcy3oLh\">\n        <div id=\"ipyplot-content-div-FwYHmLp9uMW9RigPcy3oLh-2YSr2zybCDqZXkheXnCu59\" class=\"ipyplot-content-div-FwYHmLp9uMW9RigPcy3oLh\">\n            <h4 style=\"font-size: 12px; word-wrap: break-word;\">id: 0451201701, score: 0.42453520229194325</h4>\n            <h4 style=\"font-size: 9px; padding-left: 10px; padding-right: 10px; width: 95%; word-wrap: break-word; white-space: normal;\">http://images.amazon.com/images/P/0451201701.01._SCLZZZZZZZ_.jpg</h4><img src=\"http://images.amazon.com/images/P/0451201701.01._SCLZZZZZZZ_.jpg\"/>\n            <a href=\"#!\">\n                <span class=\"ipyplot-img-close\"/>\n            </a>\n            <a href=\"#ipyplot-content-div-FwYHmLp9uMW9RigPcy3oLh-2YSr2zybCDqZXkheXnCu59\">\n                <span class=\"ipyplot-img-expand\"/>\n            </a>\n        </div>\n    </div>\n    \n    <div class=\"ipyplot-placeholder-div-FwYHmLp9uMW9RigPcy3oLh\">\n        <div id=\"ipyplot-content-div-FwYHmLp9uMW9RigPcy3oLh-GRQn9M3DEofeYNyQJ7S9cE\" class=\"ipyplot-content-div-FwYHmLp9uMW9RigPcy3oLh\">\n            <h4 style=\"font-size: 12px; word-wrap: break-word;\">id: 0451206789, score: 0.35165810008422765</h4>\n            <h4 style=\"font-size: 9px; padding-left: 10px; padding-right: 10px; width: 95%; word-wrap: break-word; white-space: normal;\">http://images.amazon.com/images/P/0451206789.01._SCLZZZZZZZ_.jpg</h4><img src=\"http://images.amazon.com/images/P/0451206789.01._SCLZZZZZZZ_.jpg\"/>\n            <a href=\"#!\">\n                <span class=\"ipyplot-img-close\"/>\n            </a>\n            <a href=\"#ipyplot-content-div-FwYHmLp9uMW9RigPcy3oLh-GRQn9M3DEofeYNyQJ7S9cE\">\n                <span class=\"ipyplot-img-expand\"/>\n            </a>\n        </div>\n    </div>\n    \n    <div class=\"ipyplot-placeholder-div-FwYHmLp9uMW9RigPcy3oLh\">\n        <div id=\"ipyplot-content-div-FwYHmLp9uMW9RigPcy3oLh-n7ZGxjkeEQpWg6AGDNM2Tv\" class=\"ipyplot-content-div-FwYHmLp9uMW9RigPcy3oLh\">\n            <h4 style=\"font-size: 12px; word-wrap: break-word;\">id: 0451206959, score: 0.298361462473656</h4>\n            <h4 style=\"font-size: 9px; padding-left: 10px; padding-right: 10px; width: 95%; word-wrap: break-word; white-space: normal;\">http://images.amazon.com/images/P/0451206959.01._SCLZZZZZZZ_.jpg</h4><img src=\"http://images.amazon.com/images/P/0451206959.01._SCLZZZZZZZ_.jpg\"/>\n            <a href=\"#!\">\n                <span class=\"ipyplot-img-close\"/>\n            </a>\n            <a href=\"#ipyplot-content-div-FwYHmLp9uMW9RigPcy3oLh-n7ZGxjkeEQpWg6AGDNM2Tv\">\n                <span class=\"ipyplot-img-expand\"/>\n            </a>\n        </div>\n    </div>\n    \n    <div class=\"ipyplot-placeholder-div-FwYHmLp9uMW9RigPcy3oLh\">\n        <div id=\"ipyplot-content-div-FwYHmLp9uMW9RigPcy3oLh-hK2mhghx9rBZaH392X2Kmt\" class=\"ipyplot-content-div-FwYHmLp9uMW9RigPcy3oLh\">\n            <h4 style=\"font-size: 12px; word-wrap: break-word;\">id: 0380808331, score: 0.2779824050704852</h4>\n            <h4 style=\"font-size: 9px; padding-left: 10px; padding-right: 10px; width: 95%; word-wrap: break-word; white-space: normal;\">http://images.amazon.com/images/P/0380808331.01._SCLZZZZZZZ_.jpg</h4><img src=\"http://images.amazon.com/images/P/0380808331.01._SCLZZZZZZZ_.jpg\"/>\n            <a href=\"#!\">\n                <span class=\"ipyplot-img-close\"/>\n            </a>\n            <a href=\"#ipyplot-content-div-FwYHmLp9uMW9RigPcy3oLh-hK2mhghx9rBZaH392X2Kmt\">\n                <span class=\"ipyplot-img-expand\"/>\n            </a>\n        </div>\n    </div>\n    \n    <div class=\"ipyplot-placeholder-div-FwYHmLp9uMW9RigPcy3oLh\">\n        <div id=\"ipyplot-content-div-FwYHmLp9uMW9RigPcy3oLh-F68siFGWWUzmmT4L9kV8eh\" class=\"ipyplot-content-div-FwYHmLp9uMW9RigPcy3oLh\">\n            <h4 style=\"font-size: 12px; word-wrap: break-word;\">id: 0451201620, score: 0.26122177305778727</h4>\n            <h4 style=\"font-size: 9px; padding-left: 10px; padding-right: 10px; width: 95%; word-wrap: break-word; white-space: normal;\">http://images.amazon.com/images/P/0451201620.01._SCLZZZZZZZ_.jpg</h4><img src=\"http://images.amazon.com/images/P/0451201620.01._SCLZZZZZZZ_.jpg\"/>\n            <a href=\"#!\">\n                <span class=\"ipyplot-img-close\"/>\n            </a>\n            <a href=\"#ipyplot-content-div-FwYHmLp9uMW9RigPcy3oLh-F68siFGWWUzmmT4L9kV8eh\">\n                <span class=\"ipyplot-img-expand\"/>\n            </a>\n        </div>\n    </div>\n    \n    <div class=\"ipyplot-placeholder-div-FwYHmLp9uMW9RigPcy3oLh\">\n        <div id=\"ipyplot-content-div-FwYHmLp9uMW9RigPcy3oLh-9kUKvMQWoozpG3T6pTmCZK\" class=\"ipyplot-content-div-FwYHmLp9uMW9RigPcy3oLh\">\n            <h4 style=\"font-size: 12px; word-wrap: break-word;\">id: B007Q4LHVO, score: 0.24223612598998864</h4>\n            <h4 style=\"font-size: 9px; padding-left: 10px; padding-right: 10px; width: 95%; word-wrap: break-word; white-space: normal;\">http://images.amazon.com/images/P/B007Q4LHVO.01._SCLZZZZZZZ_.jpg</h4><img src=\"http://images.amazon.com/images/P/B007Q4LHVO.01._SCLZZZZZZZ_.jpg\"/>\n            <a href=\"#!\">\n                <span class=\"ipyplot-img-close\"/>\n            </a>\n            <a href=\"#ipyplot-content-div-FwYHmLp9uMW9RigPcy3oLh-9kUKvMQWoozpG3T6pTmCZK\">\n                <span class=\"ipyplot-img-expand\"/>\n            </a>\n        </div>\n    </div>\n    \n    <div class=\"ipyplot-placeholder-div-FwYHmLp9uMW9RigPcy3oLh\">\n        <div id=\"ipyplot-content-div-FwYHmLp9uMW9RigPcy3oLh-WHyFwaHPKuE3prNJc5grHv\" class=\"ipyplot-content-div-FwYHmLp9uMW9RigPcy3oLh\">\n            <h4 style=\"font-size: 12px; word-wrap: break-word;\">id: B006N2VJCC, score: 0.2361656582485995</h4>\n            <h4 style=\"font-size: 9px; padding-left: 10px; padding-right: 10px; width: 95%; word-wrap: break-word; white-space: normal;\">http://images.amazon.com/images/P/B006N2VJCC.01._SCLZZZZZZZ_.jpg</h4><img src=\"http://images.amazon.com/images/P/B006N2VJCC.01._SCLZZZZZZZ_.jpg\"/>\n            <a href=\"#!\">\n                <span class=\"ipyplot-img-close\"/>\n            </a>\n            <a href=\"#ipyplot-content-div-FwYHmLp9uMW9RigPcy3oLh-WHyFwaHPKuE3prNJc5grHv\">\n                <span class=\"ipyplot-img-expand\"/>\n            </a>\n        </div>\n    </div>\n    \n    <div class=\"ipyplot-placeholder-div-FwYHmLp9uMW9RigPcy3oLh\">\n        <div id=\"ipyplot-content-div-FwYHmLp9uMW9RigPcy3oLh-QNusA8E7bxRk7sBSJAgbkG\" class=\"ipyplot-content-div-FwYHmLp9uMW9RigPcy3oLh\">\n            <h4 style=\"font-size: 12px; word-wrap: break-word;\">id: 0380772280, score: 0.21958955595116705</h4>\n            <h4 style=\"font-size: 9px; padding-left: 10px; padding-right: 10px; width: 95%; word-wrap: break-word; white-space: normal;\">http://images.amazon.com/images/P/0380772280.01._SCLZZZZZZZ_.jpg</h4><img src=\"http://images.amazon.com/images/P/0380772280.01._SCLZZZZZZZ_.jpg\"/>\n            <a href=\"#!\">\n                <span class=\"ipyplot-img-close\"/>\n            </a>\n            <a href=\"#ipyplot-content-div-FwYHmLp9uMW9RigPcy3oLh-QNusA8E7bxRk7sBSJAgbkG\">\n                <span class=\"ipyplot-img-expand\"/>\n            </a>\n        </div>\n    </div>\n    \n    <div class=\"ipyplot-placeholder-div-FwYHmLp9uMW9RigPcy3oLh\">\n        <div id=\"ipyplot-content-div-FwYHmLp9uMW9RigPcy3oLh-FPpSrDL3wKSXUFHiz4bvdt\" class=\"ipyplot-content-div-FwYHmLp9uMW9RigPcy3oLh\">\n            <h4 style=\"font-size: 12px; word-wrap: break-word;\">id: 0312979541, score: 0.20276073420828922</h4>\n            <h4 style=\"font-size: 9px; padding-left: 10px; padding-right: 10px; width: 95%; word-wrap: break-word; white-space: normal;\">http://images.amazon.com/images/P/0312979541.01._SCLZZZZZZZ_.jpg</h4><img src=\"http://images.amazon.com/images/P/0312979541.01._SCLZZZZZZZ_.jpg\"/>\n            <a href=\"#!\">\n                <span class=\"ipyplot-img-close\"/>\n            </a>\n            <a href=\"#ipyplot-content-div-FwYHmLp9uMW9RigPcy3oLh-FPpSrDL3wKSXUFHiz4bvdt\">\n                <span class=\"ipyplot-img-expand\"/>\n            </a>\n        </div>\n    </div>\n    \n    <div class=\"ipyplot-placeholder-div-FwYHmLp9uMW9RigPcy3oLh\">\n        <div id=\"ipyplot-content-div-FwYHmLp9uMW9RigPcy3oLh-Yaje5CHTerfmNWHJ6xKaiR\" class=\"ipyplot-content-div-FwYHmLp9uMW9RigPcy3oLh\">\n            <h4 style=\"font-size: 12px; word-wrap: break-word;\">id: 0987261959, score: 0.19952867323737092</h4>\n            <h4 style=\"font-size: 9px; padding-left: 10px; padding-right: 10px; width: 95%; word-wrap: break-word; white-space: normal;\">http://images.amazon.com/images/P/0987261959.01._SCLZZZZZZZ_.jpg</h4><img src=\"http://images.amazon.com/images/P/0987261959.01._SCLZZZZZZZ_.jpg\"/>\n            <a href=\"#!\">\n                <span class=\"ipyplot-img-close\"/>\n            </a>\n            <a href=\"#ipyplot-content-div-FwYHmLp9uMW9RigPcy3oLh-Yaje5CHTerfmNWHJ6xKaiR\">\n                <span class=\"ipyplot-img-expand\"/>\n            </a>\n        </div>\n    </div>\n    \n    <div class=\"ipyplot-placeholder-div-FwYHmLp9uMW9RigPcy3oLh\">\n        <div id=\"ipyplot-content-div-FwYHmLp9uMW9RigPcy3oLh-8tWZJqEwBwxiVTfpBwByH5\" class=\"ipyplot-content-div-FwYHmLp9uMW9RigPcy3oLh\">\n            <h4 style=\"font-size: 12px; word-wrap: break-word;\">id: 0425213455, score: 0.1373847496997758</h4>\n            <h4 style=\"font-size: 9px; padding-left: 10px; padding-right: 10px; width: 95%; word-wrap: break-word; white-space: normal;\">http://images.amazon.com/images/P/0425213455.01._SCLZZZZZZZ_.jpg</h4><img src=\"http://images.amazon.com/images/P/0425213455.01._SCLZZZZZZZ_.jpg\"/>\n            <a href=\"#!\">\n                <span class=\"ipyplot-img-close\"/>\n            </a>\n            <a href=\"#ipyplot-content-div-FwYHmLp9uMW9RigPcy3oLh-8tWZJqEwBwxiVTfpBwByH5\">\n                <span class=\"ipyplot-img-expand\"/>\n            </a>\n        </div>\n    </div>\n    \n    <div class=\"ipyplot-placeholder-div-FwYHmLp9uMW9RigPcy3oLh\">\n        <div id=\"ipyplot-content-div-FwYHmLp9uMW9RigPcy3oLh-H3rc7n8q4ksrMZ3eTnkEFx\" class=\"ipyplot-content-div-FwYHmLp9uMW9RigPcy3oLh\">\n            <h4 style=\"font-size: 12px; word-wrap: break-word;\">id: 0451207319, score: 0.0</h4>\n            <h4 style=\"font-size: 9px; padding-left: 10px; padding-right: 10px; width: 95%; word-wrap: break-word; white-space: normal;\">http://images.amazon.com/images/P/0451207319.01._SCLZZZZZZZ_.jpg</h4><img src=\"http://images.amazon.com/images/P/0451207319.01._SCLZZZZZZZ_.jpg\"/>\n            <a href=\"#!\">\n                <span class=\"ipyplot-img-close\"/>\n            </a>\n            <a href=\"#ipyplot-content-div-FwYHmLp9uMW9RigPcy3oLh-H3rc7n8q4ksrMZ3eTnkEFx\">\n                <span class=\"ipyplot-img-expand\"/>\n            </a>\n        </div>\n    </div>\n    \n    <div class=\"ipyplot-placeholder-div-FwYHmLp9uMW9RigPcy3oLh\">\n        <div id=\"ipyplot-content-div-FwYHmLp9uMW9RigPcy3oLh-dkgnbv68UFkPZYgTnpihVp\" class=\"ipyplot-content-div-FwYHmLp9uMW9RigPcy3oLh\">\n            <h4 style=\"font-size: 12px; word-wrap: break-word;\">id: 0380775506, score: -0.00044024503282066694</h4>\n            <h4 style=\"font-size: 9px; padding-left: 10px; padding-right: 10px; width: 95%; word-wrap: break-word; white-space: normal;\">http://images.amazon.com/images/P/0380775506.01._SCLZZZZZZZ_.jpg</h4><img src=\"http://images.amazon.com/images/P/0380775506.01._SCLZZZZZZZ_.jpg\"/>\n            <a href=\"#!\">\n                <span class=\"ipyplot-img-close\"/>\n            </a>\n            <a href=\"#ipyplot-content-div-FwYHmLp9uMW9RigPcy3oLh-dkgnbv68UFkPZYgTnpihVp\">\n                <span class=\"ipyplot-img-expand\"/>\n            </a>\n        </div>\n    </div>\n    \n    <div class=\"ipyplot-placeholder-div-FwYHmLp9uMW9RigPcy3oLh\">\n        <div id=\"ipyplot-content-div-FwYHmLp9uMW9RigPcy3oLh-6NytRTtJ8et7tYYF9qpR27\" class=\"ipyplot-content-div-FwYHmLp9uMW9RigPcy3oLh\">\n            <h4 style=\"font-size: 12px; word-wrap: break-word;\">id: B009OH2U8U, score: -0.00044275289473265746</h4>\n            <h4 style=\"font-size: 9px; padding-left: 10px; padding-right: 10px; width: 95%; word-wrap: break-word; white-space: normal;\">http://images.amazon.com/images/P/B009OH2U8U.01._SCLZZZZZZZ_.jpg</h4><img src=\"http://images.amazon.com/images/P/B009OH2U8U.01._SCLZZZZZZZ_.jpg\"/>\n            <a href=\"#!\">\n                <span class=\"ipyplot-img-close\"/>\n            </a>\n            <a href=\"#ipyplot-content-div-FwYHmLp9uMW9RigPcy3oLh-6NytRTtJ8et7tYYF9qpR27\">\n                <span class=\"ipyplot-img-expand\"/>\n            </a>\n        </div>\n    </div>\n    \n    <div class=\"ipyplot-placeholder-div-FwYHmLp9uMW9RigPcy3oLh\">\n        <div id=\"ipyplot-content-div-FwYHmLp9uMW9RigPcy3oLh-DRgANeUgeFtZRxc34gpZjo\" class=\"ipyplot-content-div-FwYHmLp9uMW9RigPcy3oLh\">\n            <h4 style=\"font-size: 12px; word-wrap: break-word;\">id: 1449993974, score: -0.0004923991122020387</h4>\n            <h4 style=\"font-size: 9px; padding-left: 10px; padding-right: 10px; width: 95%; word-wrap: break-word; white-space: normal;\">http://images.amazon.com/images/P/1449993974.01._SCLZZZZZZZ_.jpg</h4><img src=\"http://images.amazon.com/images/P/1449993974.01._SCLZZZZZZZ_.jpg\"/>\n            <a href=\"#!\">\n                <span class=\"ipyplot-img-close\"/>\n            </a>\n            <a href=\"#ipyplot-content-div-FwYHmLp9uMW9RigPcy3oLh-DRgANeUgeFtZRxc34gpZjo\">\n                <span class=\"ipyplot-img-expand\"/>\n            </a>\n        </div>\n    </div>\n    \n    <div class=\"ipyplot-placeholder-div-FwYHmLp9uMW9RigPcy3oLh\">\n        <div id=\"ipyplot-content-div-FwYHmLp9uMW9RigPcy3oLh-MCXjirnDMAPT3ULeMekhvL\" class=\"ipyplot-content-div-FwYHmLp9uMW9RigPcy3oLh\">\n            <h4 style=\"font-size: 12px; word-wrap: break-word;\">id: B00AOG8I3Q, score: -0.0005953207404722077</h4>\n            <h4 style=\"font-size: 9px; padding-left: 10px; padding-right: 10px; width: 95%; word-wrap: break-word; white-space: normal;\">http://images.amazon.com/images/P/B00AOG8I3Q.01._SCLZZZZZZZ_.jpg</h4><img src=\"http://images.amazon.com/images/P/B00AOG8I3Q.01._SCLZZZZZZZ_.jpg\"/>\n            <a href=\"#!\">\n                <span class=\"ipyplot-img-close\"/>\n            </a>\n            <a href=\"#ipyplot-content-div-FwYHmLp9uMW9RigPcy3oLh-MCXjirnDMAPT3ULeMekhvL\">\n                <span class=\"ipyplot-img-expand\"/>\n            </a>\n        </div>\n    </div>\n    \n    <div class=\"ipyplot-placeholder-div-FwYHmLp9uMW9RigPcy3oLh\">\n        <div id=\"ipyplot-content-div-FwYHmLp9uMW9RigPcy3oLh-Uv5gNcnEZoxjAz6tKfC9Ht\" class=\"ipyplot-content-div-FwYHmLp9uMW9RigPcy3oLh\">\n            <h4 style=\"font-size: 12px; word-wrap: break-word;\">id: 1449517684, score: -0.0006035132272445817</h4>\n            <h4 style=\"font-size: 9px; padding-left: 10px; padding-right: 10px; width: 95%; word-wrap: break-word; white-space: normal;\">http://images.amazon.com/images/P/1449517684.01._SCLZZZZZZZ_.jpg</h4><img src=\"http://images.amazon.com/images/P/1449517684.01._SCLZZZZZZZ_.jpg\"/>\n            <a href=\"#!\">\n                <span class=\"ipyplot-img-close\"/>\n            </a>\n            <a href=\"#ipyplot-content-div-FwYHmLp9uMW9RigPcy3oLh-Uv5gNcnEZoxjAz6tKfC9Ht\">\n                <span class=\"ipyplot-img-expand\"/>\n            </a>\n        </div>\n    </div>\n    \n    <div class=\"ipyplot-placeholder-div-FwYHmLp9uMW9RigPcy3oLh\">\n        <div id=\"ipyplot-content-div-FwYHmLp9uMW9RigPcy3oLh-N8tRfpQrBXj4NXcat27ayt\" class=\"ipyplot-content-div-FwYHmLp9uMW9RigPcy3oLh\">\n            <h4 style=\"font-size: 12px; word-wrap: break-word;\">id: B00A9HW1CY, score: -0.0006156811632597981</h4>\n            <h4 style=\"font-size: 9px; padding-left: 10px; padding-right: 10px; width: 95%; word-wrap: break-word; white-space: normal;\">http://images.amazon.com/images/P/B00A9HW1CY.01._SCLZZZZZZZ_.jpg</h4><img src=\"http://images.amazon.com/images/P/B00A9HW1CY.01._SCLZZZZZZZ_.jpg\"/>\n            <a href=\"#!\">\n                <span class=\"ipyplot-img-close\"/>\n            </a>\n            <a href=\"#ipyplot-content-div-FwYHmLp9uMW9RigPcy3oLh-N8tRfpQrBXj4NXcat27ayt\">\n                <span class=\"ipyplot-img-expand\"/>\n            </a>\n        </div>\n    </div>\n    \n    <div class=\"ipyplot-placeholder-div-FwYHmLp9uMW9RigPcy3oLh\">\n        <div id=\"ipyplot-content-div-FwYHmLp9uMW9RigPcy3oLh-YhRYDRzj3GdK3AiVFJ8K2V\" class=\"ipyplot-content-div-FwYHmLp9uMW9RigPcy3oLh\">\n            <h4 style=\"font-size: 12px; word-wrap: break-word;\">id: 0345308077, score: -0.0006203334049353994</h4>\n            <h4 style=\"font-size: 9px; padding-left: 10px; padding-right: 10px; width: 95%; word-wrap: break-word; white-space: normal;\">http://images.amazon.com/images/P/0345308077.01._SCLZZZZZZZ_.jpg</h4><img src=\"http://images.amazon.com/images/P/0345308077.01._SCLZZZZZZZ_.jpg\"/>\n            <a href=\"#!\">\n                <span class=\"ipyplot-img-close\"/>\n            </a>\n            <a href=\"#ipyplot-content-div-FwYHmLp9uMW9RigPcy3oLh-YhRYDRzj3GdK3AiVFJ8K2V\">\n                <span class=\"ipyplot-img-expand\"/>\n            </a>\n        </div>\n    </div>\n    </div>",
      "text/plain": "<IPython.core.display.HTML object>"
     },
     "metadata": {},
     "output_type": "display_data"
    }
   ],
   "source": [
    "# predict based on this item\n",
    "k = 20\n",
    "\n",
    "sample_csr = sp.csr_matrix(\n",
    "    (sample_feedback, sample_item, [0, len(sample_item)]),\n",
    "    shape=(1, train.n_items),\n",
    ")\n",
    "\n",
    "top_k_item_ids, top_k_scores = model.recommend(interactions=sample_csr, k=k, mask_input=True)\n",
    "top_k_item_ids, top_k_scores = top_k_item_ids.reshape(-1), top_k_scores.reshape(-1)\n",
    "top_k_scores /= np.linalg.norm(top_k_scores)\n",
    "# translate predicted item_ids to ASINS\n",
    "top_k_asins = np.vectorize(item2asin.get)(top_k_item_ids)\n",
    "\n",
    "# display predicted items\n",
    "urls = []\n",
    "asins = top_k_asins[:MAX_IMAGES_REC]\n",
    "print(\"Recommendations\")\n",
    "ipyplot.plot_images(\n",
    "    [url_pattern.replace(\"ASIN\", asin) for asin in asins],\n",
    "    labels=[f\"id: {i}, score: {s}\" for i, s in list(zip(asins, top_k_scores))],\n",
    "    img_width=IMG_WIDTH,\n",
    ")"
   ]
  }
 ],
 "metadata": {
  "colab": {
   "provenance": [],
   "toc_visible": true
  },
  "kernelspec": {
   "display_name": "Python 3 (ipykernel)",
   "language": "python",
   "name": "python3"
  },
  "language_info": {
   "name": "python"
  }
 },
 "nbformat": 4,
 "nbformat_minor": 0
}
